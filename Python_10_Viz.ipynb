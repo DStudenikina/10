{
  "nbformat": 4,
  "nbformat_minor": 0,
  "metadata": {
    "colab": {
      "provenance": []
    },
    "kernelspec": {
      "name": "python3",
      "display_name": "Python 3"
    },
    "language_info": {
      "name": "python"
    }
  },
  "cells": [
    {
      "cell_type": "markdown",
      "source": [
        "#Matplotlib, seaborn и др."
      ],
      "metadata": {
        "id": "F797-kz5_wPK"
      }
    },
    {
      "cell_type": "code",
      "source": [
        "# библиотеки и импорты разом (новые):\n",
        "!pip install matplotlib\n",
        "!pip install seaborn\n",
        "# % для VS Code\n",
        "\n",
        "import pandas as pd\n",
        "import matplotlib.pyplot as plt # традиционное сокращение\n",
        "from matplotlib import cm\n",
        "import matplotlib.ticker as ticker\n",
        "import seaborn as sns"
      ],
      "metadata": {
        "id": "q9DvGC8H4_Dl"
      },
      "execution_count": null,
      "outputs": []
    },
    {
      "cell_type": "code",
      "source": [
        "# здесь пакет всего и сразу, чтобы практику сделать в этой тетрадке, а не в отдельной\n",
        "\n",
        "!pip install pymorphy3 # для Colab\n",
        "import nltk\n",
        "from nltk.tokenize import word_tokenize\n",
        "from nltk import download # для Colab\n",
        "download('punkt_tab') # для Colab\n",
        "download('stopwords') # для Colab\n",
        "from nltk.corpus import stopwords\n",
        "stop_words = stopwords.words('russian') + ['это', 'всё', 'свой', 'весь', 'вроде']\n",
        "from collections import Counter\n",
        "import pymorphy3\n",
        "from pymorphy3 import MorphAnalyzer\n",
        "morph = MorphAnalyzer()\n",
        "from pymystem3 import Mystem\n",
        "mystem = Mystem()\n",
        "\n",
        "def lemm_pymorphy(text):\n",
        "  text_list_nltk = word_tokenize(text.lower())\n",
        "  text_clean = [word for word in text_list_nltk if word not in stop_words and word[0].isalpha()]\n",
        "  lemm = [morph.parse(word)[0].normal_form for word in text_clean]\n",
        "  return lemm\n",
        "\n",
        "def lemm_mystem(text):\n",
        "  lemm = mystem.lemmatize(text)\n",
        "  lemm_clean = [word for word in lemm if word not in stop_words and word[0].isalpha()]\n",
        "  return lemm_clean"
      ],
      "metadata": {
        "id": "t3uS9gEH0Smy"
      },
      "execution_count": null,
      "outputs": []
    },
    {
      "cell_type": "markdown",
      "source": [
        "## Matplotlib"
      ],
      "metadata": {
        "id": "KwwJQYJed7WL"
      }
    },
    {
      "cell_type": "markdown",
      "source": [
        "Matplotlib -- это одна из классических библиотек для визуализации данных в Python\n"
      ],
      "metadata": {
        "id": "gugGrkKPAOCz"
      }
    },
    {
      "cell_type": "code",
      "execution_count": null,
      "metadata": {
        "id": "PHyBaqs5YV_N"
      },
      "outputs": [],
      "source": [
        "# !pip install matplotlib # ячейка установки библиотеки в первый раз"
      ]
    },
    {
      "cell_type": "markdown",
      "source": [
        "Визуализации в MatPlotLib обычно делают с помощью `pyplot`\n",
        "— специального объекта, методы которого позволяют создавать и изменять графики. Импортируем его:"
      ],
      "metadata": {
        "id": "FYwXg03dAaY-"
      }
    },
    {
      "cell_type": "code",
      "source": [
        "import matplotlib.pyplot as plt # традиционное сокращение\n",
        "import pandas as pd"
      ],
      "metadata": {
        "id": "j-yqDoObAYw5"
      },
      "execution_count": null,
      "outputs": []
    },
    {
      "cell_type": "markdown",
      "source": [
        "## Датасет"
      ],
      "metadata": {
        "id": "vv7N8QfkBf6W"
      }
    },
    {
      "cell_type": "code",
      "source": [
        "covid = pd.read_csv('https://raw.githubusercontent.com/AnnSenina/Python_CL_2024/refs/heads/main/data/cases_regions_2022-02-03.csv', sep=';')\n",
        "covid"
      ],
      "metadata": {
        "id": "CTQ-jHuIQSxw"
      },
      "execution_count": null,
      "outputs": []
    },
    {
      "cell_type": "code",
      "source": [
        "covid['Москва'][660:691] #январь 2022"
      ],
      "metadata": {
        "id": "nNHINK3BQthN"
      },
      "execution_count": null,
      "outputs": []
    },
    {
      "cell_type": "code",
      "source": [
        "plt.plot(covid['Москва'][660:691]) # plot - линейный график\n",
        "plt.show()"
      ],
      "metadata": {
        "id": "Chh_lVQaRJQV"
      },
      "execution_count": null,
      "outputs": []
    },
    {
      "cell_type": "code",
      "source": [
        "plt.plot(covid['Москва'][660:691]); # ; == plt.show()\n",
        "# можно не писать plt.show(), а сразу заканчивать график знаком ;"
      ],
      "metadata": {
        "id": "C0iFgpsvJQZQ"
      },
      "execution_count": null,
      "outputs": []
    },
    {
      "cell_type": "code",
      "source": [
        "plt.plot(covid['Москва'][660:691]) #plot - линейный график\n",
        "plt.savefig('my_covid_plot') # создаст png"
      ],
      "metadata": {
        "id": "vmyD0vP6Rnol"
      },
      "execution_count": null,
      "outputs": []
    },
    {
      "cell_type": "code",
      "source": [
        "plt.plot(\n",
        "    [f'{i}' for i in range(1, 32)], # сгенерируем подписи по оси x\n",
        "    covid['Москва'][660:691] # ось Y\n",
        "    )\n",
        "plt.show()"
      ],
      "metadata": {
        "id": "KhIGVpAhTAIo"
      },
      "execution_count": null,
      "outputs": []
    },
    {
      "cell_type": "markdown",
      "source": [
        "Данные расположились по оси y\n",
        "\n",
        "Добавим красивые подписи по оси х: отобразить подписи вертикально внутри .plot нельзя. Для этого есть отдельный метод под названием xticks:"
      ],
      "metadata": {
        "id": "kRStui0XStFN"
      }
    },
    {
      "cell_type": "code",
      "source": [
        "plt.plot(\n",
        "    [f'{i} янв' for i in range(1, 32)], # ось X с подписями\n",
        "    covid['Москва'][660:691] # ось Y\n",
        "    )\n",
        "plt.xticks(rotation=90) # показать подписи вертикально = под углом 90 градусов\n",
        "plt.show()"
      ],
      "metadata": {
        "id": "pyHEosuiR25X"
      },
      "execution_count": null,
      "outputs": []
    },
    {
      "cell_type": "code",
      "source": [
        "plt.plot(\n",
        "    [f'{i} января' for i in range(1, 32)], # ось X\n",
        "    covid['Москва'][660:691] # ось Y\n",
        "    )\n",
        "plt.xticks(rotation=45)\n",
        "plt.show()"
      ],
      "metadata": {
        "id": "NiP4CtHNBqsA"
      },
      "execution_count": null,
      "outputs": []
    },
    {
      "cell_type": "code",
      "source": [
        "plt.plot(\n",
        "    [f'{i} янв' for i in range(1, 32)], # ось X\n",
        "    covid['Москва'][660:691], # ось Y\n",
        "    marker='o' # через запятую добавлели маркеры - точки\n",
        "    )\n",
        "plt.xticks(rotation=90)\n",
        "plt.show()"
      ],
      "metadata": {
        "id": "YGejdxH6Tg8l"
      },
      "execution_count": null,
      "outputs": []
    },
    {
      "cell_type": "code",
      "source": [
        "# запись можно сократить и упростить\n",
        "\n",
        "x = [f'{i} янв' for i in range(1, 32)]\n",
        "y = covid['Москва'][660:691]\n",
        "\n",
        "plt.plot(x, y, marker='o')\n",
        "plt.xticks(rotation=90)\n",
        "plt.show()"
      ],
      "metadata": {
        "id": "3MBqbTSxU9Y4"
      },
      "execution_count": null,
      "outputs": []
    },
    {
      "cell_type": "code",
      "source": [
        "# сравним:\n",
        "\n",
        "x = [f'{i} янв' for i in range(1, 32)]\n",
        "y = covid['Москва'][660:691]\n",
        "\n",
        "plt.plot(x, y, 'o') # точки, без линии\n",
        "plt.xticks(rotation=90)\n",
        "plt.show()"
      ],
      "metadata": {
        "id": "AOoCqZchVJe4"
      },
      "execution_count": null,
      "outputs": []
    },
    {
      "cell_type": "code",
      "source": [
        "x = [f'{i} янв' for i in range(1, 32)]\n",
        "y = covid['Москва'][660:691]\n",
        "\n",
        "plt.plot(x, y, 'ro') # угадайте, что значит ro?\n",
        "plt.xticks(rotation=90)\n",
        "plt.show()"
      ],
      "metadata": {
        "id": "0upPrCTJUfBK"
      },
      "execution_count": null,
      "outputs": []
    },
    {
      "cell_type": "code",
      "source": [
        "x = [f'{i} янв' for i in range(1, 32)]\n",
        "y = covid['Москва'][660:691]\n",
        "\n",
        "plt.plot(x, y, 'g^')\n",
        "plt.xticks(rotation=90)\n",
        "plt.show()"
      ],
      "metadata": {
        "id": "xwPxzLTPVS4V"
      },
      "execution_count": null,
      "outputs": []
    },
    {
      "cell_type": "code",
      "source": [
        "x = [f'{i} янв' for i in range(1, 32)]\n",
        "y = covid['Москва'][660:691]\n",
        "\n",
        "plt.plot(x, y, marker = 's', linestyle = ':', color = 'orange')\n",
        "plt.xticks(rotation=90)\n",
        "plt.show()"
      ],
      "metadata": {
        "id": "TXBqlwR_Vqyi"
      },
      "execution_count": null,
      "outputs": []
    },
    {
      "cell_type": "code",
      "source": [
        "import matplotlib.ticker as ticker\n",
        "# здесь: https://matplotlib.org/stable/api/ticker_api.html\n",
        "\n",
        "x = [f'{i} янв' for i in range(1, 32)]\n",
        "y = covid['Москва'][660:691]\n",
        "\n",
        "fig, ax = plt.subplots()\n",
        "ax.plot(x, y, color = 'r', linewidth = 3)\n",
        "ax.xaxis.set_major_locator(ticker.MultipleLocator(3)) # Код для установки размера тиков (шагов)\n",
        "plt.xticks(rotation=45)\n",
        "plt.show()"
      ],
      "metadata": {
        "id": "Y8x_x70xOdnE"
      },
      "execution_count": null,
      "outputs": []
    },
    {
      "cell_type": "markdown",
      "source": [
        "Вот [здесь](https://matplotlib.org/stable/api/_as_gen/matplotlib.pyplot.plot.html) описаны все варианты задания цветов, точек и формы штриха."
      ],
      "metadata": {
        "id": "RNMfL4C2VjI0"
      }
    },
    {
      "cell_type": "markdown",
      "source": [
        "### Размер холста через pyplot\n",
        "\n",
        "можно вызвать метод figure и задать размер через него:"
      ],
      "metadata": {
        "id": "kDeslAVjV4TV"
      }
    },
    {
      "cell_type": "code",
      "source": [
        "x = [f'{i} янв' for i in range(1, 32)]\n",
        "y = covid['Москва'][660:691]\n",
        "\n",
        "plt.figure(figsize=(10, 5)) # указываем размер в дюймах\n",
        "plt.plot(x, y, marker = 's', linestyle = ':', color = 'orange')\n",
        "plt.xticks(rotation=90)\n",
        "plt.show()\n",
        "# https://matplotlib.org/stable/api/_as_gen/matplotlib.pyplot.figure.html"
      ],
      "metadata": {
        "id": "MzATMDvPVmz0"
      },
      "execution_count": null,
      "outputs": []
    },
    {
      "cell_type": "markdown",
      "source": [
        "## Отобразим несколько показателей"
      ],
      "metadata": {
        "id": "ubCN-wDMWbUY"
      }
    },
    {
      "cell_type": "code",
      "source": [
        "x = [f'{i} янв' for i in range(1, 32)]\n",
        "\n",
        "y1 = covid['Москва'][660:691]\n",
        "y2 = covid['Санкт-Петербург'][660:691]\n",
        "y3 = covid['Пермский край'][660:691]\n",
        "\n",
        "plt.figure(figsize=(12,8))\n",
        "plt.plot(x, y1, '.') # Москва\n",
        "plt.plot(x, y2, '^')\n",
        "plt.plot(x, y3, 's')\n",
        "plt.xticks(rotation=90)\n",
        "plt.show()"
      ],
      "metadata": {
        "id": "k3No26lOWFm5"
      },
      "execution_count": null,
      "outputs": []
    },
    {
      "cell_type": "code",
      "source": [
        "# можно использовать короткую запись\n",
        "\n",
        "x = [f'{i} янв' for i in range(1, 32)]\n",
        "\n",
        "y1 = covid['Москва'][660:691]\n",
        "y2 = covid['Санкт-Петербург'][660:691]\n",
        "y3 = covid['Пермский край'][660:691]\n",
        "\n",
        "plt.figure(figsize=(12,8))\n",
        "plt.plot(x, y1, '.',\n",
        "         x, y2, '^',\n",
        "         x, y3, 's') # легко запутаться\n",
        "plt.xticks(rotation=90)\n",
        "plt.show()"
      ],
      "metadata": {
        "id": "JTagjwcbXPS5"
      },
      "execution_count": null,
      "outputs": []
    },
    {
      "cell_type": "code",
      "source": [
        "# можно использовать короткую запись\n",
        "\n",
        "x = [f'{i} янв' for i in range(1, 32)]\n",
        "\n",
        "y1 = covid['Москва'][660:691]\n",
        "y2 = covid['Санкт-Петербург'][660:691]\n",
        "y3 = covid['Пермский край'][660:691]\n",
        "\n",
        "plt.figure(figsize=(12,8))\n",
        "plt.plot(x, y1, '.', x, y2, '^', x, y3, 's')\n",
        "plt.xticks(rotation=90)\n",
        "plt.grid() # задает сетку на графике: сетка привязана к тикам по оси x и y\n",
        "plt.show()"
      ],
      "metadata": {
        "id": "mDaeMfHyXgd1"
      },
      "execution_count": null,
      "outputs": []
    },
    {
      "cell_type": "markdown",
      "source": [
        "Добавим легенду"
      ],
      "metadata": {
        "id": "rlbIOQaPXzrJ"
      }
    },
    {
      "cell_type": "code",
      "source": [
        "# можно использовать короткую запись\n",
        "\n",
        "x = [f'{i} янв' for i in range(1, 32)]\n",
        "\n",
        "y1 = covid['Москва'][660:691]\n",
        "y2 = covid['Санкт-Петербург'][660:691]\n",
        "y3 = covid['Пермский край'][660:691]\n",
        "\n",
        "plt.figure(figsize=(12,8))\n",
        "plt.plot(x, y1, '.', x, y2, '^', x, y3, 's')\n",
        "plt.xticks(rotation=90)\n",
        "plt.grid()\n",
        "plt.legend(['Москва', 'Санкт-Петербург', 'Пермь']) # но создатели библиотеки рекомендуют другой способ\n",
        "plt.show()\n",
        "\n",
        "# можно почитать здесь https://matplotlib.org/stable/api/_as_gen/matplotlib.pyplot.legend.html#matplotlib.pyplot.legend"
      ],
      "metadata": {
        "id": "0D_LRqfUXwSP"
      },
      "execution_count": null,
      "outputs": []
    },
    {
      "cell_type": "code",
      "source": [
        "x = [f'{i} янв' for i in range(1, 32)]\n",
        "\n",
        "y1 = covid['Москва'][660:691]\n",
        "y2 = covid['Санкт-Петербург'][660:691]\n",
        "y3 = covid['Пермский край'][660:691]\n",
        "\n",
        "plt.figure(figsize=(10,6))\n",
        "plt.plot(x, y1, '.', label='Москва')\n",
        "plt.plot(x, y2, '^', label='Санкт-Петербург')\n",
        "plt.plot(x, y3, 's', label='Пермь')\n",
        "plt.xticks(rotation=90)\n",
        "plt.grid()\n",
        "plt.legend() # legend сама добавит значения из label\n",
        "plt.show()"
      ],
      "metadata": {
        "id": "6b4O7CFAY71_"
      },
      "execution_count": null,
      "outputs": []
    },
    {
      "cell_type": "code",
      "source": [
        "x = [f'{i} янв' for i in range(1, 32)]\n",
        "\n",
        "y1 = covid['Москва'][660:691]\n",
        "y2 = covid['Санкт-Петербург'][660:691]\n",
        "y3 = covid['Пермский край'][660:691]\n",
        "\n",
        "plt.figure(figsize=(10,6))\n",
        "\n",
        "# заголовок и его стили\n",
        "plt.title('Статистика по ковиду для Москвы и Санкт-Петербурга и Перми', fontsize=16, color='green', fontstyle='italic', fontfamily='serif')\n",
        "\n",
        "plt.plot(x, y1, '.', label='Москва')\n",
        "plt.plot(x, y2, '^', label='Санкт-Петербург')\n",
        "plt.plot(x, y3, 's', label='Пермь')\n",
        "\n",
        "# подписи осей\n",
        "plt.xticks(rotation=90, fontsize=16) # вертикально\n",
        "plt.xlabel('Дни', fontsize=16)\n",
        "plt.ylabel('Заражения в день', fontsize=16)\n",
        "\n",
        "plt.legend(fontsize=16)\n",
        "plt.grid()\n",
        "plt.show()"
      ],
      "metadata": {
        "id": "9BGA8eH-ZSK4"
      },
      "execution_count": null,
      "outputs": []
    },
    {
      "cell_type": "markdown",
      "source": [
        "Методы пайплота, которые отвечают за текст на графиках ([см.тут](https://matplotlib.org/stable/api/text_api.html#matplotlib.text.Text))"
      ],
      "metadata": {
        "id": "0csX8zNAaiCG"
      }
    },
    {
      "cell_type": "code",
      "source": [
        "# построим финальный график, со всеми подписями и шагом для обеих осей\n",
        "# import matplotlib.ticker as ticker\n",
        "\n",
        "fig, ax = plt.subplots(figsize=(12,8))\n",
        "plt.title('Статистика по ковиду для Москвы и Санкт-Петербурга и Перми', fontsize=16, color='green', fontstyle='italic', fontfamily='serif')\n",
        "plt.plot(x, y1, '.', x, y2, '^', x, y3, 's')\n",
        "ax.plot([f'{i} янв' for i in range(1, 32)], covid['Москва'][660:691], '.', label='Москва')\n",
        "ax.plot([f'{i} янв' for i in range(1, 32)], covid['Санкт-Петербург'][660:691], '^', label='Санкт-Петербург')\n",
        "ax.plot([f'{i} янв' for i in range(1, 32)], covid['Пермский край'][660:691], 's', label='Пермский край')\n",
        "ax.xaxis.set_major_locator(ticker.MultipleLocator(2)) # шаг на оси x - 2\n",
        "ax.yaxis.set_major_locator(ticker.MultipleLocator(6000)) # шаг на оси x - 6000\n",
        "\n",
        "# подписи осей\n",
        "plt.xticks(rotation=90, fontsize=16) # вертикально\n",
        "plt.yticks(fontsize=16)\n",
        "plt.xlabel('Дни', fontsize=16)\n",
        "plt.ylabel('Заражения в день', fontsize=16)\n",
        "\n",
        "plt.legend(fontsize=16)\n",
        "\n",
        "plt.grid() # задает сетку на графике (сетка привязана к интервалу на осях!)\n",
        "# меняем шаг -> изменится и сетка\n",
        "plt.show()\n",
        "\n",
        "# https://matplotlib.org/stable/api/gridspec_api.html"
      ],
      "metadata": {
        "id": "VMlrBE_GRU8W"
      },
      "execution_count": null,
      "outputs": []
    },
    {
      "cell_type": "markdown",
      "source": [
        "# Задание\n",
        "\n",
        "Постройте график для любых 2 субъектов (кроме Москвы, Санкт-Петербурга и Пермского края)\n",
        "\n",
        "Можно выбрать из датафрейма не январь\n",
        "\n",
        "У графика должны быть заголовок, подписи, названия осей и легенда"
      ],
      "metadata": {
        "id": "YgRTYNHkaqaI"
      }
    },
    {
      "cell_type": "code",
      "source": [
        "# ваш код\n",
        "\n"
      ],
      "metadata": {
        "id": "O7ppvwPoLMlN"
      },
      "execution_count": null,
      "outputs": []
    },
    {
      "cell_type": "markdown",
      "source": [
        "## Другие типы графиков matplotlib"
      ],
      "metadata": {
        "id": "bnuKRZUIgcOY"
      }
    },
    {
      "cell_type": "code",
      "source": [
        "x = [f'{i} янв' for i in range(1, 32)]\n",
        "y1 = covid['Москва'][660:691]\n",
        "\n",
        "plt.bar(x, y1) # бар-чарт, столбики\n",
        "plt.xticks(rotation=90)\n",
        "plt.show()"
      ],
      "metadata": {
        "id": "b40-V90ngbGI"
      },
      "execution_count": null,
      "outputs": []
    },
    {
      "cell_type": "code",
      "source": [
        "plt.hist(covid['Москва'][660:691]) # гистограмма, ось x\n",
        "plt.show()"
      ],
      "metadata": {
        "id": "IysaHUKGjme0"
      },
      "execution_count": null,
      "outputs": []
    },
    {
      "cell_type": "code",
      "source": [
        "plt.hist(covid['Москва'][660:691], bins=20) # количество столбцов (=диапазонов) можно задать\n",
        "plt.show()\n",
        "# y - частоты"
      ],
      "metadata": {
        "id": "DovXQxchhp67"
      },
      "execution_count": null,
      "outputs": []
    },
    {
      "cell_type": "code",
      "source": [
        "# pie - круговая диаграмма, на наших данных в таком виде - полная ерунда\n",
        "plt.pie(covid['Москва'][660:691], labels=[f'{i} янв' for i in range(1, 32)])\n",
        "plt.show()"
      ],
      "metadata": {
        "id": "y8zNiludg3rC"
      },
      "execution_count": null,
      "outputs": []
    },
    {
      "cell_type": "code",
      "source": [
        "# сделаем прилично: переведем дату в правильный пандасовский формат\n",
        "covid['DateTime'] = pd.to_datetime(covid['DateTime'], format='%Y-%m-%d %H:%M:%S')\n",
        "\n",
        "# посмотрим на годы:\n",
        "covid['DateTime'].dt.year"
      ],
      "metadata": {
        "id": "Uc_K_Kp0MekL"
      },
      "execution_count": null,
      "outputs": []
    },
    {
      "cell_type": "code",
      "source": [
        "# посчитаем, за какие годы у нас есть данные\n",
        "print(covid['DateTime'].dt.year.value_counts())\n",
        "print(covid['DateTime'].dt.year.value_counts().index)"
      ],
      "metadata": {
        "id": "pvYuwfwgO0df"
      },
      "execution_count": null,
      "outputs": []
    },
    {
      "cell_type": "code",
      "source": [
        "plt.pie(covid['DateTime'].dt.year.value_counts(),\n",
        "        labels=covid['DateTime'].dt.year.value_counts().index)\n",
        "plt.show()"
      ],
      "metadata": {
        "id": "b17CxosVO6jz"
      },
      "execution_count": null,
      "outputs": []
    },
    {
      "cell_type": "markdown",
      "source": [
        "Датавиз-сообщества считают, что pie-chart'ы устарели! :)\n",
        "\n",
        "![мем.jpg](https://qph.cf2.quoracdn.net/main-qimg-6ade42a13909e5488b4474dc150c0701-lq)\n",
        "\n",
        "За картинку спасибо @Andre_Orlov!)\n",
        "\n",
        "[Веселое обсуждение](https://medium.com/@eolay13/визуализируем-кофе-молоко-и-сахар-68fc7079868c) в тему - это Medium, откроется только с vpn\n"
      ],
      "metadata": {
        "id": "S5M2KD74AQ_M"
      }
    },
    {
      "cell_type": "markdown",
      "source": [
        "### Задание 1\n",
        "\n"
      ],
      "metadata": {
        "id": "rMMKw6PP1vEt"
      }
    },
    {
      "cell_type": "code",
      "source": [
        "# 1.1\n",
        "\n",
        "with open('Чехов.txt', encoding='utf-8') as f:\n",
        "  text = f.read()\n",
        "\n",
        "# топ 50-слов со стоп-словами\n",
        "top50 = Counter([word for word in mystem.lemmatize(text) if word[0].isalpha()]).most_common(50)\n",
        "df = pd.DataFrame(top50, columns=['слово', 'частота'])\n",
        "df.index = df['слово'] # удобно брать подписи из индексов df\n",
        "df['частота'].sort_values(ascending=False)"
      ],
      "metadata": {
        "id": "wXVq_Oh21uus"
      },
      "execution_count": null,
      "outputs": []
    },
    {
      "cell_type": "code",
      "source": [
        "plt.plot(df['частота'].sort_values(ascending=False));"
      ],
      "metadata": {
        "id": "apWY3zmy11-P"
      },
      "execution_count": null,
      "outputs": []
    },
    {
      "cell_type": "markdown",
      "source": [
        "Сделайте этот график приличным:\n",
        "- растяните холст по горизонтали;\n",
        "- расположите пописи по оси х так, чтобы стало читаемо"
      ],
      "metadata": {
        "id": "rXAtj2VJ7VZ2"
      }
    },
    {
      "cell_type": "code",
      "source": [
        "# ваш код\n",
        "\n",
        "\n"
      ],
      "metadata": {
        "id": "ccpARhL514os"
      },
      "execution_count": null,
      "outputs": []
    },
    {
      "cell_type": "markdown",
      "source": [
        "Внесите изменения в код так, чтобы получить топ-50 частотных лемм (вспомните, что у вас в коде среди импортов была готовая функция по лемматизации - `lemm_pymorphy` или `lem_mystem` (на ваш выбор)\n"
      ],
      "metadata": {
        "id": "bt9r5IBT7a-y"
      }
    },
    {
      "cell_type": "code",
      "source": [
        "top50 = Counter([word for word in mystem.lemmatize(text) if word[0].isalpha()]).most_common(50) # здесь нужно что-то поменять\n",
        "\n",
        "df = pd.DataFrame(top50, columns=['лемма', 'частота'])\n",
        "df.index = df['лемма']\n",
        "df['частота'].sort_values(ascending=False)"
      ],
      "metadata": {
        "id": "qGUatXZc2AAw"
      },
      "execution_count": null,
      "outputs": []
    },
    {
      "cell_type": "code",
      "source": [
        "# затем снова постройте приличный график\n",
        "# можно скопировать из вашего кода выше\n",
        "\n"
      ],
      "metadata": {
        "id": "G7NE1kBp2HVH"
      },
      "execution_count": null,
      "outputs": []
    },
    {
      "cell_type": "markdown",
      "source": [
        "Пример бар-чарта на этих данных (взяла 10 слов, чтобы стало красивее)\n"
      ],
      "metadata": {
        "id": "7PDO6Sha7fkp"
      }
    },
    {
      "cell_type": "code",
      "source": [
        "# будьте внимательны с бар-чартами, им нужны явно заданные подписи оси х\n",
        "plt.figure(figsize=(10, 5))\n",
        "plt.bar(df['частота'].sort_values(ascending=False)[:10].index,\n",
        "        df['частота'].sort_values(ascending=False)[:10]);"
      ],
      "metadata": {
        "id": "SQFxd4VT25uh"
      },
      "execution_count": null,
      "outputs": []
    },
    {
      "cell_type": "markdown",
      "source": [
        "Переделайте этот график в круговой (пай-чарт)\n"
      ],
      "metadata": {
        "id": "JxkfDNba7lkR"
      }
    },
    {
      "cell_type": "code",
      "source": [
        "# ваш код\n",
        "\n",
        "\n"
      ],
      "metadata": {
        "id": "VUNfoC5a5Phl"
      },
      "execution_count": null,
      "outputs": []
    },
    {
      "cell_type": "markdown",
      "source": [
        "Ниже возможные ответы:"
      ],
      "metadata": {
        "id": "da2isd1k2ZSb"
      }
    },
    {
      "cell_type": "code",
      "source": [
        "# @title\n",
        "# минимально приличный график\n",
        "plt.figure(figsize=(10, 4))\n",
        "plt.plot(df['частота'].sort_values(ascending=False))\n",
        "plt.xticks(rotation=90);"
      ],
      "metadata": {
        "cellView": "form",
        "id": "pqM8El9O2bWA"
      },
      "execution_count": null,
      "outputs": []
    },
    {
      "cell_type": "code",
      "source": [
        "# @title\n",
        "# вносим изменения в код\n",
        "top50 = Counter(lemm_pymorphy(text)).most_common(50)\n",
        "# или:\n",
        "# top50 = Counter(lemm_mystem(text)).most_common(50)\n",
        "\n",
        "df = pd.DataFrame(top50, columns=['лемма', 'частота'])\n",
        "df.index = df['лемма']\n",
        "df['частота'].sort_values(ascending=False)\n",
        "\n",
        "# строим график:\n",
        "plt.figure(figsize=(10, 4))\n",
        "plt.plot(df['частота'].sort_values(ascending=False))\n",
        "plt.xticks(rotation=90);"
      ],
      "metadata": {
        "cellView": "form",
        "id": "cfTcUMBG2gUX"
      },
      "execution_count": null,
      "outputs": []
    },
    {
      "cell_type": "code",
      "source": [
        "# @title\n",
        "# пай-чарт\n",
        "plt.pie(df['частота'].sort_values(ascending=False)[:10],\n",
        "        labels=df['частота'].sort_values(ascending=False)[:10].index);"
      ],
      "metadata": {
        "cellView": "form",
        "id": "yffpsYjU5Ii5"
      },
      "execution_count": null,
      "outputs": []
    },
    {
      "cell_type": "markdown",
      "source": [
        "### Задание 2\n",
        "\n",
        "Добавляем частеречную разметку"
      ],
      "metadata": {
        "id": "F_eyBgfm6blq"
      }
    },
    {
      "cell_type": "code",
      "source": [
        "def pos_pymorphy(word):\n",
        "  return morph.parse(word)[0].tag.POS\n",
        "\n",
        "def pos_mystem(word):\n",
        "  try:\n",
        "    return mystem.analyze(word)[0]['analysis'][0]['gr'][0]\n",
        "  except: # там у меня где-то выскочила ошибка, лень искать и исправлять -> заменим на None\n",
        "    None\n",
        "\n",
        "df = pd.DataFrame(lemm_mystem(text), columns=['слово'])\n",
        "df['pymorphy'] = df['слово'].apply(pos_pymorphy)\n",
        "df['mystem'] = df['слово'].apply(pos_mystem)\n",
        "df"
      ],
      "metadata": {
        "id": "m32pnM646bJk"
      },
      "execution_count": null,
      "outputs": []
    },
    {
      "cell_type": "markdown",
      "source": [
        "- создайте частотные таблицы с помощью `df[столбец].value_counts()` для pymorphy и mystem\n",
        "\n",
        "- постройте бар-чарты (столбчатые диаграммы) для граммем pymorphy и mystem с помощью `plt.bar()`"
      ],
      "metadata": {
        "id": "D-KCF8Na6v30"
      }
    },
    {
      "cell_type": "code",
      "source": [
        "# pymorphy\n",
        "\n"
      ],
      "metadata": {
        "id": "FFkRnPZG623-"
      },
      "execution_count": null,
      "outputs": []
    },
    {
      "cell_type": "code",
      "source": [
        "# mystem\n",
        "\n"
      ],
      "metadata": {
        "id": "HGqaYg1962mI"
      },
      "execution_count": null,
      "outputs": []
    },
    {
      "cell_type": "markdown",
      "source": [
        "- переделайте эти графики в пай-плоты"
      ],
      "metadata": {
        "id": "Rx8Zo96U7SGh"
      }
    },
    {
      "cell_type": "code",
      "source": [
        "# pymorphy\n",
        "\n"
      ],
      "metadata": {
        "id": "SF2pDosp8iqs"
      },
      "execution_count": null,
      "outputs": []
    },
    {
      "cell_type": "code",
      "source": [
        "# mystem\n",
        "\n"
      ],
      "metadata": {
        "id": "ZVuqwuvV8i_q"
      },
      "execution_count": null,
      "outputs": []
    },
    {
      "cell_type": "markdown",
      "source": [
        "Возможные ответы:"
      ],
      "metadata": {
        "id": "MMykKxYV6_OW"
      }
    },
    {
      "cell_type": "code",
      "source": [
        "# @title\n",
        "plt.figure(figsize=(10, 5))\n",
        "plt.bar(df['pymorphy'].value_counts().index,\n",
        "        df['pymorphy'].value_counts());"
      ],
      "metadata": {
        "cellView": "form",
        "id": "Fp9GcYAn7C6b"
      },
      "execution_count": null,
      "outputs": []
    },
    {
      "cell_type": "code",
      "source": [
        "# @title\n",
        "plt.figure(figsize=(10, 5))\n",
        "plt.bar(df['mystem'].value_counts().index,\n",
        "        df['mystem'].value_counts());"
      ],
      "metadata": {
        "cellView": "form",
        "id": "fiv9MUkt7DWQ"
      },
      "execution_count": null,
      "outputs": []
    },
    {
      "cell_type": "code",
      "source": [
        "# @title\n",
        "plt.pie(df['pymorphy'].value_counts(),\n",
        "        labels=df['pymorphy'].value_counts().index,\n",
        "        autopct='%1.1f%%'); # на паре не смотрели, но можно еще вывести проценты"
      ],
      "metadata": {
        "cellView": "form",
        "id": "mIqQ256F8l0H"
      },
      "execution_count": null,
      "outputs": []
    },
    {
      "cell_type": "code",
      "source": [
        "# @title\n",
        "plt.pie(df['mystem'].value_counts(),\n",
        "        labels=df['mystem'].value_counts().index,\n",
        "        autopct='%1.1f%%');"
      ],
      "metadata": {
        "cellView": "form",
        "id": "y8xEoEGZ8lmn"
      },
      "execution_count": null,
      "outputs": []
    },
    {
      "cell_type": "markdown",
      "source": [
        "Как делать пай-чарты не такими ужасными?))"
      ],
      "metadata": {
        "id": "UmkbTtPo8yS2"
      }
    },
    {
      "cell_type": "code",
      "source": [
        "# всегда хочется срезать только частотные категории, но это будет некорректно - их доли изменяется\n",
        "\n",
        "df['pymorphy'].value_counts()"
      ],
      "metadata": {
        "id": "Tmtvwdrk8xfk"
      },
      "execution_count": null,
      "outputs": []
    },
    {
      "cell_type": "code",
      "source": [
        "# отфильтруем сроки со значением больше 1000\n",
        "# потом сохраним в новую таблицу\n",
        "\n",
        "mini = df['pymorphy'].value_counts()\n",
        "res = mini[mini > 1000]\n",
        "other = mini[mini <= 1000].sum() # создадим категорию Другие = посчитаем, сколько значений мы потеряли при фильтрации\n",
        "res = pd.concat([res, pd.Series(other, index=['Другие'], name='count')]) # объдиняем нужные значения + другие\n",
        "plt.pie(res, autopct='%.2f', labels = res.index);"
      ],
      "metadata": {
        "id": "KD_yX7JL87fr"
      },
      "execution_count": null,
      "outputs": []
    },
    {
      "cell_type": "code",
      "source": [
        "# или:\n",
        "# просто создадим для этого новый столбец в датафрейме\n",
        "\n",
        "top_pos = list(df['pymorphy'].value_counts()[:5].index)\n",
        "\n",
        "def f(n):\n",
        "  if n not in top_pos:\n",
        "    return 'Другие'\n",
        "  else:\n",
        "    return n\n",
        "\n",
        "df['pymorphy_coded'] = df['pymorphy'].apply(f)\n",
        "\n",
        "plt.pie(df['pymorphy_coded'].value_counts(), autopct='%.2f', labels = df['pymorphy_coded'].value_counts().index) =;"
      ],
      "metadata": {
        "id": "ogtHF9Pw9RvC"
      },
      "execution_count": null,
      "outputs": []
    },
    {
      "cell_type": "markdown",
      "source": [
        "А теперь давайте попробуем рисовать при помощи функции scatter, которая работает несколько медленнее, но обладает большей функциональностью ([см. здесь](https://matplotlib.org/api/_as_gen/matplotlib.pyplot.scatter.html#matplotlib.pyplot.scatter)).\n",
        "\n",
        "Так как scatter по определению - это набор точек, которые не должны соединяться между собой, а просто бросаются на плоскость, то отрисовать линию с его помощью не получится.\n",
        "\n",
        "Параметр alpha можно применять почти везде. Он показывает степень прозрачности графика, легенды (0 = полностью прозрачен; 1 = абсолютно непрозрачен)\n",
        "\n",
        "Помимо этого для каждой из точек можно задавать размер маркера (параметр s, size) и его цвет (параметр c, colour)."
      ],
      "metadata": {
        "id": "Gt-EA77AkpIP"
      }
    },
    {
      "cell_type": "code",
      "source": [
        "x = [f'{i} янв' for i in range(1, 32)]\n",
        "y = covid['Москва'][660:691]\n",
        "\n",
        "c = 'green'\n",
        "\n",
        "s = [i * 0.1 for i in y] # 0.1 - просто чтобы красиво отобразить именно эти данные, у нас достаточно большие числа\n",
        "#s = 100 # размер можно сделать статичным\n",
        "\n",
        "plt.scatter(x, y, c = c, s = s, alpha = 0.3) # попробуйте поменять параметр alpha\n",
        "\n",
        "plt.xticks(rotation=90)\n",
        "plt.show()"
      ],
      "metadata": {
        "id": "6uTAGeGTkwwp"
      },
      "execution_count": null,
      "outputs": []
    },
    {
      "cell_type": "markdown",
      "source": [
        "Цвет графика можно задать при помощи цветовой карты. Для использования стандартных цветовых карт необходимо загрузить их из matplotlib:\n",
        "from matplotlib import cm\n",
        "\n",
        "Ту, что больше нравится, стоит присвоить в параметр cmap\n",
        "\n",
        "А здесь [ссылка с описанием и названиями цветовых карт](https://matplotlib.org/3.1.0/tutorials/colors/colormaps.html)"
      ],
      "metadata": {
        "id": "b3HQ6kLsmUWF"
      }
    },
    {
      "cell_type": "code",
      "source": [
        "from matplotlib import cm\n",
        "\n",
        "x = [f'{i} янв' for i in range(1, 32)]\n",
        "y = covid['Москва'][660:691]\n",
        "\n",
        "c = y # нужен список, чтобы для разных точек сгенерировать разные цвета!\n",
        "s = [i * 0.1 for i in y]\n",
        "\n",
        "plt.scatter(x, y, c = c, s = s, alpha=0.5, cmap=cm.magma)\n",
        "\n",
        "plt.xticks(rotation=90)\n",
        "plt.show()"
      ],
      "metadata": {
        "id": "LFiskDH-myoE"
      },
      "execution_count": null,
      "outputs": []
    },
    {
      "cell_type": "code",
      "source": [
        "# можно также строить облако точек для поиска зависимости между разными показателями\n",
        "plt.scatter(x = covid['Москва'], y = covid['Санкт-Петербург'])\n",
        "plt.show()\n",
        "# для наших данных - не очень интересно, хотя смысл все же есть:\n",
        "# заболеваемость в Москве и Петербурге связаны - общие волны ковида, очевидно, сильно прокатились по крупным городам"
      ],
      "metadata": {
        "id": "nxC-sVQry08e"
      },
      "execution_count": null,
      "outputs": []
    },
    {
      "cell_type": "markdown",
      "source": [
        "Я оставила вам в конце этой тетрадки ссылку на такой вариант визуализации, но в двух словах идея такая:\n",
        "\n",
        "Нам нужно два количественных показателя, чтобы мы могли построить такой график\n",
        "\n",
        "Но что, если взять несколько текстов, посчитать tf-idf (думаю, что на теме векторные модели в КЛ вы еще об этом поговорите) и наложить на график?"
      ],
      "metadata": {
        "id": "LTtR1QBf-eJp"
      }
    },
    {
      "cell_type": "markdown",
      "source": [
        "![image.png](data:image/png;base64,iVBORw0KGgoAAAANSUhEUgAAAlgAAAEMCAIAAACX81/3AAAgAElEQVR4Aey9Z3hcRZY//P+8H/bDfthn350dWIY8BJMGY2PAgWhj4yAbwwwGPNjA2DhiIyeMcQ6SAzgg5yDJsrAlK+eWWlK3utWtbqlzzjmpc7x9X3Wf4eydllpYxpjgvo+eq7rVVaeqTp06v6pT6f+RuSfHgRwHchzIcSDHgTuYA//vDi57rug5DuQ4kONAjgM5DpA5IMwJQY4DOQ7kOJDjwB3NgRwQ3tHVnyt8jgM5DuQ4kONADghzMpDjQI4DOQ7kOHBHcyAHhHd09ecKn+NAjgM5DuQ4kAPCnAzkOJDjQI4DOQ7c0RzIAeEdXf25wuc4kONAjgM5DuSAMCcDOQ7kOJDjQI4DdzQHckB4R1d/rvA5DuQ4kONAjgM5IMzJQI4DOQ7kOJDjwB3NgRwQ3tHVnyt8jgM5DuQ4kONADghzMpDjQI4DOQ7kOHBHcyAHhHd09ecKn+NAjgM5DuQ4kAPCnAzkOJDjQI4DOQ7c0RzIAeEdXf25wuc4kONAjgM5DtwMEBIEQZJkIpEgSTKZTEaj0Rwfcxy4JRwIBAIgVECNIIhkMgnuWCwGgpdMJsFxS1LMEbm1HMAqSyaT8XgciCfTD0mS1IrD2sRfb21OctTuEA4AEpEkGY1GwU0VsxtkwpiBEGEPHSRJRiIRIssDUj78nSV4SvHdkmes9McaPlsms9EZq/+top+Nzlj9b1X+AecwdSQbiURCoRBIbSKRQJmOxWJUBerz+SAMUrhBByaU4bjB6D8aLIPsLf/MloFsCWULn80/G51s/tnoQO1Qq4kkSajERCIRiUQgQDgcBgUynA4EyL1zHLgRDhAEEU8/EDiZTHq93huJmBFmzEAIYBuNRqG7h2icQTf3mePAzXEANC/EBRkDNQpv8Kd2wm4ulVysn4kDCHWIf1BxCI1oTCJJMhwODwdC8PmZspcj+zvjAKoFl8v1U8BozEAYj8czzKGQlWwCfav8x9ozzZbur41OtnzeCf7UuggGg5FIhDpoAA6QJOn3+0HEqYJ3J/Dn5ygjledU961KC/RsJBIBm3Y8HkcIxJ57KBQCCESlfKtSz9G5AzkAAAT2pGAwGA6HbwIRxwyEILswEwCynkgkcDIAJTvnyHHgJjgANnYwn8LYAgwdIGCguEmSzMnbTfD29kQBrZRIPzgo9Hq9yWQS1RM4wuHw8CyhHh/+U84nx4HhHAALJUgdQRAjCtXwWMN9xgyEBEEkEglImCTJhoaGzs7O1tbWhixPY5YnS/CGLMEbf6nwtyrdbHSy+Y+VD2Olk41+Nv9s9LP53zgdCFlVVSWRSDIEFDQmIGIsFgOLqEKhyEZ8FP+x5nMUUiP+lI3+rfIfMdHGxjG3i7HSyZb/bHSampoUCgWsG4D6guqDqiQIAs3aS5cuveuuu+7+4bkr/fzxhwc+c+8cB0bnwB/+8Id77rnnD3/4A64wiMViuMKOvOFnzEAIvXXA4cHBwf/6r/+aO+ozL8uTLVKW4PN+qfDZ0v25/cfKh2z5yUZnrP7Z6Gfzz0afGp4a5i9/+cuSJUtAgqPRKPS0YIEo6FB47969+3//93/feustatwbcVPTpbpvJO6NhKHS/Dnc2fKQLa2xhs9GJ5t/NvqzZ8++5557du/ejXOBuI4UfWCB37JlywoLCw0/PPr0o8s9OQ6MhQNWq7Wzs/PBBx+MxWI3PRwkSXLMQIgdOsDCP/3pT9CRhwmA4e9Ylmd4SPDJEjw1GhjxyRY+G/2x+mejH8nyjJV+tvDZ0s0WPpt/Njpj9c9GP5v/6PQxFtjQEonE+fPnFy9eDGiHxk/4hC5eIpG4dOnSc889J5VK4/H46PSH/4opZjiGh7w5nwyyt/wzW66yJZQtfBaxjWSjk80/G/1EIiGTyZ577rlLly5B9YEdG9ygNGAZ8IcfflhcXEyO9NxEj34kMjm/3z8HksmkVqu9++67oaggljdR7DEDIaSBs4N33323Tqe7iYR/wSho14U8gOkG2x60W8B7LCau4Ad/7OTCZzAYxEksarcXDEQQF9UBNWQGExAGYrEY5CoUCoHugIQikQg4ECqwCBAet7JkUP71f168eBFHhFgXkG3kwLx5865fvx4MBn/B4kBmUKFTc4jZhhxi/xT84/E41C/6gwPkgVoilE8IADU+HFTAFkQQRCQSwSgwc0Gldvvdfr+/oqJiwYIF1DxjNoAbyWRyyZIlFy9eRP/fugO2wKJgYDPH+sUWCmGwynAmFRxQ3VC5KDMwhgbdgklASBASqPdkMgmfqEmA21SpgADU1H/rnNfpdHfffTcUGdvgWAt1xwEhFcNQpIBrwEQQEcQhFGhEOOA4AhIIFkmSPp8vmUxCdGgVuDccPIEUUMakcREBjI3QH0E0EolAEqBeYZ8yCnrGphmUA1hg+RsS91GAMJFIJJPJUCiUl5dXX1+PnB+rrN/C8LB2evgysUAgANnDfZCJRIKqhkAkRqwXrHqUPZIkQSGizEAYJE4tEcoeSh3119vpjsViDQ0NeXl5CNXU1EFEfzdAGI1GsdFBm8UCYkUgqkH/FewZwBMUZirmQXUjgoJuofIQF1dDSIRJiALvQCBAPXoCpYtKZ0RPaoDfhDsHhDdTTVj3iCV4mgkVk1C20JOqfWBtGwz1AFmpUgvZCgQC4Alaj6r74vE4ZAM8IRjkZ3BwEEefWDwIgLHAH/NPkqTX64WRwfBsIJFfuWMUIAQg8fl88+fPp9FoVL1z+wuF6yEhaWA4dlbAE/tGqKegugcHB0EnRqNRkLpAIAD1iFBHJYuyCp7DCx4Khfx+P+5PoI4tIMrtf0NxOjo65s6dC8KMPUhqKX43QAiFyuj9gCcugcZagGBYrdiukQh0rUDVgNijwKACcbvdSB8jUsESQwIQhsNhIJJIJMBBFRjM22/XkQPCm6w7mPaAyA6HQyKRmM1mnU6n1WphvjMSSU2ZIHVo2/BGIYZfsUMXCAQUCoXFYtHpdBqNBmURgQ2EElc0oYrEkR+KaTAYxMV1EAwVK/Qx5XI5No9wOEzNKuQK85+RWyzRr9CRDQixf+31eufPn0+n07Gj/QuWAkQIRnskSUokEpfLpU0/ICdQKclkEmqQWt0Z9YUiBHUaj8chMNYdLArHTzA84CfV8I4MQZroc9scUHw6nT5v3jyPxwPpgie4sUJ/H6ZRaJuwfMFkMhkMBoVCoVKpsOBgPMCNlbAvFjoHKAnJZBLsPX6/n1pTwCufzyeTySwWC1S6TqdTq9XQCnDMB8ID4aPRKG40An+gCVIBb0j6l51loJb0p7hzQHjz3AODRjAY5PP5dXV1tbW1q1at8nq9RUVFIDpgfEgkEiArAGzwxvPkIHnQhl6vd8mSJVevXuXz+ZcvXwZpQ+ykqi1QcyCIsIUcxBcwEm2qOCSF7ls0GoWcEARx5coVs9mMrcjtdsOoFNUfddXlzfPo9sbMBoTIOp/PN2/evPb29l8cCNEeAHXU39//0UcfNTU1SSSSk+kH7NVohEdGgmhBNeE0MAgJakAsLxy8gnFRHkiSdLlcJpOJIAgkAooV9RrKBjX67XS3tbXl5eVBoajswrr7PY0IoQEOKYetW7eeOHFCLBZfvnzZbrcDw7FFY6WYTCbsGcAJulRRgUpEG0M8Hvf7/atWrdq4cSMoiu++++7ixYvAVaQDQBuPxzUaTSgUAk0VCARA5ILBICIiGiGoknY7ZeOWp5UDwpthKXV0BfHD4bBerz969GggELBYLFarlcvlGgwGkiS1Wq1Go2Gz2S6Xy+l0dnd3M5lMkiRbWlpwiVAsFgMR37dvn9PpTCQSg4ODfr9fJpNxOByr1ep0OgcGBux2O/TURCJRdXW13+/XarUymSwUCg0MDFgsFlB83d3dNpstHA6zWCyHw9HY2Aix4vF4b28vl8v1er0ymSwQCBAEYTAYenp6YEygUqnUajWaTW6GNb9onB8FQr/fP2/evLa2tl80m6mz5kEfoV4jSfLgwYMOhwMytmTJEjabHY1GdTodn8/XaDTgr9FoamtrdTqdXC43Go0ul4vL5SYSCafTKRAIhEKhTCZzOBwsFstgMABYSqVSsVjs9XrNZrNcLpdKpSKRiCTJU6dOHTlyJBgM+v1+LpdrNBpRqYXDYVCCvyCXEolEc3Pz/PnzQfkCuzA/8Pl7AkIs2vnz52k0GlopNRpNd3c3TBu7XK6ampp4PC4SifLz8xUKRW9vr0QiiUajra2tJEkGg0GdTtfW1hYMBqPRKIfDsdlsWK1yuXzTpk1g6ampqQkGgz6fj8vl2mw2v98fiUQkEklvb6/H48nPz6fRaKFQyOl0KpVKuVxOkuTg4KDVaqXT6RaLJRKJ0Ol0s9lMkiSCNBbht+jIAeHN1Bq1WYLKSCQSIpFo586d0Om+fv26SqXauXOnz+dbvHjx+fPn29vbGxoaVqxYwWKxVq9eff369bKysgMHDuCUNczN7Nu3r7a2ls1ms1isrq6uZcuWlZaWstns6upqPp//7bffhkKhyspK2CpQUVFhMpnWrVsXjUYPHjzIZrPtdntpaalcLv/2228DgcAnn3zS3t5+5syZCxcuJJPJyspKvV5fV1en1WrXrVsXDAa7u7u7urpqamrKy8tpNFpJSQmPx8MxARhXf3GdeOM1lA0Isb4CgUBeXl5rayv63DjxWxgSjZwwKQs99127dtlsNjAznDhxYs+ePXK5vLS01Gazbdu2ze/383i89vZ2Pp+vVCoPHz7c3Nzs8XhWrlxJEERDQ8OmTZt4PN6SJUvq6+svX768b9++cDhcV1cnFApLSko4HM758+ePHz/e0NCQn5/vdDqvXbtWVlYWDAaPHDnS29ur1Wo9Hg8qTczhLSz1mEglk8nW1tb58+eDNGbUF3z+boAQzeOJROLixYuXLl0SCARVVVVut7uhoUEmkxUUFBgMhra2toqKitLSUp/Pt2zZskAg0NzcXFxcHA6H165da7PZWltbly5dWlJSolQqz549azKZDh06BP1a6LuvXr1aJBK5XC4Wi+Xz+a5duyYUCo8dO0YQRGlpqVQqbWxstNlsX331FXTWjx8/bjQaT58+XVdXp1Qq//73vx87dozP5xcWFspkMqVSmVEvY6riX1XgHBDeZHXgegfUHRKJZP/+/YlEgsPhbNy4USaT8fl8h8Oxe/duGPlJpdL9+/eTJFlQUCASiaLR6FdffRWJRDgcztmzZ1UqVTKZ3Lt3b3d3t1wuV6vVcrl8x44dyWSyurr6wIEDEolELBZ3dHSUlZVFIpHGxsarV69aLJbCwkKSJM+cOdPd3X316tXjx49LJBI+n+/z+TZu3EgQhEajOXDgQF9f37lz57C0+fn5Ho9n3759dXV1fX19KpVKJBL9/e9/B7Phr2HFBGb1xh3ZgBCMfolEwu/3L1iwoK2t7RdvwCA21E7Gzp07wYQAo8Nr164dPny4vb09mUwePny4pqbmyJEjLpcLFg2WlZU1NTUNrQhdv359KBQSiUSHDh2Kx+MHDx6EAd+XX37pdrvXr1/PYDB4PJ5Kpaqvry8pKSFJcvv27Tabrbq6urKykiTJI0eObN26ValUAmXMEgr2jfP/1obs6OjIy8vDRRnUKvudASHIJ8zVXb58uaSkxGw2i0SikpKSgoICaM7hcFilUp09e/bMmTPBYLCwsDASifT09Jw+fZogiD179rjdboVCAX3x9vb2Xbt29ff3d3V1YZ8mHo9fv369sLCQyWSGQqHm5mZQCxwOp7u7+8KFC2hzLigosFgsbDZ7165dJEkODAysXbvW7XZv3rwZJl/y8/O/+eYbWLuA9tJbW/u3mVoOCG+G4agscJUKiMv+/fvj8bhAIPjiiy+grcZisZ07d4Ktv6+v7/Dhw8lk8tixY0KhMBqN7t27NxaL6XQ6oVAIOq6wsBAMESRJCgSCISVFkmRzc/OePXsgo3Q6fefOnQRB1NbWwohw+/btsVjszJkzPB7v8uXLp0+fBtEPhUI7duzwer1KpbKoqGhgYCA/Px/WxxMEsW3btqERwJYtWxgMBoxiXS6XRCJZsmSJ0WiEtGDygKqAboZZtzEOACFo8BGz7ff7YdXobczUCEmB/EA+obISicTOnTsdDkc0GjUajatXrx4cHDx48GBVVVUymTxx4gSDwcjPz4d1WIlEorS0tLq6esiivmnTplAopFAoQFSOHDkyMDBAEMTOnTu9Xu+aNWtgzUU8Hq+tra2qqgIgtNvt169fr66ujsfjTqezvLx83bp1oIhH5NsIZfj5vWg02vz583Hik5ogZJIgiN/HYhnsqIHJurm5GQr7/fffw3CNJMmenp7vvvuOw+EcPHgwEAhs376dJMm6urqTJ08Odco3b948ODgok8lAwzCZzC+//BJ2U1D3VPh8vry8vNLS0mAwOLRkbOvWrdD2ORzOli1bQqEQbDIGlSUQCD7++GNQRPv373e5XF9//TWs07FYLEPHM0HHGqcYqRX0m3Nrtdq77roL5erm8n/H7SMENlFnCn0+X01NzerVq+12eywW271797p16zo7O20227p16/h8vt/vb2lpOXz4sNFoPHr0aE1NjUwm++STT6AnDgS1Wu3WrVvLy8tBOba0tADmmc3mDRs2fP311xwOJxqNbt++/dSpU4cOHbp+/foQEufn51dXVx8/fvzs2bPRaHT58uV79uzh8XgWi2X58uUqlaq9vX3Hjh1Op3PPnj1r1qwpLy9Xq9Xr16+XyWQKheLDDz/85ptv9Hp9dXV1S0tLcXGxx+NB6+hvS8p/K0AIXW9qV1qv169btw6kAmYBI5GIVqs9evRoT0/P+fPnSZJksVgffPDBgQMHlErl0BLTzz77TCAQrF69WqPRVFdX7969e3BwcPPmzXQ6fWgN89KlS10uV2tr68cff3z+/HmHw3Hu3LlTp05BGKFQ2NraunnzZpVKdebMGbC9gxDmgPDmlOBPiYVTxT6fb9++fadPn3Y6nSRJ2my2/Pz8TZs2cblciUTy1VdfnTt3bteuXS6Xa9WqVZWVlYODgytXrmxra9uxY0dn+rjmLVu2QOP98ssv8/Pze3t7sdcOB6acOnWKzWYDnm3dunX9+vXd3d2JROLrr79esWJFQ0OD3+8vKio6fPiw3++/cOFCd3f3uXPntFqtUChcs2ZNJBKxWq3Hjx9nph9cW/5Tiv9riJsDwpupBYAHlDAgYTQah+QSVnsTBKHT6WA1Cl4A5PF47HZ7MpnU6XShUCgej+MeKTA4RCKRIYWIR8xEIhGLxQI9YliDg/fO2Gy2kpKSqqqqeDweCARsNhtJkk6nE2abbDYbLCQLBAIejycej0OugsGg2Wz2+/1wpB6MUz0ej8FgAPWHpjlsmWhXuRk23fY4vyEgRN7gdUJ6vd5ut0ciEepiJYvFgkISiUTsdnsgEIBKsdvt0GVxu93BYNDpdBIEMTg46PP5IpEILGFIJBIgUYODg5FIJBgMwkRgKBSC4wUCgQDExYHXr6frc+eMCKkDEZ1OB2umwHNoOhCXUMG5gFCz0Irj8bjNZoNKD4fDgUDA5XL5/X5YJ6XX610uFy7/BpHzph9YHOfz+Ww2GzT2eDwO2gZWBsBCGIIgrFYryJvH44EVfLFYDO7tQ6s1CvNv15EDwpupOyoExuNx7NrD2gfqBBsuqcJ1oYgxIOjU/YjgA2+q0RUGEGjxAwrFxcU7duyA3OPtWdAACILALIHpI2O5M2zwD6cfaBLU49YgoYzTLm6GTbc9zm8ICFEM0EHlVjQa9fl8aHIAsASpQ8RCYaNuL4PaBM2Fw3oQSNyBAEuIcWcFLmEFMcP8oBxSM3Y73XcOEI7YsYYDXaE6qFUcjUZRMKCTBGHwaDSoRzC3QlvGACBCULPY40EBCIfD1I4vxMJgqFvAAShIXet3O2XjlqeVA8KbYSmIF4oIHOUA4gU/AVEqCoJ0ggzhmmMQNQiMp8/gr5gzajBYpON2u7lcrlwux4ND4/E4KD5Uf9SLrgAOIW8YAOiDQGMDGBwcxORgRy0WE/Pzq3X8hoAQtA+yGnXQ8JNEqBIF2/6o/IfahBEeVXIQxuLxOOpNakTsXUFIyAnurcbuUUaU2/l55wAhchXaGiITtTcMPWmsSmyVVPGA4/SgQrHDhFePZSgE2HeIBFEDwPEaQBakAvUYOn6LvWRk8oiOHBCOyJYf9yQIArUYhgafcDhMEATiDUoYdaQIkgTSHI1GkRQeI4LyjX0uIItpgQNSwbRisVgikQC4hdPUgA4CMCaEm+uxJaDqxNFhIpHAXzPS/XV+/laAEC0KIEXUrdAgEhkygxKC1Ye6En2w1qBqQJ2hMMD4Lx6Po2xA3wjrcbiZiyoPGOx2Ou4cIISJEqoNk3qUKLRBHBRSp+XgJxAn3P0Jh+yjAsErPtAHRAU+EVBh1pB6BCNVJNAN5w+DGMD5RLdTJH6+tHJA+JN4CygFNkZUZ1TwwH4ZYhXiGVXWQRyRAsTCMWIikUBBhF4/jAwwFkg26ETQXyj06IByUvOGyaEdFRU0zGvCwU4/iUG3N/JvBQgBxqg6CA5FQ1SjdqTwRD3AMGqlwx5qXHyPAoP9HmQ/FVkRAqn1S83MLw6BkO07BwixmqAh49YsaJhQNdQ+DdQgtGU8SREG8dQL1lH54E+wgpRqdQDBoGIwWM5RJ+C0C4oNNTpKLLUIv0V3DghvstYQM6jxUZtgF576K2ASTtXATyCIINO4rxYNUyjlEBfFDhMa0R9bCGg0SAJPDsTl1NjAgAh8wsUUkDfwz9Ch1BL92ty/FSCkVj3WNXhC3YF0Dccz6jTecGnBySHq6BAtCugJSWDd4Y0TOF1NpYzBbr/jjgLCjDUE2EmFVolVk9EYESlRIYCKQFM5GFdH7CFRBQMrN0M2MDkcj2KPHPXJiJoQCf5WHL8kEIKeTSaTd91119DOgVFYBgoddTQsifzR8NSbayAteEPEG+/2UmOhwI2e+o0TR2s7iP5PkarhEzzUnOOvMMLIwOPhxYEWNTw/eKDzKGWEWBAAu6UjqvXh6d6cDxSntLT0ww8/BI2PXVoqE/x+f15eHhxhlYINkozEosm0IxqPJUkiEPCRZDxJxgkyFor4kyRBkIkkSUTjMYJMxuJEkiQDoSBECUdDGCBOpKJHYuFoPJIkCfBPJKNJMp5+p35K+6cSTSTjSZKIJaIQJUkSQAoiwicQhHeSjKczk4oVDAeATiJJEGQySZKxRBzevoA/SZJQECT1Q07i6YLEo/FQkox7vG4oV5Ik40QC+QBuIJjmDAEZgEJB0olkPJYIJ9NcAp/0r6lsQLlSbAylWAef4WgISgpvLHI0HiHJWDxFigwEU+9wJMXDJPnPo+ppNBqeNZohFSBaN3iyDF50RQV4GA2jDGO7hjDYWEbsPWCjAKkb/kb0gsH6jUg+Ih+IKyDQcMrgA9zA3jbkhyrnw9k1IikoHUREylTOIB8we1h2TA5RlmpgAMaiDsFYwBBq9iAJCI+r4qH4wMYRc37LPY1GI+wjpNp+qfm8EfdN7iPECvhRIISpL5zhwJ5vNnZQM00dyFP90Q11PCIpmNWDWkQ6NyLWSByzSvVBN7XDhZ5UoUFPcIyYSWzM6MD+I4gd9BsgLtg3oDc3nBqkQu1A4LzmiP3H4RQwFeo8P15/OHr4jMKO8pmNTnFxMV7lCqVAngC1DCCME4lEMoVt8TiRTJKUmiVIMvVHGYInUxTSLyCVQshEAhs2agrUC+mpmjhJEolEauIWJCEUihDE/5UMDkyn8gpT/FcxSBFJZ4mEEqXngpOBQCidgWQkEgOi6ACeo1n1hySJwUF3JJKKBSPReJySG5KMxRLJZOr9Q3jyX7NB/rBUNZWfeDx1QQFyAKOgVPt8PigOBMMFQZQlPylJTOUkkeJtkiQHfd5kivOp56cDITITpkihfq1WKxwkDftJgunH5/MFAgG/3x8MBgPpJxwOgxuuLI7FYl6vFwLAwjSImO3tdDphQwLoDZ/PB7tcRgwPO9mDwaDX64XFoolEwuv1jhg4GAy63W6/3w8q22q1xmIxp9MJh2KHRnqy0fH5fMFgEPZcQakxJ7Cvxpd+IEuhUMiT3kEB+7ui0agr/QSDwXA4jPtz4HYwv98PE0Z+vx8OSoWtXHAIKqSVkSvoufr9fiiLz+eD28EgJxmBb+0nSZIcDufee++lSjtFG6Bo/4jjZwdCavqRSMTv99fU1LS1tbVmeRrTT1NTE51Or6mp6ejooNFotbW1ra2tzc3NjY2NTU1NzemnsbGxoaGhJcsDR3G2pZ/m5uaWlpbm5ub29vYsybYiWQjZ1NQE9LOFr6ur6+zspNFoLS0tTCYTksgWeBT/hoaG5ubmhoaG1tbW2tpaOp3e1tbW2NjY3t4ONOGTRqN1dXUxGIzhpIABTU1NcCYqfNbX17e1tdXX1zc1NXV2dra0tNTV1QE3atNPFraluMRgMKCCaDRaY2NjS0sLFHPEKMPz86M+VDqtra1tbW00Gu2rr7767LPPYO0cyAxVFcJyAOqIcHg3xecNxaJJvKnY709dZJ8aNKbHgLFoMhSMEYm04v5BKBOpAVUKShGEvN5/3oOTYWhKEmQ89k80TeNoEuin1XQU4Mfr9VPBKRKJxeOpCyIA/6LReGoYSPxfliA/VJ9wKB6JxFJDxR8eSAvhDVA/de43kcpMOBQnEqk3ljERT/mnskqS0eg/x2fhcBRAF/tGaShNDZkhcMAfCQbDwIofUv6X/8n04BS8gFexWAKKEwknsJPh93shzE8HQpAEqkYbujHt7bffvueee8aNG/fUU089mn4ee+yxRx555M/p54knnoDPxx9//NFHH/3zn/88bty4++6778knn3z88ccfeuihx9LPAw888Oc//xmiD38/8cQTzzzzzLhx4yD6gw8++MADDzz//PMQd/j74YcffuqppyAPDz300AMPPPDEE0889NBDwymDz8SJEzbCQe0AACAASURBVB944IEHH3zwySeffOSRR8aNG/f0008//vjjwymDTzY6Dz/88Lj089hjj0F5H3nkkcfTz6OPPvrID8+TTz4JTHj66aenTJny6KOP3nfffci0p5566oknnrj//vufeeaZhx9+mJrWk08+ef/99z/xxBNPP/30Q+nn0Ucfffzxx4Hwo48+Culi0g+mn4np58knn4QCPvHEE1SaP4f74Ycffu655/7t3/6NTD8w4oIWBz43+L4dQIjLmaLRaE9Pz/jx4+eM+syePfutt96aN2/enDlz8vLy5s2bN3fuXHiDg+rORmny5Ml33XXX3LlzZ82aNX/+/Llz577xxht5eXmzszxzf3jm/euTJfjsWbNm5eXlzZkzZ8KECffff//06dPfeuut+fPnZwufLZ9z5syZN2/e7Nmz33777enTpy9cuHDevHkzZ8586623Zs+ePW/evPnz5wM3Jk6ceN9992HZIb9IFso4ffr0d955Z9asWXPmzJk5c+bChQtnzpw5d+7cBQsWAFchz/DGuFTHjBkzxo8f/9BDD82ZM2fWrFmQNNQFNRi6s5U3m//cuXPnzJmDv86dOzcvL2/+/PmPP/743/72NzD4wEgFhmIoxxkjwtTYI0mGAsFwMJSyycGYjwIhGJFMkv9U1mAVTSNfKPQvV05mjKUQDmGdFMBbPJaiQx0UppV1BBJCrAoGwwir/5cHMo066e9YNOn3hamQCWiHgZNJEkAUfXDhKPogFgKWQxT8FRyxWAL+MM+QKKx3BbhNRaewBSJi3pLJlAEXkkiDaCISSZl4kGCqplKGZ5KIp+AwHv3n6PaWACF1RpwgCLvd/tRTT9HpdLVardfrFelr/zQajS59P582fVGMRqNRqVQKhUKbfuB0aZVKZTKZ4NIPhUKh1+s1Go06y6PX67u7u9944436+nqDwWAymRQKhUAgyBJcrdFo9Hq9XC6HJHQ6HSSRLbxAIFAoFCaTyWg0NjQ0vPHGG11dXVqtNlv4bP5QBGCCwWBQq9UymYwaWJe+GBXyQ6fTJ0+e3NDQoFKpNBoNpK5Wq5VKpSr96PV6pVIpk8lUKhUUB9gI/gqFwmAwqFQqpVKJSajS191gNux2u8lkOnr06NSpUzUajcFgkEqlo/AZ6fxEh9VqbWpqeuCBB3CPZobeyGgU2T5/diDEPh1BEIFAoLW1dfbs2Xq9Hq6yHP4GYyCcuhKPx91uN8zxwpYaMLTC6Spgm4pleZqamubMmQMHxIRCIZjPAyMAmAsy3rAQNBqNgj+sxYJJtYyQ8AkLnWOxWGVl5fLly2E5cji9rXXE8MNLCj5QFhh/hEIhODwCLCdwtTRMxScSiStXrixatAhsp1hoJAv2HzxyEFaogky4XC6YMA/98MAiCyRCdSQSiZMnT27atAk84cwBNDFRQ4J7xMKO4gn1iAGgQgmCKC4uXrZsGVjb0MqB63VHGBESpG/QS5KEQa9m93Y3NtVW1VzX6nUJIhIKpyYLSTLe08Oor6+l0Vrb29taWprq62vr6mpMZh38SpJxf8DdzehobqlvbKqtqa2ktTc3NNY0NNbEE2EiGU0hZiIcjvirq6/TaK10ent7e1tnF62ltaGuviqeCMfioXgiTJJxp8tKa2+md7Y1t9S3tDawexmNTbUtrQ1IhyTjao28tra6sbG+q2tIL7W3tjW2tDb08djRWBDykyRj/QPc+obqpua6zi4as6cTMiZXiCEAZKmru72urqa+vra1tZlOb+/qbm9qrnO5bUQymp60iyXJWHNLfW3ddVp7czejg97ZBmHcHjvkJxYPeQYdDGYqG7W11a2tzU1NDc0t9TW1lcgZkowbjJrqmoqW1oaW1oY2WlMq3fqqPh4bwiSSqeGuUilnMOkKuZQkiUg4iEPDnw6EKAPQN4rFYqFQaObMmWKxGKQaVkhC3x/eOPhGWwIoH9icANONEBdmE2GWIeMNRtHx48fDaftIKiMYfmIfBVc/4N4nDEN1/NDVSA3WtVrt+PHjLRYLzu0lhz3UuFQ3sAWXKeAcKrDin1ZrgoCWLhaLX375ZTjEChbxweLnZDIJDEGTOETEmSzcEoY9VASSRPqB/CI/GxsbX375ZWoYap5/DjccwHTPPfdgori2H31uxPGzAyFkAuWJxWK9+eabVAWXkUusQvTHuMB08MeVWhgsw9Ha2vrYY49lGNCAeEZI6idM/0KFUZOjhslwV1RUvPXWWyBPP0o/Iy6KFy4xHR4As3H+/PlXXnlleADwydidBu2BKuUwDoDAo+ezoKBg6dKlMCxD4tnSvVX+586d++tf/4rdJqh0rPoRgDBJJon4uvWr7nvg/3vq2QcXLpo9cfIzZy4VuYMm26DWE7RI1fwVny+d8trzU157/rWZU6bPfvm1mS/NnPfKmUvHDDaFK2B0BYwDMtY778+Z8tqEGXOmvTn35dkLXn9h2l+mz57azmgwu1SugNFgU7R11c3KexXovPjyc1Nfn/j6rMmLPloglHMcXsNgyGpxacqvX3zplfHT3nj+lRkvvDn35Rlzpj05/uEly95zeA1Ov8Hu1emt8qJzR16ePunpCY9NfX3Sq29Ofn3W5GlvPL915xdqo9jpMzp9Ro1Jsmnb2klTn5n2xvMz5kx7ZcYL418YN3321OOnD5qdatug1mCXC+WcpcsXvfrmizPmvDJjzisvvTLhxZeffXn6pKqGK/ZBvcNr0FvlA1L2Jys+ePHlZ9+c+/Krb744aeozU1+fOGPOtLauOpc/xRzboLa5o/qt+a89P+XpaW+8sOBvs1+YNv6FaX95f8nbSr3QYFNYXBqLS3Ox7OTU1yfOXvD667MmT5z81IsvPztp6jNfbFmpMojsg/oUD/2mcyUnHn7s7ocf+d81az8jErFE7JYtlkGEAxlOJpNWq/X5558Xi8VUmQRJRmkHB0zcDhchAFdo3aPIrd1uh2ENzMrjwHSUKBAStQ3kecTwgD0AYGq1esqUKXiF74jhR/HEVgyYhMoEWy5mQyqVvvLKK1arlboEAYOBFZra1siUAeNfppABGhHsIVfIbUy6urr6pZdeAj4guI5ShJ/+E0EQHo/n3//937FPkFGQG0ziZwdC7DiAjmtubgYgBP0+/A35hirEk/qwVoYXcjgF8GGz2ZMmTYL+2o1UDK6YuEHGwXRLMplsbGx87733YGQzStxs+URhgiWacCIXCiLkHMaLZWVlf/vb37BXlUEQksajDrENoF0au9hwtlNGdPwkSbKoqOjzzz/HjW4g5RggwzFKkUf8KSM6fpaXl69cuTKRSGAnCUER6GSYRpNJ8uCh/Y88fm8Pt1GsZvQr6DITV2rsU5g4AlWX0sw1D0qlerZY26MwceWGPomOJdb28GTtChNHbeWJNF0qC0dp7hVpmCINU2nu44jbJDqWwSUaUHbpnUKlmSs39ipMHKW5jyuhKc19eqdQbuiTGXqlejZfTrf65EDT6BZrbP1ibY/G1i83cniyDqW5T23l82QdciNHZmBL9SyDS6iy8CQ6ls4h0NoH5Ia+AWWnwsQRa5kqS5/W3i8zsFWWPqmepTSnkpAZehUmrszQK1Qz5EaO0S1WW3kyA9s8KBGqGSINs1/RKVQzlCa+RNejtferLH08Wbt5UKK190v1LIGqS27kKExcsbZHbeXrHAKOuM3gEkn1bKWZq7X36xwDfDldbuRIdOkU9Vy1lc8SNBtcIqW5T2FKfSrNfTxZB0/WIdWz1Va+3ikEXhndYqGaoXMLhTpmipRtoLH1+/ETxx0/8U16WVCqun76iBCFB+QWFpVMnz5dKBRC6wBVAOoPkQCVb39/P9xZjXO9eO4rUEbBy3AkEgmtVvvqq6/C1R/YPLHdZTiAGtw/g3AIzTaDMnxi6iRJKpXKV155RavV4vhsxCgjelJWLZFgG7Pb7U1NTdDwgWl4IJ9QKJw6dSoehAutjNqHiMViHR0der0eR5ZAB7kXi8UCgUBTUxOuogJEB/4AqUgkUldXN2/ePOw6jDLSHbFQN+EZCoUcDscf//hHYCyM+yE/4HOD758dCGGMhb2P9vb2d955B+VmeC6hDDBCunDhglAohCVJYPpzu91YN0h5OBGSJOl0+pNPPgk/IXyiY3gUj8cDR0QihIxOHyjEYrHy8vIPPvgAWiA2m+H0R/HBjircOoaXsCM1gIQLFy7Mnz9/FDpOp/Po0aNwjC8Eg7JQu8AsFqusrAzPWxqR2okTJ1atWgVxkRsjhryFnhcuXFi0aBEQhGrKqKwMIAyHw8s+++Ri6QmlkaOxczQujtTSI7OylHaW2tmrcXHEhm69p19qYsrMPQorR2nrVVjZWjdXYeuRW5lqJ0tm6ZJZutQOrszco/f0a108mblHZU+FlFtSdFSOVHiRvsswOCA1MeUWltzSC2F0br7UxFQ7uFoXT2piapx9QEft4Cqs7FRCLp7KztE4+1QOttKeoiYz90Awkb5L4+TrPH1Sc7fa2au0sySmLgimsPWkc5uioLCyVXaO2sGVW1gifZfC1qNxcWQWhtLWq7T1QtJyS6/a2duvaVM52JagUGSgyywMg5cvszA0zj65hSUxMnRuvsrOwdSVdpbC1iM2dkIm1Q6u1MRUWFMBdG4+NXWti6d2cNUOLvBEbOiGEkmMKeIyK1Pj5irtLI2tT23mnThV+Nr0adFoasXNrQJCEHvswLlcrilTpsCVjaivUUhAUMEKmkwmr127duLECVAmYD07f/48HlSGeAm5zXibTKYJEybAcfaQOqaSERJ6wzab7fTp06jiqFsRRgyP4yej0Thx4kS8Om144NF9MFfgEAgE69evBzeoDlQgfD5/2rRpbrc7o3OJuzhIkty9ezde9olFAEYBb4eWgK5btw6uB4CMIX0AMJIkq6urJ0+ePHq2b/mvWq32j3/8IwAzZBUzduNpjRkIqSwmCOLuu+8GY/qPJgkROzo65s2bh1s7R4zldrtNJhNJkseOHauvr0cJEwqFZWVliPajS3NHRweMCDH86Nzh8XjV1dWQHzjjitq/GzGf0O+rqKhYtGgRNBi0uQcCAUgOYRvbM8ISiCyUAk+VLCkpKSsrA8rURAmCKCsry8vLo3oOd2/ZskWj0WBLG24Olcvl69evR54Mp0CS5PHjx1etWgU/YUjIPw7XqMWBkFgd2IGAwMgBJEWdeAAuJRKJS5cuLVmyBD5HrKkMIPR6/R//48PKpgspNe3oExvZgHaAE/AGOIE31f9f3VylbcS/FN4M/1NbeU1d5XXtpXXtpR291QPKLga/gSVo7uTWciW0Pml7WXXR2bJDWjtPae5VmHvE2m6hulPv7Feae2VGhtLCMnsFMiNDZWX3K9rF2m6LVyo3slRWttLC1DpYKVC3c0Rauj0okei7tA6u2tab+rPyfhhZ9qmtPJ1jQGZga2x8jVVQdLGwurW4quVS0aUDJy7sK6k8oXMI/hnrX4ugsI9QouFlvBEfoa5b5xYafTKxKYWgV+vPPjvhCVwlNOKIkFqtBEF89NFHly5dGlECR/R0OBzTpk0DIIQAQBDkCt5KpXLPnj3JZLKjo6OoqMjpdML+9Gg0qtfrYabc7Xbj0uIREzKbzS+99BLctj28JQ6PEo1G1Wo1NGdofcPDUH1QyFUq1UsvvQSXRWCbxVNn4/G40WgEXeT3+0OhkMlkAkUfi8UsFovH48G25vf7+Xz+zp07EeogJLBFIpFMmzYNDWzDMxOLxU6dOtXW1maxWCAncDEO7v8Oh8ND16d8/vnnVqsVKAMRKDUSrKiowDnCcDhstVph1YXH44HON0Cv2WwmCMLtdoNZOBaLeTwer9cL1KxWK5qLYQMGwIEt/QD3gsEgeMKNQHfffTeUlCpjmKsbcfzqgDASiTQ3Nx85csTj8Vy8eJFOpzc0NFitVpIkLRYLSLBare7p6UGlPGI5xwqEBoPBYrHAbUoCgQAWoYxImeqZTCYzgJBqUYzFYiqVSiwWa7XaoUvnY7EYl8sFkwtBED6fb2BgAD5Btvh8fkFBwbVr14Y3vx8FQmgAhYWFjY2NHR0dcKEPXApqt9vB8Guz2Zqbm3fs2IGthVoWcCcSibNnzwIQwrHgbW1tQxemh0IhPp8PF62B8Gm12nA4DMvDXC4XQRACgQD0VDQaFQqFGo0GlsY4HA4ej9fT0+P1eul0OqiYSCSiVCoFAgFg6liB0OcLvDB5/Pd1Z+QWlszaqx8US00sGLugHv+ZgHD/0c2nSgo27/qMI267dO1YdWvxniMb9x7ZUt1SevC7baXXv9uye4XSzHUElXIji9nfsGX3CpNHrLH1ae08vbNfpKWrbb0iTdfuw+sluh6Zga22pvylhm6Nna139kt0DJtfKlDR1VauzsEXqjt1Dr7SwtK7eHITU2PnqG29WgdX7+IpLSyFkXfx++MHjn05oOzafXjD1fqz35zeKTemwsAfciM1Jr51QKhzD6jsfIGOqXT0KW2915svbNuxAY1vtx8IQXpZLNaaNWsMBkNPT8/27dtra2u3bt06ODioUCiOHz8ei8Ua0g+LxRou+egzJiAMBoNisfjMmTN+v7+6urqnp2d04ti0k8kkFQihFeARwYFAoLy8nE6nb9q0SalUGgwGGo3GYDCKi4u9Xq9YLIbtVdBp1uv1LS0tQ61+zZo1GT1UgAexWDw6EJIkWVJScurUqcLCwn379pEkyWAwqqurCwsLw+Gwz+draWmRSqWffvopYBjyChRXMpmEmZ329vbp06fDQJlOp1dXVx85cmRoXeGWLVsaGhqMRiOLxRIIBOXl5Xa7vbOzE/azicVi2OgFN5lzOJzKysq2trZIJFJQUFBZWbl9+/ZDhw6x2ewvv/xSq9X6/X5a+qmoqPjdAmE8Hi8tLd2/fz9JksXFxd99911ra+uGDRuSyWRpaenx48ctFkthYaHBYBCLxVDNWCtUx1iB8PLlyxcvXvR6vcePHxcKhWq1GqqTSnO4ezgQovklkUiw2ey6ujoOh7Nq1SqXy1VUVKTT6YqLi0tKSkiSPHv2rEajuXjxIvSLL1y4EAgELqUfnPjFFH8UCCHk3r17a2pqzp8/v2fPHq/Xe/ny5ZaWll27dpEk2ZV+ZDLZjh07Ru8RD3Wlly9fnkwmDQbDtWvXGhoaioqK/H7/okWLxGJxSUmJQqGora1tbm6WSqV1dXXXrl3r6Oj4/vvv6+vruVxuIpE4deqUVCqtqqq6evWqVqt9//33eTze1q1bjx8/zuPxNmzY4PF4WCxWW1tbaWkpXOo9ViCMx4kXJo+vpZXKzD1KR5/WLRTpGSmTJmUM9HMAoc7B7+TWNHZeqWkrpnOqOeI2oZpxuaro29N71JYBqY5zpfrM7sMb2noqm7uv6hyCfkUnX06X6FhCNaOx8wpP1q5zDJg8QrmxlyuhpSYUTfy2nsrUHKehR+vg9is65UZOW0+lUM2Q6tkGl6idXUVjXde7uBo7W6zroHOvNjNKDO4+mbFLbWNxRO17Dm8++N02roTW1VfH4NfzZO2OoPLnBsK0rZUvs6bAVefpkxtZJpsCzg3IZhql9tZv+YgQRn4qlergwYPxeJzH4x09ejQUCu3bt0+lUsG92cFgcMuWLVeuXEG0wPZFdYwJCEmSNBgM27Ztc7lcy5Yto9Ppo8z7QCrZRoRU/ojF4h3pm9q+/vprp9NZWFgIMybLli2TSCT5+fkOh8Pr9S5ZssThcOzcuVOj0YRCoV27dmEfF6iBhhSJRNmAEHfufvPNNwwGY2hV2tq1a7lcrl6v5/P5GzZsIAiiqKiou7t7iODWrVvxAlRqWXCBRVVV1RtvvAHqS5Z+Vq5cSZLk999/X1tbW1xcvHHjRoVCIRQKL126VF5eLhAIrl+/TqPRNmzYoNVqXS7XF1984fP5XC4XrNf76quvjEajQqEoKCjweDylpaX19fV1dXUXL16USqXff//97xYISZKsqqqqqamJRCIXLlxoaWkhSXLXrl0wmAAIWbVq1fHjx0c/QH2sQNjW1nbu3Lmh6YTFixefOHFi9KaCzWY4EFJtBY2NjRcvXtRqtQcPHlSpVJs2bSJJUqfTrVy5ksvlwoIUg8GwZ8+exsbGo0ePxuPxioqKmzONggli7969er1+aNVcfn6+VqvV6/WdnZ07duzw+/0rV64E+z5kA4uQ4UgkEmfOnFm+fDn4q1Sq5ubmTZs2JZPJo0ePtra2fvvttwUFBTweLxwOFxQUNDQ0MBgMuVxOp9M/+ugjuVyu0+lgQCkSiZYuXepwOLZv3x6LxSoqKqqrqwmC2LZtm0KhOHDgAJ1Op9Foer0+Ho+PFQhdLs+MWa9UNJ7vV7dr3P0iA0tl77sNI0KluVfv7FdbU0tOwFapcwhOFhcc+m6HxirQ2UVXqs+s+/LTS1dPfLzqr2xBW1nV6Y3bVyhN/GNn99W0lVS1XDIPSiW6nlZmxQef5lkGFUfP7K9ouHjp2jG9U6A09wqUzEPf7fi+9tyH/5hf0XDxSvWZquaS8pqze7/ZqDRzz5Ydut584WTxgTOXD0p0PeeuHG5n1ew+tOngd9sUJq7RLVJZ+jS2vgFlx88NhGJjp9bFMwfF/Vqa2snSOfu8QfMvCIQkSbrdbo1Gc+jQoXg83tHRcfHiRZIkz5w5w2QyAS1Ikhy663jdunVHjx7NEHvq55iAMBaLDR0Ws3btWpIkBwYGPv74Y5xpo9KkurMBIQwWA4EA7MI6evQom80G/Nu4caNcLoeZvMbGxlWrVjmdzqHwMELKy8sLh8MWi+Xrr7/GmQhMhSTJUYAQ9FU8Hj9x4kRHRwdJkidPnuzr67t27ZpSqdyyZUskEvn666+bmpqGTKabNm3SarU4/IAkcOoqHo9XVVW9+uqrMIQoLS0dMq1t2LAhHA6bzeYVK1a0t7fv3bv36tWrsVjsm2+++f7772F/WiAQqKio+OSTT2Qy2Zo1a8A4vGzZMq/Xe+zYMYVCIZPJdu/eTZJkTU1NbW3t8ePHy8vLoaS/WyD0+/21tbUXLlwgSXJoeyadTidJcvv27TabjcPhfPvttyRJms3mHTt2VFZWUsUrwz1WIGSxWEVFRbFYDNoMIC7Oe2UQx8/hQAgWdrgCQq/XnzlzhsvlhsNhnU63aNGiaDRqsVi2bdsmkUg+/fRTwMWdO3e2trauWLGCIIiKiora2lrsYWFCNzgi3L17t0KhAIs/h8MpKiqSSCTbtm3zer3vv/++Kf3s3r17lHIFAoEhO8/atWvj8bhAIDh9+jSTyTxy5AhBEHw+/4MPPpBKpRs3bqyqqgoGgwcOHOjo6ICGYTAYmEzmP/7xDy6Xu3LlylAopNFo9uzZEwqFCgoKwOhRUVEBU79CoXDnzp1gF4X1b2MFwmAw/PqMqdcazsktLN2gQKjvMXpFt2FEqLJwJDqGzsFXWTjmQUm/gq53Ck6XFh45uUtrE4o17MrGS5t3rhKqevZ/u/Vq3flOTuPWPWtleu7flsze/+1WWMapsvBEGuaaTUu54s4tu9Z+vOq9AQVDbuxVWfoa6RXrty5XGPvXfbmMI6L/bcncPkkXX8aYuWBabVv5ss8/1Nkl3X3Ni5ctrG4pW791ucrcX1JRtKNwfWpRq7HX4hXrXTxEQTVlfHxrTaNqZ6/EyFA5uWJTl9bdK9F3WZ2qXxAIwUanVCqXL19utVpbWlr27dsXDAb37dsHZokvv/xSr9dfvXpVJpMdP34cW9Zwx5iAELYD5ufn8/n86upqOp1eWlqKw7LhxLOZRjOapMPh+PLLL/fv38/lcgFgjh07ptFoDh8+HI1Gz549W1xcLJPJjh07FolETpw4sWfPns7Ozg0bNgyNekF7QKsErBrFNArr6hOJxLlz586fP6/X62tra+12+2effdbd3b148WKJRNLT0/Ppp58KBII1a9bAylJYuItACGnB0lNYmRGLxT777LOampqlS5fClMry5ctNJtPVq1f37t1LkiSLxVq+fDmNRpNKpRUVFSKR6MSJEzqd7sCBA/X19Twer7a2FpbniMViFou1bdu2SCSyf//+a9euDZ2osHjx4sbGxv7+/t8tEAKPVqxYIZVKjxw5ArWycuVKiURSVVV1+PDh7u7u77//vqGhYfSe11iB8NKlSzt27JBIJGVlZVeuXFGpVNQ54REFGmQ6Y44QBZogCB6P98EHHxw+fPjcuXMkSVZUVFRWVtbV1fX398fj8fLy8mvXrtXW1sK82ueff15UVHT69OkTJ07gKixM90aA0O/3nz9/vrKysrOzk8vlRqPRZcuWlZSUbN68WSaT0en0Tz755Pr169u3b4c5VySe4YBVoyRJqlSq/Px8Go32wQcfWCwWv98PdqeqqqqBgQGCIAYGBt5///2CggK5XH7t2rXOzs5r167FYrGLFy+2tLQ0NjZyuVyJRLJ06VKNRlNUVFRQUOBwOJYvXy4SiRobGz/66COwD5MkOVYgJAjy6WcfK689rff0p6ap7Hyde0Ck7/q5TaNaB9fgGtDYUgOv9B9fa+8/X37kZHGBRMfS2geuN1+E0eG2fesqGy/19Ld8uXuNytzf3de4buvHBcdTWGgPKCxe2d+Xv82XdWmsoj2HNy9Z+bbeKVBZOFxxx+5Dm8qqTnewa7U24Yy8l3qFNMugYvm6j8prLi5e9q5QxeHLej7fsrz42ukP//GOytxfWnly/9Et6W0hXJGWLjV0q20sxMJ/YcitmyNUWNlSE0tiZqldfVo3V2Pr8wYtvyAQ4lV/bDZbKBRKpVKBQBCJRAYGBqxWq8Fg6OjoMJvNAoFgYGBgdOvlmIAwFosplUoul2u322HKH8dkGc0KP3GsRp0jBG2D26PtdvuJEydqamrWrl0LowKhUKhSqfDybblcLpFIYI7D5XK1traCKRKBEAgCRI0ChDhLYjKZOByOVCqFo4llMhmfz5dIJLBgh8ViMZlMmUw2hNCgnahAi4hYXV396quvdNccQQAAIABJREFUwqJTLpcrlUr7+vpA2ygUCoBPXBxEo9Hq6+tDodDg4GBXV5fD4YDFfVKplMPhwIaNIRWq1WphctFut/N4PJVKBcsRamtrwSio0+l+h4tloDM1ODjo9XrBSgAnw8IBuGAQCIfDcDAuytZwx1iBkCRJj8dDkqTT6QThQEgbThx9ho8IoTsGUigQCGpra00m08aNG1taWiKRyFBXCxohFBMM/SBS8XgczhTGdoKpgAD96KpROFlDJpPBMqJEIuFPP7hka3Bw0O12jw7wwWDwm2++gWM/k8mk2+02m81gwcBDNPx+P+QfAng8Hjg2KBKJwCk2JEkajUZYJwYHPSQSCdgGAwciQw7NZrPdbgfjzFiB0OFwzZrzeln1SaGuU2phK+18tYNHVfqwXwKnCTN+onyOuGSUSwnwLystFeYelZWttnL7Fe3mQZHOwedK2jbtXP7x6gVCdbfGxt/7zcaPVizQ2PrXb/3HifMHzlw+tHh5XjevfvfhDeW1p749s9M8KBFpGB29VbPfnVrTerng2Lbmroo1mz+y+aUKE5sv63pn8czNO1d9d6GAJ+08eengkZO7SitPHjm5S20Z2Fm44XTJ4fKasxfKj4nUrCUr3tlRsHFn4YadB7/QOVLwbPEJZcYuveuHtaY/24hQYeVoXQKVo19u44j0XSxB06XSU6hVf5HFMrh6DheeoNxSJyyozWpE95iAECjgOem4cXlEyhgY+tBUIITF5KBzYrEYnU6HLRldXV1MJhPPdscuMq4zx4RgyxkORkGrwHuUVaOgWxA1UTkQBIFndCDOYTbQZAX0cZhbXl4+f/58hHO/3w8BYFsLACTEReUA+cds4w0B0WgUMoN34EBI6GdAXQOp3ycQQmlx9RQyGuubuiyT6pnhHisQoigAnZueI0ShiUajBQUFQ7vglUplS0sL7OelNkg8EQrPBIJfIWmkA/n50REhwAzIEzAN6IAbqAF91BcZHMPPkydPrly5ErOBVQAsAlLoxktHqXvhISEUbqBA7SlnBLiJ7RMEQVZWX0ntgjcyTAGJyMCSmlgaZ2oFI/4hCiqsbPQc5hgbECotLIObr3OmloCmtj2kduVzWYImtqh+QNmhd/ZzxK0SXY9QzaBzakQaplDNEKi6ebIOgaqrk1sjN6amGFWW1K7/PilNqmdzJbTm7qsmj1ik6dI5+7r7Gr85tbu85uzazR8fPLFdZe5vZVznijukeqbBNSAz9HRyq3oG6lUWjsE10K9ob2PWcMUdPQNNeqdAqmeqbb0qa4/alnLAH7W8t3DVqMreJ9L3aFxCuY2jsLLLa0+/MHk8XKnxiyyWgXkpgiCgIaAwUyUf4Iq6pwiDUR1jBUJsyNAoqKRGdEOWMlaNAiDh22q1njt3rrKyUqvVYolwex82JarGgLSwtUIq8DkKEFL1BkTJyDOqEerAAFPJAMvGxsYXXngBKMCgBXeUAXEqi2DgQSWLB99QPRF9ISfIIoDSX8w0St1dl0gk7r33XtxDk8FB6ifoxHg83tnZ+e677wILqAFuubutrW3atGlUsnjGCtXzp7uvX7++ePFi7AtDtUGtezyevr4+oVD4o9gzPBvQQ0TRTCaTZWVlCxYsgC4h+g+P+NN9jh07BnOEOA3+cySHfVvIcGlp6ccff0ztUKPcQ4CMfYQRIuz0mbVWgdzUrbB0qm1Mg5svt3BVVrbR0y83dSstTJ2TIzN2Gdx9ahtLZemzeKUCVbfS3Key8DS2fr1TmDo/xcqXGHo1DoHK1i/QMI2DUrm5T20fUNp6pSYmbKtXOdhyK1PlYKe22Jv6NEauwTqgt/TrzHy9pd9kF6oNXLm5T+sUys19MhPXOChVWvkDaobaPpDaAm9naVwcpZ0p1NMM3j6xsUPn4Yg1bKtXqbH1S/Vsk0eitvLEWqbBJTx59vC2nesHxMzS8qLGtivphPhaM8filQlUqRGnwSWU6lk6x4DaykvbZvuNbnH6MBq2zjGgdwrkRpbOwYezYKR6ttzI0TkEciNHoOrWO4Va+4BQzbB4pVp7v9zYa3AJ+xV0o1ugdYq5sk65uU/jEMjNfYZBsdzClZlTh+9obH0QUm3lizRMnV2kNPEtPqHYkDoQQO/pF+vZZRXnp70yGW/kGD4iRA2IJ7wsWrTo8uXLo4grbueFgZ3P55s2bZpEIkFSMCC4te06mUyq1eoZM2ZQNywi8IyS2xv8iUpKLBbPmDFDo9Hc2vYFKIVcisViAoFg6tSpsIML/PGI6hvM9o8GA7JD9wVNmTLlRwPfwgBghfqP//gPKk3Eaarn6O4x7yMEcjgO+M///E+4VStbMjhMhsx1dna+9tprAObZotwSfyaT+fjjj0M/EToat1bagHIikbh27dq7775LEARVxKEIcHY29NpurlBIAYBw5syZN0fnxmPFYrGioqKVK1dC0lDMG49+0yEvXLjw17/+FaKPeF5dBhAmyFgw7pLr2Xon2x4a4Csb9C6uzJA6UE3nEKSOVTNyVBaewsRVmlPnq2nsbIme7k0o02ZDltHDG1C1qm0sg5evdXMZwmpzQKDz9PVr2tTOXqm5W+sUivVsjUNg8EikRo7MxNW7xan3IE+o79B5+gS6dqG+Az41Lg6cEaNNH7bSr2nTuDiuuFxmYahs/Tq3UGxgGQbFake/xMjWuYUa54AtIIb5PKWFKdHTtY5evatXZqRrnAMniveX1RX1SltS57zYeoy+fompS2FmmAb5qY2Grl6VlaG2Ma3+foG6BaKbBvn2oEhq6FCYu4wertzUqbQwVdaetGfK7YpIpYbOFIvShlOxrkNp6VZZGTon2xkWiXU0lZ0zSGjEhu7UhJ+Lw5bWqxw9+kGu1sES62gae4/CzFBaUr0NpYVlGhyQ6Onpk3d6B7Q0ja2vo6du4gvPjH7EGrWBhEKh9957r7i4GLaE46nN+ImBscPkdDqnTp0K+5qgLd9Ii4YO5Y2/YS3e1KlTYZss9gWzCTZ2TDMc2cIjwXA4rNVqp06dinNmI0bJIIuf2UqERKhgoFKppkyZgkM0/AlsUdlIjeiP9Ic7CIKoqamZOXMmbsOH0duIdLAgGY7hZH/Ux2Aw/OlPf4JbE7BoPxorI8CYgTDD3vU///M/sF4/ozz4ielBx43BYLz33ntOpxMD/EyO1tZWPOMA83Br0wKyJSUlH3zwASZB7YhhrYBNY0ypIx2gTBBEeXn5woULqUSoEkb1/yluOGv0s88+Qy0DI7OfQnN43OE5Lykp+eSTT4Bj2HVAx/BDt0MJXzDukunYEm1Kp+tdvabBAaW5V+fgizRdqdkyr1hl4WhsfXpnv8kjNA5y+uR1SmuX0tqltjOkxnadi2ULprDE6OGqrAytgyU3dRo9XIObI9bR1Fau0twrN7JSB8SY2HAwqdzIktm65PZukandGOAZAzyxuUNioavdLI09ZZCU6NuNnhR49CubZEa63NRp8Yr7Fe0mj1Bt5QrVnbDERqCiq6wMuanTNNindbDUdobGwRTpWtV2Bk/dqnSwB3TtcluP1MJQ2FkqZ6/MytS5WFJju8HTq7B0ys10malDpGt1hAUae4/WwVJYOiUGmtbZo3MxNY5utb1LaelWWrqlhg61jalzspWWbq2DJdK2mX19cjNdbWcAKUhU6+wR62gyIx3QUWpsV1q7rAE+OOyhAYWlU2bqUFkZCnOX3tUr1LTqXVyDu09uZWpcHIWJ8+3JvXPmTvcOptb0ZzONokiDDlm+fPmWLVuYTCaDwejq6urs7Ozq6oJrRLu6umg0Gp1O7+joaG1tZbPZ3d3dFRUVEyZMKCsrYzAYNBqto6Ojvb2dyWR2dnbSsz/dY3y6urqKi4shIR6P15a+LJPJTF3VMeKTjfyIgel0OpPJpNFobW1tPB6vrKxs6BK34uLirvSNJCNGyUY/mz8QYTAY7e3tHemHyWReuXJlwoQJFRUV3d3dbDa7tbUVgtFotGx0YNvx8DfQHP7u7e3t7Ow8cODApEmTWCwWpN7e3p6Nfjb/EZkwiieTyRzaAn7vvfeirkAxA1G8wfeYgRBMf6gc77777s2bN+/Zs+dQlqewsPDAgQP79u07dOjQwYMHV6xYMWHChL1792YJfsu8V61a9dhjjx05cmTfvn379+/fs2fPwYMHCwoKblUCBQUFe/fuPXDgwLJlyyZPnrx9+3Y4lIFKv6CgYH/6uYl0CwsL9+7du2fPnv379+/bt+/w4cMfffTRxIkTDx8+jEkcpDzo+RMd+/bt+/DDD9966y1g2q5du44ePbp79+6fSDYjOiXjB+GnvLw86E+AHOMxyijHGSPCJEl4fI6zxcfbGNcVhl6Njc+V0LQ2oczUYfX3q21MnrwBhk1caYPK2pNeS5KyK6bn0lhqK9fkEfYr2o1ukcbGlxnYcPK1wpQ6JtsZUimtXQY3B+AEtH+KiJMjNrCsQYXU1AuWw/Tpo+x+NV2sZVq8UpGGIVR3w6nWVp8sZb10MBWWFOBJ9O0WHx/QyOJLHWktM/Qa3SKpnpU2iqZQXO/s13tEKjtfZecrLDylla9zSVgims4l0Tn4cmPqYE84lc3oFvHlHbDjwugW6RwDEl2PwTUAR7tJ9UyFiaOypA5jU1n6ZAY2FEqqT1HoV7QDHqssfSpLn94p0Nj45kGp3MgxuIRwhLfcmGKRwsRWmDgaG1+g6jK4hFBAlaUvfX43S2HiyC1cqZFD72144tk/f3v00D8vhhzp0G3UUzhpNG/evPHjx8+fPx9uu4QrKvGey/nz58+aNQvu0Zw1a9abb765aNGi+++/f9KkSQsXLoTLOGfPng3XcM6ePRt8hr+R4A064MbTcePGTZgwAYjPmjVrFPp4s2aGY3hOMM+zZs2aO3fu/Pnzh8Bp3LhxUPxs4W8w2xgM6ADf4O7PhQsXPv/88w8++OCiRYumT58+c+bMOXPmLFy4cNasWaPcM4oEb9DxxhtvLFy48OWXX77vvvvmzp373nvvLViw4M0338wWPYNd+JmND9n833jjjbfffvvf//3fQVHA3XCoNG7ccTNAiJareDz+3//932vXrt2yZcvnWZ6hDZVffPHF+vXrN6efv/71rw8++OAXX3yRJfgt8160aNEf/vCHrVu3fpF+Pv/8802bNm3YsOFWJfDFF1+sW7duw4YN77777rhx41avXr1x48Z16Wft2rWff/55fn7++vXrV61atXr16vz8/LGmO7QlaN26dWvXroX8b926de7cuQ899NC6deuopNb+8FA9f4o7Pz//rbfemjRpUn5+/rp161avXv3VV1+tWbPmp9AcHveHXKf+w69jBcJo+iL3T/6x5P5H7nnuxadenv7ilNeenzh1/NTpf2ljXLe4lRqz0BMy0lmN0+dMmTjlyamvTX7uhWcnvDj+0acemj77VSa3w2BTWVw6jVFVdq10yqsvPT95wpRXXxo/6S+Tpkwc98xjCz+YIdGwHT6t2aVw+LRHvtt775//e9K0pydPmzR+4tMvTpn41F8eXbX2H3aX3jVo8vgsRpt+266tz73w7NTXJr8yfdr4SX+Z8OL4x5565Ot963Q2oc4qdvp1Zpdq8afvPPP8I5Nffe7FaZOmvT7lsacffmHahEtXzpmdeoVOZHZqBWLugndmP/f8MxNfePalqc+/Pv2VF16aOHHS+Kb2GrNTa7BpHF5LO6PlzTnTp7z60ovTJj33wrPTXp/y+NOPvjJjCq272eG1aM1ys1Nb01j10ssvTJoyccqrL7064+Vnn3/mkSceXvjeAplG4PCaXH6byaE7deHE0889OfGl5ya8OH7iS89NmjLxwcfu/XzjKrNTb7BpTA7N/8/eez/HceT5gv/Dxv4yMRH3bncm3g/3Xrx3sRu6nR3NSBxZSqJIit57K4miRhRlKVI0oui9AUiA8CA8CO9dN9p7731Xe++7y+RNVgKlHoAA0RT3di+CHQwwuzrrm1XpPvn17oD1yBef/N+v/K/X3vzTa2/+6c9vvPrqsn//tz+9cu7iGSxkjmQ9ZrcmmPSsXLvi408Px2IJmC2Z/szXEaLrKLElKh87dqysrCydTieTyXg8HqM/8dkPMrFOp9PxeDybzaKgfW+88YZGo8lkMin6E4vF0L2JRAIZSM//myjxk0wmjUbjK6+8gtJcINP/UCg0nzK6gh57/t+F6iOjcZQaUK1Wv/LKK0ajcZHnn+2Puf8v/lqpVCoWi6VSqWQymU6n1Wr1m2++qVarUYrTRCKRyWQCgUA2C8OnPfUzt73Z70+tjAjm8/nu7u5XXnkFABAMBsPhcDqdXqj+/B5DVxbqt4Wuo3ABv//97xnL1WI7A7DkT8lAyMjuURO/+c1vTCYTIwOc3y5zAES5QpBodHE/nvlEnuPK+Pg4yt6Hng3p1Rm57nMQnHMLY9fU1NS0d+9e9GuxfQcjWiweoTlEFvmazWYZRQiyc0Oi0UVueVE/PXjw4MiRI4yEgTFae1H0n0qnVNEoSYJ4IkMB4HDZmzuaGlsbhsYHO3s7BkfHvMEQDgABQA4H/lCyb3Cipb23tfPJwMhwV1/vFJfVPzIQTUVyZJYABQIAu9vV0d3V1NbaOzgwNjXZ1dfb1dcrliuiyVSBgnQwX9hgdg2Nsrv7Rnt7+3t6ekZHRycmxng8DgUKdHreTI7ApUpFS0d7c3tbz0D/k96etiedfUODcrWOmH2YcCw7NS3qH2LVNnS0dz0ZGhtt73rS2fvEZDcTgCQATgA8mUwODg52dnb205+GhgYWnRE4EPXTFUgcEIlMur3rSduTrpaOzvauJ/3DQ31Dg31Dg7F0nKYD61gc9paO9u7+vsaW5o7uLvRqHAEfB4Ucmc0SOX8kYLCYm9paO7p7uvr6ewcH+oeHBkaGWTx2AT4JfJ50ISWQSB+3tg2OjvUM9D9ubYHNjQy4fO4cFSNAJgtSiXzCG/JRMFU940b4lDRMjAwJjX4mk9m2bRvyr0VXitcLWjLoFhzHka1ZKBR66623NBoNYzyJCmiiUgt8njrZFr8YCASWL19usViQBRxKKrQAeWohUuTCH/TAiUTCbDa/++67CBRLpb9Iu6hbEAuOtl+dTvf2228jHWE6nUY/zUkuuBDBOdcXei20tfb29n700Ue/ZsdYiP5C/UMQhMVi+c1vfoPwbxEkmvMic76WDIRovjJ2rr/97W8Rqi30oAiBmFa5XO7777+PwsAvdMsLuS4UCv/lX/4FaWsRQfQML4Q46gQ0oXt7e3fu3MkY06KRQN4wjDgIBUIsqWmmx5j52traumrVKmailEStpMoosgyj1UdvVBKFZ1Zm3gJND4qiSjWWQf0jFAuOf/3FwY/3Hvhk37bdW9q6WtKFZCQZIgCeyCa/+u7bD1at3LJj554DB3fu2777wM6PNqwaZQ3GMoECSOSomMWt3ntg5+q1Kw59su/A4T0bNq/ZumPj4U/3a/SKVDZGgFw6mxCKBXv371u7ft2Wrdu3bd+5a++2vQd2Hvn8sNWhp0CGAIlExjfNH1qzfuW2nZv2Hdy1e9/2fQd3bdi85tsTx2PJUDqbSKSiBSJfW1/z9rvvbNm6/eNPjh46fGTv4Z0fbfyworYsjccjKV8BpFKFyI/nv/vgw+U7dm3dsWvrwY/3Hvn84PpNq1raa1PZUDiJJfNBG2b4+PMDq9ev3H1g595De3bt37lr/46N29YLZXwC5JL5aCDmsbr1B4/sXr1+5b7De/Z/vHff4T17Du7afWCnWCGMpSNpPBzP+jUm2Y59Wz5c88H+j/fuPrBr664tG7d89OnRA96AI1uIF8hEJh9paa/9YOWbG7dt2Htoz6btG3bs3bbn4K6b969iQUckFUjkvclCoLGj5qPNK49++RlfyINZeWdxYSGOkFkmf4vefvjw4ZaWFoR5xbsEspdh7CyYheD3+19//XWdTsdsdnOwk6lZXHjmVJxTAQBgs9nefPPNv4UnRXSY5orJ/poy89h2u/3NN99EYfdLJTjnsZmv8+mQJKnX61977TWEuKgCk8eKuXFOYT6dpVzp7Oxcvnw502PM6p5DnOmBpdB8Zh0Mw/4m/Cuuxhziiy8uXi4ZCFEIMUQ0n8//0z/9k81mY958ocbQ4Q7F4Nm0aRM6myxU+YVcHxkZ+ctf/lLc44zLywuhj4hQFPU3X59du3YxRuHFLT4fL4goM1CBvuI43tDQsGbNmjn0X+C7MKRu3779N0kvGrJnjixz168slOo+gRNZiVTwu//+3/Yf2llZfbes4tq9imtc8bjFO+0Ki4xult0vbOy8VdV0taH9bnnNxcr6O9WP71bW3xKpxm1euQVm6+WbMWFLR2VV3a2K6usNzWX1Tfer6m49qr2p1vOMjgksJLJ7uUrD8IPqc3XN1+ubb9U0Xq9suv/w8e2KpjvOiF7vFusxkT2sEGiHH7c+KKu4XPf43qPam7WNd9E/m0tp83BcAYHNw5vitT6qv/S47e6DqguP6q5WNtyobrrdOVBr9yncIY3RKbL7FF1DNfdrb9W2V1Y8vne/7np5w/V7tZc4ykGTT2r3yW1emcOvbOwor2q8U1597VHD3ZqmsvrW8sr6W2LVlM4mtHoUVo/C7lPUt919UHO9qvFORd3NBzXXa5vv36u8rDELrZjK7Ba7giqZbrKs+nJdS1lZ1dWqxns1TWV1TXcqa6+ZHRI7JrO6JFaXRKmbuvvg7KOGu6ihhrYHdysutfdVu4JaZ0DlDKgsmHx4qvNexbU9h7b9X//jd2qVlMIzaBo8FQgZRgHtU3v27KmpqVlo2jASFzThcRxHjJper2fmJKKD9vT5Wy26shD9Ra4Hg8Fly5bZ7XZGgLRI4txF6Dz1J+bh8/m83W5ftmyZ3+9/gYDBvDVqCOUA0Ol07777LspCw/AGz2cQvlA/I0khiiyD9j1muJ/aD6VeXKjdQqHwt9QFv/vd7xjwY9iPkpp4HiBk9ve/pexh8hGifkfbN3oCZsjRI6KNdXp6esWKFXOCBcx54nwez+VTFEgAkCKIQiFP0SfNVD6XAbBIprIxeAtJi5zm3Dz7dWGHehyOEAUoispkowCkAMiQRJYCUNNfwEE2m6dpkPlCmiBzFMiTFLoCSBLQvUwCgKP1OSeyzGzjT/0fB6CA43mKBLMHZ5yul0nGU/SVHI7nSRzACiCJSDDTmqKopqamNWvWPJX0C7xIUVRFRQWKGc8M9AukvxCpurq6/fv3oznzVLBPJpPr16+fmJhAFCgSbN+1+dj3+yw+oS0kNfnEWgfbFhAukFxwwUgxxf7mf19+uqO9ycO1B0VmL8/k4Vv9MOOgK6yENqW0o73Jw/fEYexsnYPriWlgYFI6p6AjJIVhP70w3aDJw4d/aUtU+PABscHNNbi5nrhK65iy+IT2AHQQROmZ7AEYONTi49tCcltIqnGxTH4+loRujjBBfBg6CNr8MMG9K6w2uITIjxCavBYFFlha+envu1B/ukISs5eOJ+CXGDHeiXNHd+7Zms/NsIRPBcKZgaNgHZIk9+/fj+JiM9b2DPDgOI7KTOJSiqLC4fCyZcuK3fvQPGH2mYWmVknXKYryeDzLli1j8hG+WPrMmprvUF/Scy5Sef4iWiTo9iJ0SvoJjUVPT8+777771PVbErWSKs+PLPMcD/DCgJDZshlkRrI1RkeIhofH461Zs2YRP0KEl3RH4AAgqAD08bBAEWQiDtVCFMATyQhEwllRzPyOWwgIC3gGNjFzYwGAHGqlQOQzOQiHOAF/y+UyAMAgQwAUKFCgAR4CIf0hSSqP+roUICQL8Lw880YUReQLaUQNvk8BtokTGUCCfA4UCBjsDa0ZpqGXQFgMhHgBfHH8s/7xx/YgTCIPcSIgNnt5C23cSwODX6LSLESHcaSzByUqC0tlYQnVQ1YfzBRocHNRuBkTBm1Qh9gt0OQyIHZF5HT8T5EzLIM4F5ToXRxnSGFw8d1RBe2TBxPw6l0cLKZ0RxVqK9vgEkr1E0L1iMUr9ibUatuEyj5tDcqwhFrlmJSZx51RlcQ4OSXps/rkA1PNMsNk30TjLyjoKX6RJZZLA0KbTwCzIWLwFOIISWua7/zp9T/MLqun6AjRfGZggAHC4vM74++LNAtoK0CISFGUz+dbvnz5SyBkenKhwksg/M8EQmZUEBCi+T2HOyYIgsVirVq1alHRKAkAieNkLgvhAcch6kD8IAFB6yAoCuQLFA55tSwxK4phWmcKCwEhBSDm5PM4PV1gQKZshqAIQEHAIykAsjkimU4lkmmo/ycQ4wkBkCQBfZaFxQKeYfCpOOg20/rCBZICWRp9Yfs4TibjBLTHIEE05gMgU8hDnKfADA/KHC9ecoRzOMJIOPHeircHJpqgWzrGs4cVVr/IERIvBGAvCgjNHpHFK9baOVaf5PLdE619FT/f/EZunKp8fKVnrP7q/ZNdI7X3qi9MiXoOH9vKEvcif0R7QNbUfX+U26q1cxxBuTsCuUbESnYOPeodr7N4xQYX3+DiO0JSjW3alzAc/XZ351CNCRPDr0mNO65TWFm2kNwdV9nDCltIyZYNbN6/yugWnbr4eVntxc++2akwTZowIczi+x8PhHY/5GVnGvIK+scfL//grVg0hWZ+qRxhPp8vOgHPrB60xJg95G+pXBfJUL/wiivtl5ccYWn9NVsbDdZLjhCg6KDMYaQYkxnLGoIg2Gz2+vXrF+EISRInqRygQNgPoHsuRIUsALhVn0glQCCQGhiUBILw6FnAkwyDNTscv/y/OBAWCgSUy9NCSg+WzUHeDIdfKaDTuSgKxOP5nl6+BwNz1icdixaax5UKhEQBOKzReCwHQI6gkoACJoM3lwGYOzPYp/ZiOAVFvalCgaC5w5kXeQmEzIjOAUKSAP/2x39t7akwewXuuMoSkKIM7//RQGjxit0RjdbOc4ZU52983dpX+fPNb5Xm6a6RWplh6tAXW/jK4ZaeR0oT9/Nv902gw+1pAAAgAElEQVTwe5CvntbOG5hqEqiGQxkLTzFowsTOkMKEweDdY7w2rnwAxTCzBxRmryCcNSvN7Cv3TjZ03je4RIjPs/kVZo+Eln/ytXaO2soxY/L9n222eKVN3eXT0r6m7vuQxUQQG5G/MOD3L8ApYlwoHKZlsPagSKabGBjuKkAjXPgpCQjR0Rnp4ZCJJsoWy6AjuhgOh5HVKDMl0BpEew5z8VcWXgLh83XgSyD8bw6HY07fEQTBSPnRT4hBJElyampqzZo1i8TehHwYyKTS+eqKsaqH47k8RUGZIai8N5mMAdaUrPmx+NyZ5liMAACPx2d0aXMeAACwEBAy2JnJZfN4IRhMl5U9aWqESb9yGRAOgoa6IV8gO83V1NZMXb44XMhTOE7m8/jscoV6vucAwkgYXDr/mDWpJSg8k0sm46D8Xk8iDtjT+vZW+Y0r7fkClclH4IvQ+kv0Ri+BkBnZOUCYz5Hvvv9mz0i9J64y+YRGr8gWEFv9gv9oILT5Z5zQHUGl2spRW7kS3QQK5GbCJIePbVWZeRaPwuSWfXf2s7Kaaz/8fLRjsNod0d6rvsBXDsuNrI7B6srH1/VOHoo4MzDV9LirzOyR9ow13HhwhqfsNbphOqezV77++cb3P178sqr5pjuiHZnuvPHgzJ1H5+l0S3K2eOB+9dVt+9fRLCPMj6hzcHUOrj0oUdumDG5u6f2wAOAtAIRWLx/KRf1SI1R8Ck0uEQHV7TOf5wDC2VuhGh6dPtGKQzYdL3WETP88s8BwI0zNlzpCpisWKrwwHSHqfZRktZgdDAaDSDeOVIYTExMffvghY2M5/7Gg0QpIUgA8aVU11YmRRtBiDvW2mQoFEI7liTx49EBCQP3g8+gISaKAhC0FIk+DLqipneztscEnIYBRlxoZVBUIkMwApxPUVRsg70lBUSq9OKHYtlDIMaqOpesIKRI8Kp/qbJUiNlSrSowOmiDrmQYOB7hza5iCbwPFtoACuSxSH0KLHob1fKkjLNYRBgPRd957o7nrgSsi1zinDR4hnRTiP1w0OptxQmT2iLxxvc0v9yUMJkxMp4/gHf12t8YGgdDmUx0/ebiu7f7IdOeRr3YbnJLjJw93jzTWtNz98eKXbPGA1s7xJ/Vy49T18h/vVv3MFg/s/XSjwsiR6sfoCDKKK3d/rGsrV5kFW/auHJxq6xtvnZYMfnp8l9kjvXLvZFNXhc2n23FwAwojZ8KEBhc03sFiSl9SYw8ugmoLqQwXueUpP7lCEhTFxuDhG9zTZkwYiNhJckYFvnQgJEkSOVMlEgmNRoNhmM1mczqdOp0OZUVnHJf9fj9yqGc2jZccIdMVxYWXQFgMQMU9s0j5hQEhasPtdnd0dIyPjw8MDPT397e2tqJU5uiIh+O4QCBYv349M7nnPxlFARxEcDI30m9tbVBks9B6hTVhFbD9FCAT2fjpH5tOn+zDPDmo1ZuNZDGfzoIcIQUt1gAgs/kUAeDCfdzEHehzAwABrr9HKhBaCQDCidzJM1Xnzg0n4nlkAkCfTxEQForxaYk6QoIEw32Wx3V8ggT5AtFUz/FhIJ1NeEPRc+car10dSmcATkLJUi5XAAgRoaj2JRDOjO0cjrCQp5Z/8FbTk3JXBJpTmnzQGtPi45fOCZUGDFa/yJfU6F0cpMxDochQMDO9U3Dk6x2ITXRHtF/9eIinGNI7pHs/3ax3SK+X/dQxUK+1iT//9sBXpz61B2R6J8/skTT3PLxd8bPVqzx14fiWvasFqkGbX+6OaM9d/e7xk0qTW3G74uLjJ5UT3N723trDf90mVI7t+Xj9tGgoEHd8/tUhkWbY4OLDxPQhhS0gVpjHkdlO6f3wFLRbmIjE5oNZKaBKMgrDpTqDcl/ISltyw/FaOhAyK1ej0Xz33Xdnz549c+bMjRs3Tp069cMPP6CQ/cgW3ev1rlix4qWxDNNjCxVeAuF/MhDiOK7X60+dOtXU1NTQ0NDb21tVVVVZWcmIOPL5vEAgWL16NWITnzqQWejaEC+QqckRFwJCCoCGan7ED7J4CAfQoPr2Dc7QCJ8EM2zTU+ksBIR4HqkxSJzK4tBdArS0Cto7zAQVBxSorx1MpqFlTjybzFPg4qVhHkeeSsJzLoLPWVNSCFGIL1wiEOaJdFM9Z2LEXiCgOvBxPTsaBhRIxvFkKg1O/dAhFLrxGQ0LIMmX7hNzR3UOEEbCiTffef3JYI3exbEExPawwuIT/n8AhLYAbMXk4Vp8whkr0IAM+UL8DZAO/nXTlKjblzAYXKLjpw4OsVsFyokjX+11hQxf/vBxx0D9MPuJSD31+bcHhthNFq/UHlCU112+cvdHnnyMLR66dPvMveqf6JyF6hM/fdHY+cjm0124+SNbPLTn8OYJbu/BzyAQfvXDJ5dvnREp2Ft3r58FVJER49mDMAsVbacqXRjDSgP+hejYfCLEETpjMpNnWm4YjSRcmWwCDVtJQMio4aVSKbodaVIYT3NkOBqJRP785z+/BMK5C2Pe95dA+J8MhCh+SiaTYTSCSOnN/EWquxUrVjCWYPMGEZqr4FQ2myNGBvQN1XyKBA57rL1ZmkpDSabfl6Nw0PtEIxP7aRkjspfBKVAgiAJFzSAJSS6sI6SZSNrQJgUlOQRob5T1tjopAOy2aGcbL5WA5qm5HKAI0NzIUSnMSDpKvxQMdsZg4XwgXGQAKADqHpiG+w2ZXNppBS2NPBidqwBSSYDnwWC/1Gjw5gpZCqSgN+MsIi6dIyyQtC8z3SnZXJICuQIMMQYNggp5+B8F8GQC8poUSMBoWAt/Hj58+Nlnny3yLn9/azyZyEKLpmyagq2EaOPehVn1v7+Z+bYUP8J169YxfoQkiR/5695hdpM7KtFjPJ2Db/HKXEGVPShxRyEoWv0ivYsDhYReATQoDUgsHoEjILL7hRYPz+yZdgQFNj/PGZZoHVPehNLgnqZT2gqgD4aXZw1KDB6+NSjRubn2sEzr4pj9Ioi4QYE9CLM46Zwsq19gxDiuiBQ6RfhU/ePNP/z0eedArdWjEChGbz34qWekcZTddf3eueGpzvLqa12Djf1jrbfKfx5hPTG6YaBwo1t859H5ioYbAuXYlbtnesdaFCaW3ikwukVdI7VX7v3QNVLLEvc4gspHDbdvP7hws+z8KLtLpJz89sfPapvvV9Td5CsHTBiE5FkUFFr9ApgaIqQwuviukMLkFlg8ImdQrrVN+xM6uhpkna1+AVSpwpeF+ZiU5imYxZBO5wuZ7IBQ72LD/BJukcUrdUc0KH63K6y2+eUwQLlV6IvpZ/IA+yQdfXVr162Ix2fcfiYmJtavX/9Ud2HmBMn4EaI5wDgRougzaA9BbvUo3GAgEHiWHyGUEkHzcqhlSFEgR1Eg7AORMNxVKJDMpABBpumAqFC78dRP6cYyuQIB16s/ALw+KNLJ5qFB3FOJo4sMUFkslmXLlnk8HhhMh6IVLjPrBhoMIvflRApSTpMeCrhRfF0KAI8r5fVnCrS9OUUBsgCSqQwFkgRtbM7QZ55hER0hEqrRTm60nxiVR/JtnAJ2G911UFeD5wuggJMAzARMYCgzBTSsS7capUCWImaGgwJJioJmg/EQ2mtp00V6zGa+z27sTHNM4T8zMS8CAKTzYxzqmWMd6pF4PJ5IJAKBgMlkYn7KZrMsFmvbtm2LxBqFTgVUNpfHK8p7b1xtIwmgVFqnxk0UyAUCiXt32kYGNXqdn4Q7PfT8o41fIDjN/oNdhKxy/vSnP81ycvAiejBa+ggV8ADkMplU0J8pv9N963IvBYBQqOWw9RQJgsH0jZv3OjtGTYYoGgnaHI4WqGbTDINbEhAm07EHtwX3bneQIM9lO2Vibw5PeLyhmzeqWZNarTpA6whBOhdHXhxopJcOhEjiS+Bw2gKA5/EMAUAohoulIpcDWhyR0PgWfvKFBF0HfXvK35KAkGaMcXqFkAEPkCnEVnNqxkvzKbQXvFQyEALCF7FbfRKxccCTUjmjKpsfOq0bXHzaGx0aNHpiGptfqnNwvXGY/x1lb4DJlWjmCco27Szk3m7EeEaM5whB09NgBu7vJp/YGpQZPDCzBJbQmv0Sg0doDyuMGE9pmUBY64rILV7oGk87QsA0DsixHZl3Gt0iR1Bp8UodQaXZIzG6RVafDP0k0ozSclGR1SfxJ/V6J8zkYPZITRhM+BBIGUyYUOfg2vxSV1ipNE+5IzBBhMoy7Y5oEFmUVhclzYBZINwwVxRyyXBF5NCjkT4QmDx89F7wUX1CuWnM4oUGq84Q9Dax+qFrI+JrAymTJ6azeGF2C72T5wwpHCGp1sF2hhSusFLv5CE3f41tGvr4+ySBhFFrm7YFhFgM2ul09NW9vfx15iS6dCBEhnVoWqAYzdeuXSsrK/vpp59OnTo1s2ZpB95UKrWI+wS9oefguoaYB/XsBEVq1YG+LuXEhGh8REsBaIsOaJ9gRoQ7fzqWCoQECZ2PlcrA0LB4YFAok3np0BwlAyGyD0DBBuBDUlAj48USna2WoSENj52Op4LQmp4CUmG4qmzq3LnqYAjkyDybLTrxzUMI+XEXWtelASE0zYPdQI/dLA7j5BRLx2aburvkPm8WJ3PIx5o24J/fZ+h2SGXpQIgOOtBWn3ZdG+hVyGSmlkaeyQjj1lIUQZJ00BJ6LBcfr/kO9U9/xEWvvjAdIYoShCJBcDicL7744ty5c99///39+/cRcsRiMRzH+Xz+qlWrFnGfoF8chz57JOTJKABsdncKuhtEKQACXngRJwskSEBXQjiKxOwQwlFkkGNB0Sh0ICTpDKK0Yh+edqCZDE5QoVAqFiPicdqPggYUkoQaO9r9Ax6U0PAU9+ccYxm0bosrMOUCmciloLM8BTI2SyKThoUCDvJ5kMvSLpL0Ai7QMW6egyNE2EPvGDAQAUFCsW9TM0+lUXa1afSaGG2CBLWq2WyaiZXDPF5xoSQgxOGST+UIBwVAS63JYMDamgRqrauY4FLKpQIhBUAk5TF7RO6Ewujny8zj7rjK4GZZAnI9JnJE1M6oxuARw+BkYZXKznWF1Ua3yOyReONaV1gJjT9pKaLWxYMgGpJbgzJrUKa0se1hhcbJNfllaiffHlHbwiodJtK4BPaIWoeJ6AgvcoiIXhhczRKA6km5ZcoeFKF/Vr9AZR03YhzELzpof3N3VIHCx2AxpRHjBdI6lMkPJb7Xujgmn9AM0Veoc3PRX2dUYfDwtS6O0SvQYzzkmO+OKkwevso66YlD3hd69/vkWELvimnRm+oxgcbJtQSkOidL65hyhMRIkGsPwvA0/pTaGpQZvSKjV2T2S/SYQGWf1rn59rBCYeHoMZHZLzP7ZfawSo8J9JjAHdfoPRxLUGgNidTOKa2b7YzJ7BGJwcvVOacdIbHKMW4J8r0pfV1b+Zvvve4P+tBYLx0I0ZpFWwRBELW1tc3NzUql0mQyjY+Po19RKtPFjWXoc2QesmIzQAh32rpHXIct7fH6K+6KCDqiE0niBSKCAOOp07JUIMTpBXvz6oTdGbE5wtcujdJBOWYOnU9tggGqYo6QqUmQEM4hOBFgqFc5OmIkQO7H7waTmSgFQ8Cn/IEoIEFluUgkwggY4gqcOdFmM2ehjR1tZMfQZ2guwhEifgbVhDfS+28omLxxdRAnwciwoaVBQh/N4WabL/xiGMwQRwW09S0dCGm+PAUlbAWQy5MPbolwAgj59vYWHkkAgoCtzRwOCHS4n9PgzNf/chwhgwEEQdy7dw/xfPl8HmWUZphCFov1wQcfoLDuT32zHIyoRkZiUeTAnsvjWTpwEwUyOAEbgfOMSlIgTgE8S8+34tx1CI8XdZ+AjB26ZTZ5FQnRFLJK8C/6lytkUbs4nqdRE97FGMUx/lJLB0LI/tPTLJEOUBTI5kgKpEgKZLJ4NjfTLkHlCQpKgHN5JgDNUo1l8oWZ6UKHi8sTBHA5waULAxQg2xpMvU808AFAFs+jEG4LijgAACUBIR0qJ06BgMuRuXlBRADQ32t63CB+6uAucrFUIMRJIp4N6p0Ca1Bi9AstASkd4kRo8MCyHhPILVNIv2UNylwxNV1BbvSKtC6e1DRGqxVlBg8fiT1NPqHCOmnyCT1JjdErsATEeq/QFlEY/WKlY9roF6N/1jCkgCW0Shtbj/FMPqHGOe3P6KH/ho9n8vP1Ho45IMCSSoOXq3WzPSmVDpvWezgmP98RlTqiUq2brXWzDV6uxjWJJeXuhEzv4VhDEM512LQ5AF9H45w2+0UO2hrWFpL6M3qzX6R1sy1BodbNholw/XxzQKDDpg1eLrQS8okNHqHSxrYExAYP3+wXuWJKVM0aEpkDAr2Ho/dwdNg0vD0EHR5MPqEzqsASalsIvpHRK3JElEavyBqUmXxis1+kcU6bfEJLQOyKwXBuiKab9lRBLw5jF3h51pDAk1ZLjJNdw83L3n4tnf3FoX6JolEk/KTPplAfYDQa0Y6RTqfNZnPxiRnDsHfeeWdBHSE8BhcAyOD4jH8wRYBzP3RFI1DZcvZbViJBQHkJ/ASomcJT5mOpQEhRRCpFXL8gSqQLiXTh2s/CVIoOkPEU2jOXGKAqBkLElsFYIkQKcoTQOwzcvTaoVIYyROzmJYlWlaBAuICDTCE4NMD57stunxdkiUw2C+5d4zksUJCGRLIMfeYRlgiEcFujGQOr2X/nmjBPUlpt4sEtEUGRkPGAnbZgx5UMhATIkx74hBTAsOi1szIKkEaD/8blHopOfUK/Sw7u1UXB3Jk3Ygr/5YAQ5RBHzycWi6urq+VyuUgk4nA4xdL/6enp1atXL+I+AfVbs6w6HecM+hXhRAaHYwQFoslMGKEFTtLB0Ogm0dgzvbMoECI56kxdmjfK4WQCJwma0YTxZWgwhoiYgZ72eD6fLRRyTBNMAR1Xi41lmNNA8ZPMljPpdJIg0wQJNWo0s5+aiZUD8DyRTOeiBMjBeYhnyNKtRiHJGbJQ1p/JAAE/UFetoQDgjGUaqgU4iMOdgoT5degIq7PPNe//koCQPqUmSJDXKpNlt6Q5Mm81g5uXefOoPuNCqUCI/E1VZp7RIzV5ZRa/yuyRWL1Cs1cAvejoyJ/OsMzk4euc03oXB3mvW7xixJM5QlKTh0vr+UQWn9AdnREVOkJShXkc6hdpnEOYYQmInVEFAku9k4ey2noTamdYZsQ4EA/8AiQw1Dm4Gtu0IyhHNixaOweLqtFXrZ2DQtKEs2aDi2/2iJDzn9UnMboFMEUwrdpE+YFpJ3ooWbUHFDLDpNkjQSHZ7AEZoo9F1QYXH4uq7bSpjjehdoSkzrDM4IbiSq1jSueAzoVGtwCxv2aPKJg2Qt8PH1QQGjGOzjlt8vCR5JN2joThcrCYEsVEtfj4gbRG54QKS6tPprZyrD6Z1SdDkQQsXqnZI8KiavrAwTZgsm9Pf7Fx23oSBkmCn6VzhGjJMIYFPT09GzduPH369LFjx3788Udm0uRyOQzD3n///WcCYWH2OIvnwenvOhLQBg4CYTyOz4aqCMw+JkP+l0KpQAgAGYvlLp/jpXNkOkde+Ykfg0EzZmSMv9AtKjFAVQyEs4GrSKjFpIGQzIMbF3u0WpgF5f4NtVGbjWecOIyulXLYwhX3lDXVE+lCKh4nL54epbVrBRipY8asb0YThJp9DiC8cYmbI0i9PvXwthjujSD2woEwR2Dw8SjgdIYunRJRgLRZI9cvdc8BQqifpBGhqAt/Kf6XA0LkEZFMJimKYrPZV65cuXXr1gP6g9hB9BOPx/vwww+LD3q/vNNMqVDIA8gWglw2F8vn0JTKQC4qn6FABurAoQgUdk4BaYfnkVhER0jPUcgRomwvNLdXgJpbOCI4TqUho5mDnDncaikUbhQ2QNEx3nCoMf7ls3SOkAb1DAzwTZK5LElSOWiwA1lDYkbyAN8LHmbzOK3zpxthJL3PDLGGpgoteYeiUYoCU5O2+3enKQqM9vlqH00VSBgWjiIBlPHOhnD75U2KSiUBYa6QJWFOPqDVpH463UOAglyauX6FXURvScWSgZAAgaBn5971H65760bZ5dqmirKq61X1N6qbbmosXLtPYfXITC6x0sh+3FlWXnPpQe3Vh3XXbpSdfVh3pab5llQ7YffJvVGd1srjyQbvV10or7lU3XTzQe3l8ppLFfVXW3or6AzyWqtPrrJwRrkdlY+v17Terqy/defhxcqGG9funW7suO+JaM1usc0r09skPcNNKMHFtbtny6uv1bWUVdTdbO+ttWIqT9ikMQu9EXNTZ+XtBxeqGu+UVV0vr75RXn3jQc11gXzcGzG7gwYLJjfY5RV1t+8/una34kpNU1ltc/m9yqsNbRVi1ZTBLnUHDa6A3uiQlVVdvf3gQnn1tbuVF2qab92vunCn4iedjW/3wcQavphequHcLLtQXn2jrOr6/UfXKuvvXLl9trG90oJJHH6FP25w+JXDrPZbD366dvcstLupv/6w7sr9qgv0S+ksmERtnnaH1L0jrXcrrrR01dx/dO3Ow8v1rQ/vVV4dZfforGKzS+GJms2Y+ujXh377f/5GKpcwI710ICwUCsxBOZvN4jgeDoeR14TLBQXssVgMcY3RaPTVV19dEAjhgoWiUSR3Iemz4MN7425nzucPVtwVwRjCUJGOE1Rs8Y21pKDbMOwwABfO9bs9CcybvHR+kNYRzoRIZDqkuLAAEM4Gq4KH4AI0lciBjmbexLglT2XPn2L7AyH61WgxGAk0KvzBwycEwDNpcOPimNNGESCDdLQMfabRJQIhvJHeB0PB5IWfnuQKYGzU1NooJQGBLI/gIX6BT6kcIe1xmoLx1gswseiNC1O5PKlS+FubOCiyJiMahdvV/4+AEACABJ4kCQN4ptNphHb5PIxPjbqJoihkV72IsQyUDEBpNzQ1ZWJv5vJxWmBI5nIgnSYzGQqaQUKzSxCLQr4KfWbFC4sZyxQKBVohAUWd6OBG0Jw/sqskQTaP5wgCwh6dowJq7+jnIbMZOB7IyAr51JfGEUIATWXzEeiOTwGcSKXSMRgSACrtIPjhNOYm4vCl8rNn1+Kua1o0+0SB7gWCoAr5LJ1IA5jMsZu3unJZGJqAx7HAuTQznxaTi5YqGkWSZOh5GcWvXxnIE6Cn2zo8oltgvSx4uVQghKNHAalMcOnq+d17d+3Zt/fQ4X1r1n6wbuNKvUkZifvSuSgFcjqj4vCne/fs37Z955ajX3yyZfuGNetXfnr0kEoryRPJWDJAgQKHP7X/0O7N29bvPQDTDW7aum7ztvVHvziM+WwkyGbysUw+1tbZuHrt+3sPbN9/cN/O3ds2bVm/ccvaqzd+jib8JEjn8Fg2n3pU/XDTlvV79+/ad2D34U8OrNvw0dvvvnH73vUcnoIKHlDI4amTp7/bsXvLlu0bPv708Pad23bu3rZ2/erG5tpkJppIRzL5mNtrP3n6u117t23ftXnL9g2bt63fuWfr2g2rlBppgczk8FSBzOhN6s+PfXr40/3bd23es3/Hnv071m74cM/+bWqdFKUSjCa8UoXwwOE9iM6uvdsOf7r/w9XvfXH8s2DElUgHCJAJRrCOrpZPjhxav3HNvgN79+zfsWX7hg2bV5/56US2EKdAJpb05Yn4jVtXP/hw+cHD+3bv3bFl28at2zetWPlebX0VTqTyRDKRi6Tyiar6SplCSkvVSuYI0a6NojCSJBmJRK5cuWKxWFDeWgSBaNI8I8QaXJ1ZiIX0tklB5X5eJnE9aZOMjPBGBlWMsQy9F/3dcbZ4UpbKEdL7NRAKnT293L5+vlTqoVdEyUAIvaIpioBCLhIF+idwYLME6qoUPC422B3BCXD7MtfvJduaJKwR9/ikzBfIEIA0GX2ff3JHr/NTMIsOfJWSgJA2s4B3zVpawDKOk0PDsvFxbWeHxOvJFIhsGm5/KNplcW/9Ui4VCGdNDukg0iDX3sLj8VQtjTy9DiPow/qMHoruD2o2UMMv7c2W/stxhCgSEno8Pp9/4sSJeDzudDonJyeRgRBSyHE4nPXr10ejM2bWs69T/H+G3skBCdMwwWwMGah3KBAgQZKAN+0YGpBlsgQFcJPJ1d8rtJgdyHwfjR8iRFHEQsYysy3BVEp0sDRowIJi1NCxZiAg5XOAx7EMDgiyWQhULmegr2dcrbSg4xINKDP+B0vnCGneNQXlHgTIpElaAk7GIkRXh4TL0UGrThIY9IGeLl4wQKvK6QddOhDSoUrRPXBOZ3NwTU1M6cdGpQO9KpjRYkYkXMgW/LOIONsZf/9/SRwhSUI2NksmCVCYHPcMj6q6n9jiSHn792QX/1YyEOKAysNBVKuVHR1P6uua62rqLWYjagUdiXp6+traOhobm9raOtpauxobWluaO21WVzwGTZVwnMxkcm2tT5qb2luaOzrau5set7U0d7S3dfm8IeZpfb5AU1NLU1PLkyfdDQ2Pqx419vaMdD3pDwWh0A3tOy6Xq76+saPjSXV1bWdnV319Y2Nj09DQCHoMtOYVCkVVVVVjY2N7e3tHR0djQ0tDfTOPK8pkfrEwZLPZLS0tNTU1zc3NM9UaG3U6HRN1LB6PDwwMtLS0NDY2NjQ0tLW1NT1ua2xo8WBQ8Uw/DIyC1NXVVV9f39raWlVV1dfX19TU1NjYGA6HZ3cf4HJhfb1D1VUNLc2dnR39DfWQSH/fcCY9M7Gz2bzX63/48GFdXUNf30BDw+PHj5vb2jomJqZQnjKkONfqNRWPHmp0amhzUSAZieDSOUK0ayMWEAAwMjKiUqmMRmM+nz9z5kwmQ+eKgVHy86FQaBGrUXpVZnEii9Yycp/AcWA3AbcrDY+2IJmn3Xzoh/ylz5mBRoVSgZAOHQyZFoMxajLHkWHHItaVxUBVLBqlFZxIEoZUcbThKAC+QFajiabxKAXiep0/nwOhcFwuseYIPJ2DwBcM5CwGwuOJFCh4sC6mz7zaIhzhQpdzTCMAACAASURBVO4T6Rxp0BdgsGXo9wz1rgX4Z0HX7VKBEIAcCf24k/R4JQsFYDQEvU7k+gJ7ABJEjAcUxS14sPivCITIuAsA8DcfCbPZ7HQ6HQ7H8ePHGX04AGBycnLjxo2RCDTcgro/2kRqRgdLwUAv0CsGpyWf9MmOoHASFEhAZAugo4M/NmrOQC87PJ7KX7/W7vfBmjisBHV78Gb6TEQQhYWAEHEwtMYR7mNIEQsLBWhvhiJxP2nRs8e9BPTPwQ22cHmZwollciBOkCCTSwLgguas9MYzBwjRTkT/hbAD3wVOI9gQQZODynwKCnxwHGRyoLZGolMnCRjNNCfjgdpHbNqs1EcrDGbYNzSbSZJsbm5et24dM7mXWMhkMrlcjhka+uhHod3nqRRKzUfI7K3oJJTL5QoFeLZ9KvFFLiIgZHp1fs05DvX5DGTWd+7e8b9f+R8r1r390Zb3Vm58p6GtwhXT2kLKSMGptgtPXT6+YtNbq7a8t3bHh2u2Ll+3/f2Ptrxb03I/kHTa/Xpf3K4yi/Ye3r5uy8r1W1et2bRiy651azat2LBtNVswZg8oYwWnI6CZ4Pd8tOXdlRvf2rhr1dptH6zbvnzVpjd3HlprcEqCKZvFo/DGTP0TLeu3rVux9oNNu9Z/tHnF9v0bVm9evu/IFrtf64ubnUGtO2ysaLj1wbq/bNy16sMNb6/d9sG2/avf+OD/OX3peChtd4f1joDGFdKdufzVinVvb9q1dt22VZt3b1izZdWH65c3d9WaMbUzpHaFdCa34ug3B1dueHft1pVb9qxfs2XVxl3wkQan2owuaSBpdQa1agv/wNEtqze999Hm9z/a/P6OAxs/WPvWpl0f8WST7pDFE9NbvDKxdnzN1ndWb35r464Ptu77aMX6Nz7a8t7ujzeqrdC8lg4dp6hvL3tvzevrd61eu2PlR9tWrN76/oqN75y++q3GIfEmbf6EyuqTtfc3LFv+7//9f/4fRz7fHw4Hlw6ETBomOpQSnJ9oZrrd7ir6c+XKlR9++AH9iiaDz+d7++23dboZYQNzRlxkMs+fRc+8UjoQPpPk3ArMJLdYLK+//rrHQ9uMzK31/N9L4gifv5m/vxO9VAlWo39/+6/5htwn0Eb0HDsPavpFuk8wlrhms/n69etnz549dOjQxMQE4gXRg6Kg26lUimbJkRwAJ0k8n8d93qhcahLwtdNsjVBgcjjCtBknNP2gAGkygMvnR9taFFyOmyDA/VvCh/eFbS1KrQajjw5kgcjSjhHovWB076f6EVIAhCNJoVA7NSmfnJAJBJpgCCIcrZ/D80RaKnZeON/eUCecZmMEAPfLJ6prRU3NfF8AxqQhKNp5H0I13OvnAyGSuObz+VQqY7N5eTwVm6VmTWoVcqffF6ZPOhnIQZFgaFD38/mOznaWTASl/+dP9bQ3C9ubhZANpSkXT47nBkIUuX/O/JjztbihUoGwmBRKh10MjcWUFy+XCoSAAmfPnn7nvWVj3D4sqjO6xVhUZ8GgM4PMPGn2yzwJo84l0jhEjrDBFtR5Ynq5kWXxyrxxvdUno53ZRXTyW7nZI9U5BI6gSu8U2gNKhYkdSJkdQaVANeyJ6W1+hcWjMGNyq1dpxpT+pElr57sjWndEq7JwAimzwSUyusVqi9AVMmARg8YqMLrF9oAS2ZVo7TCOmiem0zn4OofA7JF64wa9U2h0iz0xvSusEWvHHUGVPaDEojraj1CisnDsfrUZg825QjqZYcoVVkPPPx/0MtQ5+Ea32B3RmjG5zadSW7mOoMrgEoUyVrNHavHK7AGl0S02YRJ7QGn1yWGcgbDGhEn0TqHOIdA7Bc4QNCzSOfhWn1xuZNn8Ciyqs/vVdCfAJMMmTOhPGu1+tSOgU9kEOpfE4lc4I1qNk2/wiH1pk9rBMXumYWINj0rvkPPkY//+5/99+crPiEVeirFMMRCiiZFOpxEcSiSStra2oaEhpFtBF1GG+vfee+8lEC6+jkrlCJ9JbYkV0D7wEghhdzFKb4qi/H6/SqVSq9VMjmkEG9PT0ytXrkwmk7PnuJkY1nAJkcDliGJO4LCSNks6EinQvFQhm8+QFBgYsFy7Mm5zxo8ff8ji6K9fVBgMZHPbyLXLTcj2MoenEGeJfBsWAkIox8sCqznucQHMCSymWCYDcALQfGeeAJmuTt3D8kmnCxw/OsAX6348MaTWxOtq5D+d6cwTMEkhbUK8YIZ6OkIErbSkQCYNbJa03Ux6HMDtLCRTtHs+CVKZIEmCinL+0JBFINJ9fXSQx3P9dKYrGAR3b7If3hekC9DmqHgKPjcQFhNhynOIM9fRGP2aDPWLUC5uZX65VCDM51L7DmxtaC5zRzQK8zhMgACjP3OR/4MeE9BOBWJkU6qBCCRSmqewmFJpmVBZYX1nWGTxcU1+vi0stgSFlqDQGZMZvFxLUCgxDQdSBo1tGqGCxSv1xvXQKtUnU5gmUQYlnYOLkgh641qLF2bfNbjpzEQw8rVc52Shv3SWRKkR40FD1rDS7BEhn3SNbdrqk9j8UndE5UvoJLpRFLbUHZX4U2qtg+0IyvVOXjCjV5hHbQG+1jFhC/Ctfp47KnGEhDrnpNYxYfFBs0+9k+dL6BSmSatPgojTMWIEjpBY72IrLWOOkNgTV+hdbCwGY8fYAmKDG9qUoiennfHF0J42qjZ7YOA0vZMn0Y1rbUKLB7pYOKMK6G0SkaBeckSlaueE2cuhwwjInEFtKGO9fvvMylXvJeNLdZ9ggLA4By8AwGQymc1mn89369YtoVCIthSUrAZlqH8JhPPXzpwrLznCOR2ylK8vjCNkGkPhYzAMGxgYOHbsmFqtnsU8mLOQw+GsXr161lgGmqvQCZvwQh64nVHWpLSrQzLYp5yaUFutdIgBAA1kKBK0dkwM9LkLFOjtdtQ1tV0+z3ViKRyAE988TCehdBQqw+E/GMx+EatRyBGG0+OjiuEB7fCAdmxEHgzCZBd5qkCQIEfFOlq1ba0anAQt9aGOrsm7N8XJJEjGwJlTHdDeoZDNQhPlHNrx53OEdKQ3qlAgshnKYg6MjSiG+lVjQ8bRYVkiQdv10HJ8igQ3rw/weEEcgItnlJNs7d07k5EoUMgLt6+L8Vn6TK/+eiBEoiTmL0N5TqFUjnDO7c/9tVQgTKdiu/ZsbO6qcIYU7oTCHhFB/4HQL954dEQ0qSUA/1mDsta+Cp5isKn7vto2FUhr6LhoXIObpfew7RGRzDJsCfItQb7JzzUHeNC9jw6rbfLw/SmtyjqJIllbfEJfUqNzwky5RgyilMnD19hZdKQxrisi1jom/Cn1LNDKDG7upLBzSvSEp+jnyvvYkt7e8YabD8/oHHx7UBLKGnTOabb0CcTvuArFu1HbR00e6AIhUPcb3FyxbgiLyZ1hEQqcZnBPmzzTFh/XGRY5I0JHWGAPSmjfdoi17qgCpbynI+ZwXRGpKyL1JpRmL0/nZFl8fORfr3ex3VGZ3DRm9gq8CeiAAdMKegWIjjMsU5qnbjw43T5QdfnOKb2HQ3s9spD7o8HLtYXFWFJpD8LAdUavRGXnyo0Tk/yuV/7tf0ZCYTQBnqkjZIAQ1SdJEqHd5OSk3W7ftm1bR0fH9PQ0E50/l8sFg8HXXnvtJRA+c4m9BMJndtH8Ci8MCJGPBPo7PDzc3t6+Z88el8vV0tKCdITIY4HNZq9duzYajRLETGK/mWeiYMiYUCAbCePBQM7jSaDgotFYmsfVjwzqQvHsxfNjak2q7bE3nEgP9oVa2sclMs/IAAyKRgtRc7R174zDw0IcITQ1xUm3OxYKgFAAuFzRWQEs6H9iH5kcSqfB5QsDGqO9qoqTyIDHjfzHj9lKWWR8VE2bTkGd34wu96miUaQShLwVyBcoDAt7vfFQKJfO4IUsvIgXcn3dbKnYIRRZKipYOgPW2eImAH7r+iif72SxNTxOGAd07ICi4fo1QIjAD4XwZzQrRbT/rvh8QPjcjCDTdslAmM6+9c5fOvsb7QGFHuMpbVN6TGT1yfUeji0sNgcEBg/fFoJe9nqMp3Vx/vrd/urmO0e+3klLMqFQ1IQJIQ9Ex3OxhaQGD98SgL7kjohcZWehIKWIk7P6RSiMizMsswXEFp/Q4ObaAmIjxtO7OK6InHbgg1fcEZXBxfcldPaAQufgj/E6HtZf7xio3f/ZZp585Pz1EyzR4PYDa82Y0uITyoyj9qDkyv1vhZoBdxQGb6OJ851hGRZV17Teau2rdEc03rheZWE5gkq9E3or6p08qw+Cn9Uv0jmnjRgvTljRczrDMq2DjWKnIf7S6BYgx0d3RIU8EU0erjsK0/+ivzoH1+qTwPwVCRjyxuaXOoJyrZ13+e6Jpu7y05e/QAEK7GGFI6J0RlVGr0hpYxu9kJnWYzxHROmKKd1RRe9o/ZmfvkPWZyWJRplQG7TiHPd6vSdPnmxsbLRareXl5Wh6xGIxiqJisdjy5ctfAiGzZBYqvATChXpmkesvDAgZtXYikYjH45WVlTKZTCwWs1gsJLZGqqPJycnVq1fT8lIYzwVpsPJ5aMyBTF1wsoCT0OiR9mcA+QJw2BNGXSoPYpgbxvRzuwABYMYGvdkmU1iTCdqPgjZtykN7U/RZUEeIU2mCwhl7nALEHOg+mEqlMAvw+n04DmwmSqXTxpJEHhrFAIXMq1E7U2nka1iAOQQzC3KE0FqHtkikjWWgdzytfSST6RgM5Ibj+XzcYoxi7gQBgEYXU6scQR/I4G48C1RKtxvzer3QV2QOtDw3EDIs4ByCsx019//nAEKmibm0SvleKhDmc+Qf//Tvw5PdQt2YwjoZLlhtQZXZB4HNFpKaIbMCo7TYQlJLQGwLSQen2gTKsZHpTrlhmiMdGmZ3YBHDGLeLJe03YBKjR2r2yXsnm9R2vsrGG+K0y41TzpBKrB2blvaJtSOOoHxC0DHKbZUZJoNps1A9IlSP9E008pVDEt14x2CV1iZ0BFVyI2uQ1SLRTVi8MndEq3MInEG92iL88oePNVaR3MCXG/hHvzk4JRzqHW/QOwU2v3xS2AXTzXsko9x2tqTXl9Bp7RytnT8p6FVbhCa3YpzXLVCO6Z1CX8Jo8cosXtkgq0WkGYN1hN08xaDWzrN4pVL9xCi33eyR8JVDHFm/wSmx+9VC1fgQqx3q/+yiacngOK/b7BEpTJNsSTdfOdTWX2nxSgdZLSxxr9bO8cb1QvWIQDUiVI+KtWMGF58l7poNPSOB54ygwhHWGD1SR1iDkiHTkXo4rrhc7+CGYk5mji2dI2SSeCNdIPK8AgBmmUkkEgxHmM/nUYi1l0D4zFX1Egif2UXzK7xIIGT0tIXCTPJb6DqX+rvwdGw2+8MPP0zAeEcFxhuPfiwoJi0UcrTL/IylJR3thQ4/Bi1IwzSvReJUMgdjsSPHcxjfmU7aAHMbIRCiEXcRq1FozEnflZ+NIAOv0JadEMPiMZgIinarh0pKnIAuHLQVALwrlggTIAGNaxYwlkGqPRyHgUmRQSs0ZYV+j1AkSj8bbAu6NyBtIwqBCIIoNkA6BZ2CkfNl8Wg9NxAWE1lK+TmAcClkn1mnVCAMh+IffLi8tbfGFVP68xqZdcwaVBgwmSUgtgTEVpiZVqRzczXOaT3GswTEiNFxhlRN3Q+auyuPnTg4LRn++cYPP178kicf+fHil1Id68zlr0Y5T66Xne0eafzu7OdTwr6zV75u7HzAUwwNT7fVtN4aZDV/f+6oVMc6duLgzze+v1d1acfBNcPsji++P1DbWmbzqa6XnW3tq/zy5AGLF+ZtoBkyIUc28Nk3u2x+RSBpVVv4Ow+tbego//zbfXVt91Vm3oad71s8igd11x7UXRuYbNXYWfaAzB3RfPH9gd6xloaOh/erL1c337EHFEoz2+yR3Hx4tnOw7rOv9/AV458e39PS86hjoLa89uqkoPfc1W/Y4oG7jy7Wtt679fB8Q0f5zze+7xpusHgUdyovtPZWVTTcuHLvpM4h2HFwTXXznW/PHPnq1Kedgw07Dq4TqkcFyrG7jy7fr7565e6PGhsXMpFhickP453OBm+TuGJqo1di8kFps84tNPllzrhS62a7I6pkJojArCSOcJGJAUMawnVEoT0kHA6/++67L4FwkR5DP70Ewmd20fwKLx4ImcUwu+/PGNFQFJXL5YRC4apVq2Y5whl7kNkQ2DAjBAkgx0ZS0KGEdoqA0FggoZd9YcaZJA59X3CAQ/avAD1n8RgSeEI3dDqbPAALAiFOgGwOmqHiZA6G7QZkLg9DVAOKLBBeiEYkyOX9KJ8L3V8ZqHfMQrcMmEqbBlGGY5uvI0R5mkg6mwmESxpD6cBIIE8EIUFICeZayuRBDsQhBNNXYPoYIkFBP64UScxwnMyAPTcQzpGFoq9oqTDEiwu/EggZnqCY5lLKpQIhQRCv/eUPnUM1Jj9X5500+KfpSJhSe1ihxwQGj5COji21BiXWoASG1qTVbAY3V6QZZkt69x/dOMHvmRT0f3niYM9I47Z9q1q6K3my4fq2+yfOHZ0S9Na1PdQ75Jt2r7xe9pMjoIG41X4Xi+r2frq1d6yturmsqum+1av9+NgenV02OPXk/PXvmrsrj586KFANN3XfR/Y7Vr/AFZFz5N3fnjtgdAtUFpbRLTh8bIvNLx9mdx8/ecSfcHz29QGZnlfRcGf3x5tHpntcETEM2+YRXS//sa3/0eBU24cbX2eJe40YjH+mtk2JtSNt/Y8+/WqHxiqoaLh1/vrJmpbyLXvXTAoGWaLh89dP3q++PjDZOcRube2r3Lj7vf7JJoWJvf3gKrNHKtKMbdq9Uqia/O7s51LddFtf/aXbZ0xu1bmrJ4bZT26UX7h0+wxXNt7U9cjmh9kqzF6OOcA1eNmelMIS5GvdbGsIsto0k600eWV6j9galqqdU3qnIJOP0DHf4WgvnSNkTs9of0BOOPMnLQAgFAr95S9/eQmEz1xNL4HwmV00v8LzACETnwwA8M///M9ms3k+3TlXmP13dHR0w4YNodAvDstzaj7HV0QchUxDQbcpihobG3v77beRBgLtzsVRKp6jlTm3ILynKKq1tXXv3r0ow+LzeQ7MoYy+ziFFEERTU9Nz+BE+lfgiF/P5/KNHj/7617+irpvzGIvc+Bw/MQNHUVRNTc2BAwfmHJ6Kac7xIwwEwx989G5L70NrSGQKiNQOthWmpeWaPNPehNzkmda7pkyeaXdUYnCzDG6Wyc3xRJVmTHji3JFhVuuZS8cGJ5tMLtHuQ5uqGu+VV984+NkOm0dbXn3j7KXv9DaZL2GQ6CamJcMHju6oaX7w+beH6tsf2HyqY98dGhhvq2m+U9lwTWPhHDuxW2EcG5yqv3bvdGvPo2Pf78PCGoOT5wrJzBjfEYBJB3mKwS9P7je4hNDfwCvd99l6e0AxMt186sIRs1t87Pu9XOmATDfZ0l25efcKo5vlDMGMidfun6hsuGZ2y/rHWldteEdqGNI5p80eyfGThyf4PQc+36QwsdRW9uadH3X2Pf765GcXb5w0OMTfnv64rvW20Sm0emRC5cjARNOmXe8NTDRt3Llca+UpDKw9hzdK1KyvfvhEbRI0tj+8du+0zav86eo3w6z2m+VnLt054QqrofWpc5q2EeXT5rhcvYvtCIkhg+jhwsCqQZHZB4N06zwcW1QI9bI+VSIdYcZrPhAy52PGtnzXrl2NjY3MLfMLTCRuhI7BYPDNN9/UarXMMQ5NzuJq84k8xxWn0/nGG28YjTA4A5M5tXiuFpdLpY/2IvQKBoNh+fLlNpuN6ZxSqc2vjzZnpHBFv1IUpdVqX3vtNaRqRQ+AdFLzb/81VwiC6Ovre/vtt9F4PR+p4r4tLi9EjaKoQCDwD//wD0yjz7dlPQ8QoihlaCxRPsLF+YB8Po9MwtBRcc2aNYzof6HX+/XXp6amXn/9ddQpaJ4xK/DXEy8+xj558mTPnj3FQQNeCH1EpDhbW3Nz88qVK18g8YVIFbtPpNPpYnOGhW759ddra2t37txJkmTx3Chueg4QptL5P77+h+buSqlpAkvpLAG52Q/zs1t9Er2TZ/GKvXEtyueHwl5bfRKLFyb8u3rv9MVbP3x8bEdFww2zR3r13unHTx4KlGNnr3ytsQpkevaBo1uOnzxc33FbrB0rr7tc21o2MNk+Keg9cf6znrGG+9VXjS751z8eqW8vE2vH9x/dqDSzy2ovfnP6M5F66ovvDxz7YX99xz06RLXE4hUb3eKukbrtB1cNTDUHUuZpaf/hY1vlRlZt252/fr/3by6J+45sYon67z663N5fd/fRZbVtSm1lmz2iE+ePNHVV3Ku60thZcevhJYlu1B5QqCyco9/sv1N56fjJww2d99VW7vGTnyhN/NbeqnNXv/HE9FOi7lWbl527dpwtHqhuvtPcXXmn8oJMz7776GJZzZXGzgdNXRVmTL73041c+WBD5/0vTx5whtT7j25s7Xk0LR74+Mtt35z5eFLYpXHy3XENTDUVkNkDMuT4YcKEyMQU5qb3yW0huSsps0YE9ohkYLK1vOIuM3bzgRBtzfl8njmP7tixo66urnizKy4zaMecjRKJBHKoZ34q3vKK7y0uLzQzi+sUl0mS9Hq97733ntPpZICWeeb51IrvXUoZ7UIkSRYKBZvNtmzZsng8vpQbl1iHeUIGXCmK0uv1K1eujEaj2Sx0tkZ10Nstkewzq6HjyPDw8MqVK5mmUWyNZ95bXIF5/iUWcrmcz+f7/e9/j+ozB5cl3s5UKxkIc7lc8fz7x3/8RzRjkFHi/L/FGMnkIwyHw/NrPt8V1InF96Ir4+Pjr7zyCvOeqMBwjcX1n6+MXO5Ikuzo6Ni0aROzVJ6P2vy70uk0M2XRw7e3t69bt25+zRd7BQBQXl7+8ccfF48yQRAvtpX51Do7Ow8ePIi2S2Y/LR6+OUBIUoDFmzRjEP/MfpnJKzO6RXQyWzlKmOAIKk2YWGvnGVxC6NseVSms09aAUm7mchRjUuM0Xz1uD6nllimTT2z0itjyXrNf4s8YxYaxCTF0abAHJSxx14Tgid4pdIXVU6JuqX5MZRNY/KoJUR9XOSozcSZEfXz1OEcxwpaN+NMOjmJklN8NnRehFk1h9ErUVq7ayp0QdEn1k/aAUm5kcWQDUv2k0soVasd5qhGOYoSvHtc6xf2sDoVFYPbLQjm73DzNkvbz1eMqm4AtG1JYUMoLuTui5UiHpiWDYs2k1iaEUQIsbKWNQ7sxwMyCvrSBpx4cF3Xq3WKFhTMp7pWbp50RrdYpZEn7RboJS0Aq0A7zNUNc1QBb3stVDQh1I2LDmFw/5YnouPLB9oEqg0vkjGh1LpHOJTJ4xAaPGOU7NHjEtpBS5xYavRJ3XKd2sPUetiXIM/p4XUP1r/3lD4lEDA3ZU4GQWSNoOz5y5EhTU1PxEBeXkYKweBJ6vd5XX33VYDAwWwracNF6L763uFy8yRaXi+vMKTudzn/91381GAzzTRzm1HyOr2gpoVcwGo2vvvqqXq9/DjoL3cL0BoNGFEUZDIY//vGPGEZneyiy23hu2Fio9Z6enj/84Q+IOXuxjEfx2BWXAQB6vf53v/sdw2sxmUwWesinXi8ZCBEAMCe73/72twjVnkodAMBsahRFZbNZkUi0Zs2aRWONLkSptOtisfjVV19F92QyMOdDafc/qzZJkmik+/r6tm3bhtYtM/medXcJvxcKhWw2m8vlmpqa1q9fX8Kdz1U1l8tVVlZ+8803KK8WWrHF+9FzUX32TY8ePdq0aROqh5qb05lzgDCbzyUzQZlh0hoSWQIwJ5/VJ8EiCkdQjhLTa2zTKF8SumIPyzROrtkvM3olUtOUM6qhne6FKEegPSJxJxQaF8vg5aLUfWYvj05pBD3lIWU6m5LBxUeu+igxr8I6HcxZDR4xltA7ImqtS2APq4xeidErUtmnA1mD2S9yhhQqC7R/sflh8ne1lR3JWUyYUI8JkI+jHhN4kgZLQG4JyD1Jg8I6bQnIjV6JI6LUufl0dkCYQdef0modbKNb4IlpkMODL6FTmqfMAYEvo1HZWRrntCum5GuG9JjAFpLr6NgCKjtL6+JAoTFtOqtzc81+kT0MEzHq3Fwsoda6ODALsU9s94v/X/a+xDuq48r7X5icSXKSiU3sZJJJzkxyki+JE9thRwghdoxtwGwBYYwxOBiMbRzvxnjBYLBZzGZAICS0IEAg0L4vaF97U7ekVqt39d799vpSdbuLR0uv6QZyBnv0Th+purrereXVq9+9t27d26oqcjIasxcfq9damnqMdUOeXhzukcQvhLMoEJsQUzDWG90dekeDxoI3L89cOJgyZzrETRtzjxBeEDoPBEFYtWrVkSNHRrNENAcKw42SJNnt9jlz5qhUqqh3mRaQr480TWuMStACUQlBEIxG41NPPaVWq6lCIqpGOamo2+P5Sq3o1Wr13LlzwcVaPDfGUwaAFlZpOoBqtTolJcVsNkMOVZ9CsXjI3rEMvLMFBQWLFi2CNPy9441RBeRjG2faaDT+9Kc/pccWYjysGAQTBkK510qE0I9+9KPBwcEYIjBwB9A4URRLS0vnz58PIZmihuDuvoJIDoF24RUCOtevX3/iiSdgMZUPzd3VMvouOqa5ubnPPfccXbVHl7y7HHhbIrEycG0XLlxYsGABXSaiEndXy+i7EEIHDhx46aWXaAeha6NL3l2OUrNzc3NXr15N66IKMdqMKCBEiDNZVcOuNqPrps5Wpx6qHXQ2q40V6qFqiBE44GgyjrQYbI0k9l5lt7Fca603ebvgQ0LD1+tstTpbQ89QFQTU1VjqBt2t5kBXt7ESIhr2WeohfiE+bz5Qa7C26Gx1w/72nqGKPntj50A5jqZLwtj2DFXpbA3E60rFgKulz96osdSohqsGnTc1pqp+e4PF1z7gaNSYqjr6ivostVCXxlKnd+CgOmsYZgAAIABJREFUuyTubr3ajMFMPVw/6GrX2RoG3a0tuuuD7ma9o0FlrNCZa3qNZRpTlXGkST1UabA19lnCEXr7na1aS+OQp9Pk7TG6u7oHaw3ORoj92zNUMehuHnA1qc3VquGqXlN150C5wdk0MNLWY6yBA4I9xrpBR4PF29o7WK4xVeGPpQ6OY+odNw3Ops6BctVwjcZS1zNU1T/SjMMCD9TqrTe11vo2fYlmqKGo8uLESY/5lCVCeLIsueDhrlixIj8/nz7fqAQV+ygnPTw8PHHiRI1GQwNx0zJR997LV1EUjUbjtGnTdDodlWnkC8i9EKf4BODd19f317/+9b77GoUWQpthrLRa7RNPPIE9PCNEJacoe/577BfcnpeXN3XqVIBA2tn7QlmJSDAYNJlMP/jBD6AA8C5U96B01+j8hIGQdhIQ6Be/+IXBYBhNV54DNtDgg62ysvL555+PeJaRl7rP6evXry9ZsgSmMrwwVIa7jzWxLHvx4sUtW7bcdyVDVCMZhjl37twzzzwTlf+v+HrixImdO3fSFwZC5PwrKpLTPHny5KZNmyAHFk060yBzFBDyPHJ36zE89Ntv9pmbhpwd6sEai69TZaxSGauIo7IKnbnOYGs02BqHvO16e3PXQFXXQM2gq73DUKGx1KjN1Tprs8nbA0HetZamzv7qgZGOPlsLCZBbj2WvoVqTq6unvw7cVfeaqntN1XrHzQFXC0CCxlKHkc+GoQXObBicTT1DVW36Emuop3ewfMDR2G9v0JlrOvXFVn9Hn6V2wNEItqw6G95gA+9lBmejariqx4ibB7Y/OlsDoHL/SPOgs7nf3mDyNPdZa1TGimEPjjncb29WDzdpzM1EDXuzXV8ZOfZ3E+LRD7ha1OZatTmMu332RohNTwTEtnZ9tc7aqrd19Fnbu/VlFk/HgKNJO1wLwwV34eC9zlZwKTDgaDHYmgYcLb2D1Y5gn9pYj4d9pHPA3nnk+N6ZyVOJo138uMZUjcJzFAQBsG3Dhg2vvPJKscJVVFSUn59fWFh448aN4uLiGzdu5OfnT548+fTp06WlpdfJVVBQcOPGjevXr5eUlCiQKYaSo/8qlS8vL8/IyJg8efLJkyerq6uvXLly48YNWmP8dJTol5SU5OXlFRcX19bWnj59OiUl5fjx4+Xl5UrlE80vKSmBRhYUFECitLT09OnTEydOvHTpUnl5eVFR0aVLl0pLS4uKiq5cuZIofaXy0IVdu3ZNnz69urr6+vXrly9fLioqUiqvlD96hGPn1NbW/jNgy6OPPgoa0aidO5hy8fxNGAiBKFUa/PCHP9y2bdvmzZtfUbg2b968Y8eOt956a9u2bTt37ly5cuWECRNee+01heL3lL2NXNu3b3/11Vc3btz4/e9//7333tuxY8fLL7/8yiuvbN++fefOnfdUgezmrVu3vvHGG++8887ixYt/8Ytf/OMf/3j99de3bt0qK3KvSejOtm3btm7d+tZbbz399NO//e1vaWZU4l4ri9z/xhtvzJ49+5/C9M6dO7du3bply5ZXXnnlX/G8oP3bI9eiRYuWLl0q5/FBdqSTOAoIiYNZbtfnr5/NO9ihrW1V1bT2VGv7m2rbCsEHN7iiHnR0NXQWdRvqbnaVdWhru/oau/U3m3sqhkZ6Bh2d2IJmuL2lt7LH0Nihre3tv6kaaCqpze8xNLb0Vg67VVpTU7+tvduA9/k6tPVdfU1dffU6U1uburqpp7TbUKc14ROKWlOj1tTc3FvWqq7oHWjo6qvv7b/Z1Vdf316sG8ZGOl36GoO1Dc4CNveWtmsrm7rLO7S1HdpavF+oqx6wd3T2Vffb2gcdXZ19Nb0DDc29ZS29lS29lfXtxV199arBxnZtZZ+5adDZ2jtQ29xb2qau7upr7NDWqwdbm7rLu/XYbzgcrsdexS2draqqlt7KTl0dEOnWN7Spq9XGeoO1jUScb+u3dnVoaxs6yrr1N1WG5prmwm59Q5e+dtDRpbe3t+oqMX8w0FTXeqO7r75TW9uuru7Q1DR2lAxYu7r7arWmZs3QzQF7Z+619P/+7c9Pnzkh4Fhf+BoTCCmfDuzp8uXLf/3rX09VuGbMmDFp0qS5c+empKQ8+eSTjz322MKFC//93//9d7/7XWpqalJS0syZM6dNmzZjxoxp06YlJSUpkJk6XeFSKj9t2rRJkyb9/Oc/f+yxx5KTkxcuXPiHP/zhn4v7DIVLiY5S/syZMydNmpScnDx9+vQ//vGPDz300KxZs5QK30V+UlISDMvUqVNnzpyZlJQ0Z86c3//+9w8//PCUKVMef/zxefPmTZkyZerUqTCGd1GF0i2TJ0/+7W9/++tf//qJJ55ITk5OSkpKTk5WKqyUrzDMMxQe4/Qnn3xy6tSp3//+9+lCcXeSbsJACHw6nFIQRXHChAlvvfXW/v37P1e49u7du2fPnr179+7evfvAgQMvv/zyk08++eGHHyoUTzh7r+zat2/fF+Tav3//xo0bf/vb337xxRf79u3bu3fvvn37Pv7444SpK9+wd+/ezz///LPPPtuwYUNSUtLu3bv37Nmzb98+5TsS+2X//v3QbBjbffv2/e1vf/vLX/4i6+5tycSoK5f+4osvli1blpyc/NFHHx04cAAen3Lxu/wFmr6PXPDIlixZAhKhXHCXC4VRQIhE5PMF3tv95q//36OTZj4+e2HK3EWpM5InzVkyo0Pb2DfcbRrpczHmpu7qhctSps95cu7i5DmLZs6YPSVlftKCp2c3d9aYHDqrW28e0ZfWFCTPmzQt5fGUBVNSFkxZvGz2xBl/TNu8QjvUbvVp7YG+oZGer898PnX249NT/zp7wcyk1Kmz5k2bNOOxd3e/ZrSpLG6tM9Bv9xg/2ffezDmTZsz+69zFyTPnTEmeO3XKzCd2f/FOv1Xl4axW78CATb15x/qpsx+fvXja3MXJyXOnzpwzZeacSWezj9m9g0N2rdM/2KFuWLpq4bRZT8yaNyV1YVLy3Kkp85PmLk6pay23ePpNI1qzW9vVV7/4udSpKX+dtSApZf7UWfOmJM3568JnZzZ1lZldKqtHbfNqrhZfSkqdOnvBzGmzJs1fkjrvqdl/nfaXtBfXDDm6rB6N1aOxefsOn9wzJfnPcxbNmDVvytxFqVNm/vXJ6Y+98d5200if0aV1CxaTR/vm269Onvb4gsWzU+clJc+eOndBcsqc6QcO7nEG+q0+rcWjs/n0sxdMe+f9NwIBX4zoExQF4ZmyLLt+/fqzZ8/S9Wt0AkpSXYvBYEhNTdVqtRDNhpa/j3pLoGmz2Z544gmj0SgIglylRGu89wRYjRqNxunTp1sslvvbBTk3CWOl0+lmzpxps9nAaAOquzvAiN33wsLC6dOn0zJUXqI5/4qEwWB4+OGHqVmy3DAl/uoSBkIgDUMpSdKECRP6+/vjqQ9uqaioWLx4McSyH/MuEr0Bh16CeEbE+woniKHIBi8JqCuESCDDcIj5Meko+RpFSAS/2GSjQmKYcCRSEhiTQ4gnftrCljUQyGJM+pAZdaBePgVj3BX/T7APB9r22BHqEfLgEYsMCRkxDkmI4b0S4gSJJ95tcJhNXhRuRfEd1ZR7PFA/il68GTEO1MOCGAgEFi5cWF5eDkwY0OU4bnh4uKWlpYxcNTU1tbW1Ho+Hmma4XK76+vrS0tLy8vLa2tqampqKioqWlha7nTg3IK7sTCZTfX19cXFxRUVFfX19TU1NSUlJR0eH3++n21EDAwPl5eU1NTVlZWWVlZUVFRVVVVVqtZou06IoGgyGqqqqkpKS6urqurq66urqyspKjUYDml7YStDpdEVFRRUVFWVlZY2NjSUlJXV1dUajkb5QDoejs7OzrKysvLwcKFRWVtbV1fl8PrplNTIy0tHRUVFRUVpaCjWWlZV1dHTQHQee500mU1NT0z9P09bU1NTX11dUVFRWVra0tNDRCwaDer2+tra2tLS0srKyqqoKOqhSqWjEGFEU29raoAooU1FR0dDQAKfaSUR17CAKdrLp5Aff+vPmzQM6tNm0AOx/r1u3Lj09fcz5EaUMgDJwjrC7u5veAgRh6GjmPSbG4xHeywBevnw5JSUFKMgf973QvOO9/5vxCOl7e9+BEICdmsBIkgTrCAwHvFSwMo75ttBRUwJC8PxCixFbI+w7BnJov6jxlbzk6PSDBIRBDO089mTD8UEIxAGe4YgrZBEcIuO49VBsdGdIzgMIhAght9sdCoVSUlJKS0uBLaDhfyVJ4jiOOqWjyy4VQeTzB7jFUCg0eg2l7y3IAZQOzaebpjByLPGQC2moQj5XgeUXBIEiJZ20NIfjOJhvoVAIqqOtCoUw5wfE6ZyEBK2RNgwOBUV9paMEd1FEl5tfgSEbrQjaT+mgSGA1nucpax/hR6EV+C/l1SALSpaWls6bN08QBGB5aRfobaIoAhDS2qNeZyALmXC7w+GYOXPmOBDSMVRKjB7tGBHqlYjcXf44EN553ODx3FEiJPEZgBr2yo1xkThOg1eOiHHhBYKkw07aRlevBISRklguBFAMhQLYQbZIKor8TP5HxKvbMm/78uAAIelL2Ccqx/sQwugOQ0fi3WPPpqJEnNRh56e39UL+5UEDQuKmHDeb47glS5aUlJRQiJI3G9KSJNFf6YIOE48uuPK7IBgeFJDn08mG/eEyjPwnpcJRABMFGKDvhWUdWkLJUoKU+YtqKuActEFeGNK0m9BmWoBCF+0LTVChECQzeou8m1BYTpz+CpnUZhg6Rb9C4tq1a08//TTtCGUUKBEKhLSKKDinJYEguFibMWPGOBDSkVFKjJ4Y40CoNFY0/4FTjYJMQ0I3sERNil1USyJIOTxC+PReRBoIIyXtjDwRGwglSeD4IJGcME2QCEERirc6cA6P114+IKc5Ov3gACFlF4j/1QBCDPbgSsIdE7kQ+3GVpCCGQx77FFe6HjQgBA0BwzA8z7/88stwroOu8nQZBQ4J0IVmgoIU1n2AGbroRy27UFKOXnL4gbEC8Q5EKwoGdK2nZSjaQV1Qb9Ro04roLhS1a6cEoQFwO+2vnA4V1Gg36a8gJcNX4CRoYyCTDhG4LgIKNBO6IC8JWlB6GJw2ktZIE/DTCy+8sHnzZpZl5RtRlL6SajQKTSkEAnG73T516tRxIKRDrZQYB0KlkYmR/8ABIWmrGGJ8EmIlxAZDXkApXgrhWH4CG4k7wQdZLwnGO3bvlICQiEeADzxCPBEHERPCkSLgw3ABEfvy5jkB1zg29UjugwOEgG0cH/QHXBDWgq5WRCnKBUMujIWIJXKhonuBBw0IQZjw+XA05N7e3j/96U9r1qzJzs6+cOFCZmbm+fPns7KysrOzc3Nzc3JyLly4kJubm5GRkZmZmZOTc/78+czMzNzc3Ly8vPz8fCgA92aQKysr68KFC1nkysnJycvLu3jxYk5ODtA8f/78hQsXgE5WVlZubm5WVtalS5fkdDLJlZ2dDXdlZWXl5ORcvHgxLy8vOzsbKJ87dy4zMzM7OxsIwk8FBQWnTp26fPlySUnJ+ciVTa6cnJzs7OzMzMwLFy7QJkFnoUe0wRcvXszPz4fC0GVoxtmzZ/Py8nJzc6GzFy5cgBbm5ORAgyGH/pqTk5NLLugalMnMzITuwNhCJowSHVtoCfyFFmZnZ69cufLJJ58EX53AmsgVv/DqUImQyqmQD/AP3AbFXfjJ4XCMS4SRhSfW/3EgjDU6Cr89gEBILVZwk2lgCkHE8ShYDnl9DIR0EPCyfpvaSt5HJSAEbpQoXbEsGBZAsZUJizfXcDwKHO9eEJHFOgIxleRko9IPGhCKEov57oggSEJBoSATEkQcNcPrwyEVBQlDflRH6NcHDQipWMAwjCiKra2tO3fufPrpp9esWbN69epVq1atWLHiOdm1fPnypUuXrlq1at26dWvWrFm1atXKlSuXRa7ly5evXLkSbly9evWaNWueffbZ5cuXryDXcnI999xzK1euXLFiBc1funTp8uXL15Br5cqVzz333PLly1etWgU5QI3SoQWAzrp161aTa9WqVUuXLl22bBk0ePny5c8++2xKSspDDz00Y8aMtLS0devWwb1Af9myZc899xy0f/ny5UBk9erVK1euXL58+bJly6B58Hel7IKGrVixYim5oL/Qneeee27FihWrVq0CaitWrICBWb58OVQKiZUrV66KXJAD47NixQqoB7omLwbthKF+7bXXent7RVGUo2AU4FEgpM+XzsDRCShjt9uTkpLGJcLR4xOVMw6EUQMSz9cHEAhJBCIJ6bWOAb0LBB1BDPR0m90jyGYR62o0Wo3N74cIR4qSTQwghMCHeAuNRAPu6RyymQUc+wlJwRCv0Qz5vMhs4utr+jW9twVTHD2gDw4QSpIQFvUk1No04LSFrWZCvNTV2+9wIpsNFRV16vtdvEQiQY3uDMl50IAQhANqYAKbhVRtCGpPuc6Ndgv8AND9MJqgBUAfSL+CqQgVo6n2EgpEaVblW2h3pAMLE61InigpKZkyZUpzczMY14zuCNVJUq8U8tujykNhug5GGXxBYfAMBdASdTvtFPwa1S95vVASNKjyv7QKWlju3VBenRwIaWGe50OhEOgAgO+hP4miaLPZxiVCOiAxEnQC0DLje4R0KJQSDyAQcqKAQn509OCVb45ex2s2jm8bPHH0htuBaiqGcjIbP/rgZCiIQqEYW11ICQjJdgt+xyHKoMChzz/95nJeIxaVRBQMovTT14aNqL7amn6i8ZMPLikNHOQ/OEBItgZDosh7XOJ7/zhaVaYhlkac2e4/c+6ax4sKrxkOHyo7dPgKj1CAU2QgHjQghD1CWHmj7DYhkz4ggAFYRkHul/9EV2G5CAJp2CejBajdMuw7UmiEAhTV5IFB6GSIglu6tyffdaO7jBzHVVdXz5o1C4rJW04bExuPoRiwBfQW2mtIAIRH/Rp1C2UsoopRUpThiGoPxU5aknaZWi3Rn+TEKRDKx9PtdttsNq/XC36iTSZTIBCgdzkcjnGJkA5mjMQ4EMYYHKWf7hIIYXYKggBhmOTUr1+/XlZWBsdR29vbCwsL5WG9Kioq5s6dC1s+8rtoGgMSckkIFeQZMs+1sxLHSH6Vylt4qYcT/TwKWS3o2JEOchQuliWLEhDiMPM4xC4+YCBKjCSh/IutudlaVghIEurocBRev+lnQjxCGp3vmxOtGGxx2F+B4xiE9xE5olYNA0kiQEiOG5Po9NiShcFbnyzrpB2PStD3H/LvGJhXFPHZCQnhaMUH9xVXlQ2RGMK++pqh0htaoiuVWhtCmenNEkIRByBRdeKviQIhJ4yAJlYQsYUODiwsIp53jUE6ZlZ6evq6devoshgFcjFv/Rb/WFZWNn/+fIoZUQ/9W9yxsZou7x0FQsiEqHIvvfTS7t27z549q9FohoaGtm3bRsmIomixWGIAoYRZW2zgRuzpeBy7GxtH+yXEBAKihFyCABGwRR+OkEFPD9MabiWGh4cnT57c19dH23brt9EpEUJtc7wgcTigOIt5d0U+E99Pyfb19U2ePPlOvkaZAG4wLwnYZhAhZzDASygoEbNwWJpIfXhHiWPx658YEIpIFEII+TkWzOZ9oZALiSjEeGHpI8Tx0gcnr+QDEMVTIoQuX76cnJwsf9Dy8ren+fBZr/DuFiMJIs8FBckDJg5g2Q4HB2JJPAj9b54jhK7KgRB0IMXFxW+++WZ+fv7BgwdVKpVGo3n//fehMCh/6urqnn322RjRJ1gOCcgbDPHlNyw5Wd2MgAQklhRrSws1EuJsLsu+vdfefP1ikMEPi3Lrtw8x/qYEhDgYPZ4r+J1hWD/Hobzc5sKrZgnxoSC6erWtuWUwxEtOj/fDj0588N5ljzsYeQxgSoqt8AgoYjqJAKE/GCAH3nG9PiQiv49HSFH1GjWZ7giEpDWIYT0IofOn26pKh4MhXkTsxezmwX6GF5DF4n575zf7PsuXJBRiFfdWEwVChPxMCL8sEmIFMSQJd+gXbudY1zgQ0iVyrOH5LuTJpzQFQtqx/Pz8goIChJDRaCwrK6uoqHjzzTfhV1jZHQ7HxIkTFfcIMcMqCDyZi+Q2CYnEwo6TsN2dDfOC+NQQXjgEEQOG0pUQEPIssc3GLDIAB/4q8srnkxIEQlEMkJ2MIEFBxIm4I5gzF4NSGPLIegacNeHyEwJCHlsfBhHCW03EJMKPkF/AGiMmGAxy+FcxGHKxXNhoUWnQ4OHGD4QMi5c+WMCJIUiYNYGTAsSkEarC6/VoDJY348ECQmhZQUFBU1MTpFtaWk6cOPHFF19Q//GATwsWLBit47rVMfwsmWBQKrykP3mkRkCIFVDm+cagF4VYf0hgBA4d+rLqQk4xJ+Ij5EqXEhDy4TN0GNUEgRMElHGu5nJ+v9cXkESUfqrYTyaegINTo08/udrY0Op0YHQRBA5OphMWKczyJQKETDCARTY/ZvAwbiAp1gspXzWAy8vMzIwRoR7b2YoIm4xKKONUc3WZBb//HDry1Q2wnsEHJVn02e7MspLO+2osw+ARlVAgSFzbwHoQk+Me85GNA+H/TSCk5ynNZnNVVRWwyIIgXLly5d1334Xz+BBO3W63JycnxwRCRNTL+N3kBJ5oRMRAkBNFxPBuXmRYLiBIbsLXKhqLIYQSAkKEgrwQlBBiWDHECAI+6BUg0DLmNMeZ8GpLkhSfRIgXDRF5OD4gSiwjjIgiCobCvWPxqSm8PGCNdPjVS1AiJFZ0LB9kWYRDoGIvVHiBkhDjD/qAJLGfDwoSH1LmHxIFQrKKcuD6IxDEMq/PF6CSNLbekF1RX2W/4OSDBYRwYMjj8VRVVdHDQ01NTcePH4cxAvcf9fX1ixcvpg6uorqE8YYn4pqIrhdoTp+okkSk09tPnaxGAmJZ1jniDgZQXk7HkNETPic3mgTJUQZCLiJH4rGWJHT2bEVWZqeEUHfXUH5enSQgh4sZGLILIsrNbtf3DcL5QlGk3tduPaT4gRAOs7MMqRTHxsQuXkBPO2YPEgVCrO3BPAT+u3/P1YKLKklEHe0D9dVmt9cjCMgyjEmeP1fqcyNB2do2cYmQrCkSYlnMFLvd2OwWxO4x+6WUOQ6EdIlUGqJve758SsslQjBTYlnW5/O53XhNBNuomzdvyrtssVhiSIRYaIgggYT4QMhPzL/RiFN02PF7RoQlTkR+2ESQU45KJwSEouTGptoCso+EbM6gJCDi/dEbRVP+FcYhTiCURLxGCZKPnH3CvXA6JKdD4AWcZjh8xAsTJD2EoKsJSYTYAkP0ShJyullvQGIYhN1xYOgVGI7t6hxw2nEDvAGHKCG/B6O4/DnSfkFm/BIh3sVh8LNGWM2L/ZnYbH6PC+ENKAkkRZFYe+ESYQUprez2xIMFhNC2ELkQQmaz2e/3u91urVZLZzZC6J8uH2fOnCmXEW/vFP4mCMKIg80+X/XN8UKfD7W36Vub7GwQ+f3BY8dP1Tf0qdUepxNblxG5fjQBnKMEhNTNJhtiWJb1ermT3xScPl0tiehmQ8+1q/XkkXhPns4sr2zv7fWARgIehijy2DhTFuM3ASDEgXwxQyVJyGFnKyubtHozp6xBiZptd1SNSijEsfgl9Pv9J74uunal0+MRi240tTQaEeJ1WuM3xy433WzXqqwCg4j+YexxSxQIiRmFAKoM05D35s1utc7ExmK4x653HAj/bwIhvE2wIEiSNDQ09P7773/wwQc7duzYt28fIGIoFOI4zuVypaSkKEmEWBYkYMDyHN5854MCQp1dw/m5DYVXm0qLu4g0g11nYHsf5fcuUYmQF/xIQi31/vzLlRcvVTTV4q01EXuuULzg1Y4TCMmOO7bsE5HAcaiqXFtY2JaTU9feMSTgo1D40BdHrAMwpPH4xUsUCBESezv92bklFZVdN66qgaUQRNTZpT57puiN7ScwD43ExsauN189d9+AEAN5AGMe2cQtLzKWVbSdO1uj7R3BLpPJ1hXWBIRXklgLygMHhNSV9o0bN3bs2LGdXHv37gUuD+CwsrJywYIFVGQcPVmwll9CHItCAcSQ7Tm7PRAMYDaB50Wvj/F6pQAeQHxxjOIAKQEhJ0R2FjEJzCpa7SGWRwzDhYISz2KgAkWHxeLFJjki1lAzDEOdccshKn4gJFI/9tcliVgs0+mdWTmlKrWirkFeSzyqUZAFidzJjziQj2x1u12iz0P27iXktAdZhrABWCi9JdRGPYJEgRBsevEiLqK8nBqNzn7xcnV7B/B6UbRjfR0Hwv+bQEi5ZDg4kUMuj8czPDzc3NwMwiKs7x6PZ/LkyUpAiN30k7c1hGc5IyCe5dGJ4yV9Wo/dKu3fUyCRF5ksHGBTojgbE5MIRV4U0ckj3YNDvgGj9/ihzohHQ0X6CQGhgHWfnEjOOEsC+nL/DbsDqVTuw4euBUJIwHuTDMOxcJiMxCpIDAgBQ/Mu9DXeNDic6Mu9Nf4Ax7OI4dGQ2SEI6PjhFrWKCfIhl0d867WrUXbRtJPQqfglQgZ7yPCQFV4MBdGRLxu9QVTfYL6Y1STyiKxj4XN0pIpYxk0PHBDSB/zll1+aTCYYI7CJCoVCgUCA5/mWlpZFixZR9/Z0HGmC5z1Yag5Q3TfDEJ0bw2DlfigY1glgVlFCNP4ZvZ0mlIAQtsfwvBGlYMjLCSFPAMMpmH37vBiGJYTNSSSEHM6w9SM+mY7ZSIwfgnALpBIAQoy72P+nutd18KsChkc3ijvPnW2nDY5K3KqD/HBHiRADIeGkRCkIWM4KPrJnz5OuYPUCG8IDiDDjeD+BEPrVrw/u25vHS7hf35y8TakV1bUxv44D4f9NIASPifD2iaLY3d3d0NBgsVgcDkddXR2dKoIg2Gy2GC7WcJwVQRJFxPKcgIFQZFj0/jsX8IFjCb2x7XTQj3DUVsw5h08nU+JRiYSAECHR5+Pfe7M4yKMAJ73zxg0/wauWAAAgAElEQVQfNoJTfL/oU45TIiTvsocXUIjhAkH0+qtnBYS8fvT2mxnEmkEUEIM3RLHBAQ42k7BEiJ0ucp99VNajtvAS2vVOsa5vgAhq2Ebn9OniLRvTg9hsgnF52fd2lkYdTqVDB+tV/EBILIAsbAjxojBkYt976zqPUF+/56vPC0UOgJBI1UT+ISEEaFXRiQcLCGHjDaTylpaWr776qrq6Ojc3t6CggMp/PM/X1tbOmTOHyojRfcLf/dgSGnNAAZYfIZpx7PAMIay55slGGMP78VTD4pzihIsBhITNJOYq2JUaJyAshyMkgpdRHJoAy58iuFgDzJAkIWIpg2XEsEBK9r3z8vJWrlwJb3IUesl7x+HdQb8o8u0t9sMHS3gRtbQ6Dx5slJeRp6NIxQGEPFav40EJcGR/XUIeIjf7BQ48tQZhtCQE9gLy2m6lE5UIsVU38oki39pk/erADV5EHZ2ezz+vvEUxvtQ4ENIlMr4B+/aVkk9p+R4h9ASsypuamtauXbtnz5433nhj165d1JRGFEW32z19+nRliTAIgpGIJA4FWYnjefT+25fcXhcvcp98cMmJ425hT8UIDYc91CsMYUJAyPOs18fs/6zR6Xc6fI59n9R7vCFiBqlAnSwa8KzjMZYhQdMsBOSQ3YF2vX+RFQVPwL/rvQKeR4yIbVzweoUXMnysIlEgxAutFDrweW2Xyhji0Znj2vbODmwCLgohIeDxohNH2j/fky0gny/EvP369fsGhFh61RCrQbF/wPf5p9UMCqkMpn27ryG8pLAi8mI0IcYH3yYghCkLc/3atWvffPNNTk7OmTNnMjIyYEbANkBVVVVKSgopfCu2A/WaQSYoEwz6BR4LXmTbGSyLsDjFcULAj8058VMn5/BEfE6I8wX8IhHjsBUoNozmGYZRAkIwFiXThUBa+CgF2WAAExK8Nc1L+Cyjh2MRJzrgTBLLuwm/GZSQPxIhJ4HjE0HWywm8IKCOtuEvD1zmWVReajr9zS2eN+q9ka8aMLmp1Sg51AziaZgPCG9kEsZA4GCrGXvZxmIivnw8jt8QJAxGgOUCkiQwYW0KNj8LBLAcTBRQXKJAyPB+YEh7u+17P88VONRQN3Ls64qo7tzxa4x4hHe899tboKysbN68efQc4be3I/G3HCa2JElpaWlnzpwBNwhwO3iTcTqd4DTc5XLBqgLxqhwOx7Rp05SAkLDgIjHKJy+FiNggOvzlBa1a0mrYI1/n8jwWqsLtjGGllqDVKLFVQV/szejXIaMBHfwym9i2kDAvCoNCRyAeIASeG3sAIYqovfvS9X2CXodOnbiMo+aEBaZIoB6i6Uloj5Bl8aZG+unCkhvdEo++2p/nduIDl8EQz7FI4lFby1B29lXsvYRHb7+WjW07yQWbhVRVBp1KQCIkTDqPT14inw998OHXAo9qqmw5WUVgL0OEHA4fZ1SWdqAlIBHKex21eCo8h9uy7/+BemhQW1sbeOiA7W7IZBimqKho+fLlJIIojpAH+fIWsWwIB8slQhlReWM/0XiLW8J6cjxqXnwqgIg7PBNE4IZbQigQxEfdsQUXOVSrCIQinEvFrYOTm7gu/O6I+FAHZkDw2Zlb1sj4gXF+r8gx+OyDiEJOZ4AeP4hfNQqNDwREtwvt35/t96ErlzuKbqjlfZeno56lXCIkwjdmI4jxDplQ+I+F4S1klx6OFYfPwHJBJCAbCUYheOxhDTBW/0YMzcB6CMyw8YErSTp27NiWLVugMVHNkLcwXIA8lFAIuV3oq6/yAn50+VJ7jH6NpgA540CoNDLfsXyYURQIYZUAhQpCCE4e6/V6hmEaG8P6EtgjDAQCkyZNUgJCKAN75Fj1TxjF1iZDZmZNSUl3Q70KeGUIXBN7VickEYoIm3/X16kLC9qKCjubbvbh1UO4f0CIUCgUwjtzxBj7ZqOmoKA5O7u++aYar1ph/jUcbRSOhskhASZPDBdrDCtxHOo3uHKzK65caqyq6A360YH96Q6np+BKZW52dVvrgN3hEUTU3mp+/ZWTQ0PDgUAIrx7k1CFZOvFaBF/jB0JBkMAaHx9jDEpFN5pqagwZ52rUvUOA7hAqIBKAPdZL8MABoSRJsPlXXl6+a9cuv9/vcDiKioroLBcEoaqq6tlnn3U4HODwM3KS4dbGGw29BGIQnJHAUg5CLi9/o6i5oKCVEXgeufWDxrzs3uaWDobFs4QAAgqFAsRrjKgEhCJyCWIA3hOsXsXmzgEJuf1BK6Avw4V4DpXeMORk1XlCdo5Bev3w+XPFep2XHGLFYMxLYSOX+IHQH3AFAuRcjoSuF9ZfvdZw+UotG+FQRz/nyDwL/yIHQjLRRwEh3jElTi5ExDIiBFkEAzkJ+U3DlpwLFc11AVbwSBKqrRq8lF/W3IIPjRCJMMASQ0/w2Z0QEHp9To7D+6mShCrK265ea8i6UHIXxyfGgXD0HPhO5sDEpkBIfbaBxqipqUmr1arVaoZhPvjgA7PZDMt6IBAwGAyzZs1SAkIw5SYb+eDyAuvXJAGZhxnzMD4yAeIgWV7vMK4JAaEg4dPzkoT6+x2Dg9hNPz5KGDF2HLMmOgJxSYTYDRZRf2FeH3vC6jc4zcMM9mJBUBC6DC4+7gIIJSR6vPioicvF2224KknCK56EkMnk0WpsYJkoSKLNFjQPIbvdCWsF7ZqIzYXIEY7EPMsQRp7nscdB7IsK98tuE7ByS8LnZ4h6GVPGamTFHTDcigcOCOmhiIqKiq6uLr1e393d/eqrr8LxeRAN6+rq5syZAy7WZAu6CFZP4RMkEvJ62FtzSUJsCOuM8y9qqqqNvgDiET9gFA4dvmq3I5Y8OWLbEuZKMMTyQSUgBMAkcBvE2kKJ+FjBKBr0+5gA45QklHW2ubbKS9CXMZnEA/uKJB7L79gLEVbQY54FrviBEDtAIpt4Pj9WSjIMcdem/IDjAUI4XoM9xQR5EYt9+LBRMOQlMnR4AkmIHzYFTh9rHNQhkUUSsl2+2HzhjB7v7ZGXluVxqD/oDi/g0O0JASHeayeT1ePFfCLDoBDhWsIDFPe/cSCMe6i+3QUpDIBqFOtbOI76YjUajYcPH/7000/ffvvtPXv2QJhGeogiltNtYjKKV2SsEMLmKuFZHeGRiQ4WO2CjzLfSOCYEhDgqHIeFQvqBr0rE6U5wnMYyIDYRkQvrRsMGCpH1h5iyY80WADzodRKSCIOslxcZshOJuxAM8SEG8/rYRJHojRhWFCSWE0I4PyyA4s6B+Sh4sqWdil8ijIyPTJsdeVLgvQRkzbDthfI6+cABIVjEsCzLMIzdbj9x4sQrr7yyZcuW6upqOvUlSSopKVm4cCEAoSCAA89wL4eM1uuF5ZeyddcvG64XqHRaO7H+skvIJiFbZ4fwzj8unUq/dqWg08+gr/a1HTlc/s2pksF+zCVxAos3BYLh4zuCqLhHKErINBQsuqbLOtObdab3xlWtcdAvEIaRuDm19XR6X9uam3G28VqBjuHRZ5/lnvi6+cD+KwNGLz7cih+gDytvyRU/EIKcCpsfRBeLoZ/wP5Epcfv/GEBI9qvBMg0PHc+LTocn77z+So7xSq6+uFDtceOWwvRlxZHCS/2fvldxcH9BZ7s1yLr37a46dbTh4IFLTAiRY7lYuIz4+sHMREJAyDBBwGO80RtZDiIOL27vUsxv40AYc3i+Oz/S1QCAkGVZyodJksSyrNlsLiwsrKqqom43wEBjYGAgxvEJODsRWUMxNgRDXkHgwPUj4UHhIC9xwhJzOBMDQrIihPBpAA68NhKQiFUBHYF4JEJANUHg4PiW34+P6pPFVhQEDlTBBJXwUgCuyBICQmJJgLdRcBAC7IEZrwYQpRWLJdi9SThKOdRCibMsC8+FdichX6PELgTrr6ELYKhI4m+zZD3BzSDOvDCPDpKu0pg+uBKh1+u12+06nU6lUsEKS7WjZWVlTz31lNPppJwOOQOOMQbv+7kEq81lNrsGBx3EVS4WmQN+vE9bcNF9/Fg1g5g3X8+tqrJ+uqthwMhdvdaz45Uv/cSeVEI4Xh2OZY+PqXNKEiGcDLQ7bW6v0+11Wu0WXuRwJmF/OGTJy+7NSh+02cV3384orej66MMrVhu6WtD30YdZmGNi4Axj2Fdn/EBIFDUigWr8jINMgDi/UGR1YgAh4cVuGctwnGCzjnjcyGEXh4yBgQF72GgGW5HhCf7prtKaKpthYOTdt9MrK3W73rrpC4qH9t/IzqoUBEQcKYVxHXZQEgJCOMRC1jK8Y8/y+Kwi9VqgNHdH548D4egx+U7m0HWTSoTEvRY+VsayrF6v12q1/f39b731VlNTEzU4RwhZrdb58+crqUapO0qyUuNXLAISxBQAnMEjMRgkBucxRzYhICSGTmEvxORtw4gS2/qJjkA8QAjQzvMs2STCZ5/gA849qNgkXy4oVtFextgjRIjz+pwsF8AcNfa+HWYXqKQOOQQjcdVE/YPZZSpYR5TSmCNISCKMqHzFUPihwDDiZ0dAF3tMgS7QumiP5IkHCwjBiAi0ozU1NcPDw/n5+WvWrKmvrwc5Gh5PTU3NggUL4PgESIRkvmJRy2xyF12vu3FlsOiqoaqsX6O2EgOZIFZXIi4vpzsvt80T9OZlWi9fbt2zu9Ji9woC2v3+BVFArIB3v/DoEDMqUVKUCCUJWc1C0TXdpQv6/Ky+G1e1ZhO2tMZumbz4gGrh1b5TJxoEhI4caigt7/7yYJnZjqxWtOvDDG8wJCERa+fD1pgJWI1iP7ZEYgqFAsTHKUZfXlTcJJTPbBhAajVKfgrPFWADXSO+K3m9l3J6qsuNdTV9TifRY5DddUFEn31U0tZuDDLos903KirUx740cIjvbUeff3qedDzsdhXk6UQlQtqvYNDPsjgOVOx+yWewPD0OhPLR+A6nKQxQq1GqWEMIVVZWNjY2rl69urq6urKyEvt95sLviMlkevLJJ5WAUH40VsAHCoHFFCUuhASWxKYIr7CRtV5xjBMCwrCfT4ziPGyekQYrMri0s3GqRmGtAGwg4TNENuDFkkHkwtb1WDV760oICInFIgZvQDjKlITHj2BShLQYseGEkQxnY8vPiO1M/EB4KzoY+CiXkMCERBwMIEw8snmMvxJ1d6QVo/4/WEAYmXmYrausrMzIyFi1apXb7b5y5Qp2pxI2MUKlpaULFiwgdtJhoRvrNQViJiqigBf5gwG3J+DxsFgilBATQhWlffnZ3SGe2/X+xT69O+d8v8vnvZJnys4r7OjWX85RSyIKcT4J+bG4HZ6BykCIXdvxzhEfyyKWRQ6nV5BYEq7FdznbUFrePGxCBw/magzGzLOD3gDKyW+8kK3p7PIVlzex+EAePg4YdnWbyDlCrLrhiaUmnnR4HmONP6haRz1a+rbQX6ixTGQk8fzAVipkYIMBLhjibTYvxyG7Ax8fBFus8xnXmlv1TfXc0WO5Wg17OW9AQOK+T2qbW3WF+UM9HT7sNwefFQF/4ri2RIEQz1vi2YC0BI8+HMSkLY8zMQ6EcQ7Ut70YzFhqLCPvjtfr9fl87733XlZWll6vP3r0KOHzsD80URQdDsfMmTOVgBDoYDiUsCYNcBGLFBKPbS0kURLEUCCs+qNW3/LaaTpBIOTx0kd3BbByCSQbSi86QUcgHomQNBWjFLHJISFysI8cvNtPuoW1l3CRkMv4S0JACAszyF64GkA1EtMNrwZ4ZcAmuBHlZDgIHZFQw37q7k4iBHsiekCAC+AeEf023i+WDRk2+KCChyz/VvLBAkKqDQgEAm63+/jx4yqVqrOzs6GhgbpeYximurp6yZIlMQ/U3+ohCRzIOJ1O7KdGRMaBka4Og82CnZSHAmiw39nTNaDk+05JNXobddkXgUemIZvF7ORY5Brxa9SGYZMdn6YIocF+u0E/THyy4EkG+w1wawKqUVld8Sdp7yRJOn/+/KJFi2LfCxFWoUwoFLJYLKGg4HYF+g0mjdrgGsF+EX1epqO912az0S1VaqpwN0AYu0Fx//pdBUKq1QFvYRE+F/OLCKGSkpK5c+eCHoW+QXGP2beyIIWBtLS09PR0pT6Axxn5LpTNZps2bVpvby/MUvpq3L5uKtFLIN9sNk+dOpXGI7zv9ClQ9fX1TZkyZXiYuMNPoIF3KErp03I9PT3Tp0+ne640/74nrly5MmvWrPtONgZBSZJGA2GM8ko/3c9zhGAJAm8+QJ0oUisM3ABBEKqrqxcuXEiOTyg1iYhKIjUBxV8xTdi5JRF/II3FMiKSw6sVRS5RIARGErgSgUc4EFeEy2MZKRggMiupg3QwzLM8OEBIX1c6GpIkBYMkjBmwWgJhHkma58KHk2DQ6C3jQBg1i+79K0U+OSl4WCzLXr9+/emnn4Zj45SXl5f87qXjBEIIvURnNULIbrdPnz59HAjvOCXGgfCOQzS6wP0EQqAOTBy81XS3E59SJ1dVVdX8+fOpjDi6QZAjl1EgJyKHYYsMHHUi7PkT46V8HacEEwVCsBUmzQ7rVch28dhu6mmNDw4QyiUP+fJBsI2OCrYkitpRoH2BR5awavQW7XtKfVclQhgU+SxlWdbj8YDhdEVFRWpqKsuybrfbZiPHuO5pFL8FN8cJhGCdL++Pw+GYMWPGOBDKx2TM9DgQjjkssTPvGxDSPe2IdS+cA8XyHFhFg7RRUVGxcOFCeuIwduPgV2JTA2eDeFFiWQ4HqATTKUHEm2TypZwSTBQIwUqKwgnQwTIu1lBjc6nIrjX+JbLjiXsXp69R2rCEErR3d1SNUvADAVo+JjzP4327SKPlTMatLWvSLKguMavRhPqjXPg7D4T0AYVCIZfLtX79erVaXV1dnZqayvP80aNHP/nkE+Xh+e78EicQju7wuEQ4ekzGzBkHwjGHJXbmfQNC+fIqr5IKhQCEVVVVixYtAnZYXoymR3OCY6qMIqt6GGjp7TSROBDizb+I6RS1oRLheBB2JkM8t0EvqFD14AAhxTk5dka0uGCIddtfeF5QmP6F3o0DIZ1F956gz0VOShTFDz/88Ac/+MHKlSunT58+ceLE//zP/2xqapKX+a6mx4GQAtX4HuG9T/IHcY8QdgFhosPxQYqCsOwKglBXV7d48eKRkZE7DgFd0KGkwOPQE9h4KbLLdX/3COUuEughX9IXHKEifMYDm0gC9Iab/0AB4WheBDz6hwdQEOjjiBJ84cHR93McCO84OeMvQIFQbseEEFKpVD/60Y9+/OMfP/roo4888siKFStGP5T4a/kWlUwUCCmXNi4RxvmU6YtMy48by9ChUErcT4lQXgc1gYN5z5G9KZ7na2pqFi9eHI/VKCCT3GxMfooT6qIvibxqSCcuEd6iQZckUiM+3UH86cmNesOFHxwgjCD0bSeKbnWJ4Df9Cq8K/QoyN31/xoFQPjL3Kw3zGRQeoO1PS0ubMGHCo48++vDDD+fk5OBApR5yFvZ+VflA0kkICOUvuN1uH98jjOeR0heZFh4HQjoUSon7BoS0AiqXRO0/wWpbVlY2f/78RFWjhHjEpYLECiIDUSbASTRlumkbEEJ3AYRU4UlABRMTcajbMFU5DFMgeaCAEBoKkgc1WaI6ZOgUOWsc7pFAZMSo12bcWCY8OvfpHyBflHoDuJarV69OmDDhxz/+8dSpU91uN5XX71PNDyiZhIAQBgp64nA4kpKSxo1l7vhco95ohNA4EN5x0BIGQnhdqf3LT37yE6PRGKMaugSAsrSqquqpp57yeDyU14tKxCCV0E81NTWPPfYYvWVMK3b6610kqHFQRkbGmjVrwEHUXdCJfQuVTVmWzcjIeOaZZ+Tl5UMnz7/H9Ndff/1qxFU6x3EJWTbdddWnT59et24d9JdqdGNgg5z7gTc/4i41wSaISGDwYV6RF0ho49t2UiN+Lu4+EwK2jf4rivzIiGP27FkTJjz0ySe7ERKJG8m7r+gemypIPDk2LYYEho9Yg8kHOWpY6cwEK7N45j9lkeHetLS0TZs2ZWVlZWRkpKennzlzJj09/ezZszR97ty5rKys48ePnz179ty5c0eOHPnDH/6wd+/ezMzM06dPnzt3Lj09PSMj48yZM3BXeiLXWYUrLy/v448/fvzxxz/99NPs7GwgCXWNSV6BjGI2hGg9f/58VlbWxx9/PHHixD179tCKRlehSEjhh/T0dBgcGJbTp09nZWV98cUXf/zjH48cOXLu3LmzZ8+eOHEiKyvr7NmzMOajK4UHMWYNYxaG8rm5ua+++uqf/vSnCxcunD9//tixY1DdmHQSzVSqNysr67PPPvv5z3+OyAVLAfyFnDj/JgyE8hkviuIPfvCD9evXv/DCC5sUrm3btr3wwgtbtmzZsWPH5s2bly1b9t///d9r167donBtTvB66faL3j1//vxf/epX27Zt27hx4/bt21944YW///3vmzZtogWiEgrNV8x++eWXN23atG3btqVLl/7P//zP+vXrX3755c2bN7+ocEVVR78qFH9x3bp1mzZtApqbNm3auXPn4sWLf/WrX71MLoXBGyNbib5S/tatW1NTU3//+99v3759w4YNL7300vbt2zdu3DgGaZJFOxKVUKJ/++N6id6VmpoK/ITcwDXGJAaMjDptdhcvAK0CTo1iN/zkfA7NjzNBwlyCr4/b/irdDtXt2//FQxMe7h8cAA/sinptJSrhHWtp9KV0h3I7RZZnSBSX8AFa0Ogo0aEsCy0Qe/Ah+DaOuROJav3ss8+mpKS8+OKLGzZsWL9+fVpa2vrIlZaWtnbt2pUrV27YsGFd5Nq8efOECRPmzp27cePGtLS0F154AVae9evXA4XI3XH9f17hWrp06caNGx999NE1a9asW7cuLS3txRdfXLNmjRJRBTKK2UBn9erVGzduXL9+/UMPPZSWlrZixYr7Rf/5559ft26d/O8LL7wwb968hx9++KWXXvrb3/62du3atLS0jRs3rl69et26dYnWq1R+3bp1GzduXLx48S9/+ctVq1a9+OKLW7du3bBhg+JAJPiDUr3r169/8cUX/+3f/g3mIXGvE1Hi0akZR+JugBACRUKElF/+8pcffPDB8ePHjyhch8i1d+/eb7755vDhw1u3bp0xY8a+ffsgf/TfgwleUdV+Hbm2b9/+5z//+TC5gOSXX355+PBhJfJRdOL5+tVXXx08ePCVV15JTU3dtWvXN998c+DAAaUbE6338OHDx44dO3r06MGDB/fv33/s2LEXX3zxz3/+Mx0xJYJR+UrtUco/fPjwhg0b5syZ8/XXX+/bt+/gwYPHjx//4osvosje8asS/aj8yOP6evny5evXr6dnb3BYrEgsERTHBXvSsdfiMckICHmDgSuF18orK6pra24UF1VWVhYVFZUmepWXlY71KVO4rl27Vl5efvTo0dmzZ5eWlhYXF5eXlxcUFChVW65wKZAvU6KjVL6ytKyspLS0uKS+tu76tcLOzs4xhysqkw44cCTUMiCqGJUaIZ8l18aNG48dOwY7JqClJygZ/gMBe6luAKLtzJkzp6+vjyI0qHkoJIv340IIqdXqBQsWRI1AorTlfZGnqSZJFMXW1tbFixfrdDoYhDGrkN8rT49ZGPTwAAbgQB/SfX19qamp/f39MP7ARMKzU6KjlC9vgzwNjM7Vq1fnzZsHwhKJKSgo0Uk0X16XPA12Zz/96U+hAaMnXpw5CQNh1Fx/5JFHYj9IePDgXwp8Si1ZssTv94/mYe8uhw5K1MhWV1c/9thjEtkigwcPL4xSLVG33/ErfaXPnTu3du1auhAr0U80H3ZHqEaX5/nMzMxnnnkGtgDv2DxaINF6BUE4dOjQ1q1bAYfoSkQJRiXugj48sig66enpzz//PF1YoUzsSSx/rDD+VNqIfaP8VwGhuob6//mf36bOnD1r2sykydPnJqfOTU6dM31WYp+Zs+eM9Zk7I2XMT+q05IWz5i6cNffZ+U8lT5q+ePb8xbPnL5w1V6nSeUmzE/okSmfujJQFyXNSpiTNS5r9l//32JLFT1ut1vgl1KhlQT7CY6ZZll2/fn12dvaYv8JKCg53YJ4ghGw22+TJk9VqNSz3AB7yTUQlUgnlS5JkMBiSk5NVKhW1Hk+Iwh0L8zyPXT5JUl9f37Rp09Rq9R1vuYsC9FUSRVGj0UydOhVcrNHxZMh1F5SVbpEkKTMzc+bMmXQywPKrVP5+5Q8PD//kJz+h1GgHaU48iYSBEFYf8KaGEPre975nt9vpoI9ZpRyBWlpaFi5c6HK5xix5HzPLy8snTpxIFbnQwn/Fg8nLy3v22WdpRferC6OHNDMzc8mSJfeLfgw6ILjTBvwrBm107eClHfJ9Ph9UGgPY6E8xDK9G1zI6RxAETbd69tSZreV1pi69p89i6xm0dPXbegYS+gx3G8b8WLv7x/xYOvT27oGhFo1bM2xq1Vo7DQM3e529RqVKLV2GhD5KdKydhjE/No3JojKaug3OfmvO6fPPLHo6FGLH9qtEBpFOD5/PB2sCx2EHzaNHGHLo86KC/po1aw4dOjSakaIU6C0cx/n9fpPJBBHqIZAviIxyOBxN6i5yBEEA81SNRkNb4nQ674LUmLd4vTigIFz9/f2TJ08eHh4GOB+zfKKZlDOA0QMJpLu7OyUlxWQy+f1+ilK0QKJVjFkeHkdxcfGSJUuoVQGEWxiz/P3K5DjO4XA8/PDDlHmKMQkjAz/G/4SBkEoq4DXt4YcfHhoaAh5NqW/EqTn20c7zfG1t7dNPP+1yuagkd48JpWW6rKxsypQpMDrUfhUUOGPWqNR4pXxK89KlS6tXrwY9gFJhsDhNqF54VsDdwGzOyMhYtGjRaCI8uUbnQ06MJo35E3g52bFjB5j4g84KDhoqVTFm/pjEIXOMaYjQqVOnYI+Q8lhjFpNn0kcvSVJvb29lZaX813jTEtL1aKY/NnG4TTfSORhQW0bajd5ei7d3OKGPp3N2ne4AACAASURBVMeU0MfbO8wZRvxqi6O9n9U7mT6Ht3c4oLEqVeruHhrzo1SpEh2l8i6N1dFtsnUNuHWWK+m5SZOn43cn5iBSFsRms128ePH48eMxitPlCaa0KIppaWn5+flKtwiCEAwGqRdWhJDb7Z48ebJKpaLPnYKxEpG7yx8cHPzLX/6i1+vBW++/ohZYiHQ63cSJE++7023otXyUenp6Jk2aJD+9DUZw971rBQUFv/vd7yBYAhXc7+4pxHmXIAhGo/H73/8+LS8Ignza0PzYiYSBUBAEOU/x6KOP6vX6GAMKz4PeUlRUNHfuXPo1duPi+TVqwaW3VFVV/eY3v4Gv8BLGaCS9K9GEJEnZ2dkrV66ECKJ08iVKZ8zyAAm02dnZ2YsXLx6z5P3NPHjw4JYtWyhreX+JKz2v3NzctLQ0euojnj1CKluEQqH8/Px33nmHyhDxtznAcu2tHTOfnO5QGX0qc0BlC2kcfrXDq7El9Alo7GN+lIg4O4zu7uGQzhnSOZ0dRp/KGtDYRzqHlMor5fu09jE/SuXHbGRAY3f32vxqG2dw+7TWgvTcp2bjOCc4VlnMS5Iku93e39+v0Wj27t1bXFwco7h8eRJFcenSpadOnaLKf7pZGLWAsiwLN7rd7qlTp/b29tIC8F4Dlxk1r+7lq9VqnTZtmlarBcqgIL0XgvJ7YRccejQwMDBp0qShoaH7KBHS8aQCnyAIPT09U6ZMcblckiSFQiG6T3kf6wUp8OrVq0899RRleu4jffkYytMIIbPZ/MgjjwDjftcrcMJACHtU0ENRFH/4wx+azeYYs5/KNLBhXldXt3DhwhjHJ+SdjCetVHVVVRWVCGmbYZaMSVaJTox82I6+dOnSihUroArIGZN+opm0XrhREAQl1SgUoOWjEndR76FDh7Zs2UK3denoRVGGr3dBf0w6p06dWrlyJfxE95XHLBmVCYXVavVnn30W9VM8X4MINba0Jk1K0reond1GV5eJ7fc5OoddGmtCH4/aOubHrbWN+QkNehy9w26tbURtcWtt1i6jR2f39jmUKh1RW8b8KJVPNJ/VexytRlY3wvQ5Lp3IWpyy0O8PKio6SSQZOryCIIRCoWPHjhkMBpo5OgFLMwW2559/Pj09nfJ5dEmhaxk9owUYabVak5KS1Go1nXJ0nshX3tH1JpQjSdLw8PC0adNUKhXcKG9hQqTGLCzvXXd394wZMywWixyZxrwr/kzaWpqQJEmlUiUnJ1utVppJoyDET/mOJXmev3LlyowZM0CBRHXXd7zxHgvodLqf/exnciK0m/LM2OmEgRDIQU2SJE2YMAGMkWAuRrHkVDsH5UVRrK2tXbRoEVUij26cJOAolxLyCAgJ+GyUGcedwAaxHA5VLCAf4ycBbv0B/63QSKPpKB2ox3GARRwHWeCDohT0+l0CQgHM+OKIuxKLBEGSEC9JSEB+3ACs0I3mi+lAx3+gPhIuA8eioq3FwZ5iXhTk7uh0e/Q6IicMoTUjUYv52IEujx49unnzZvrGAh3aEjlZrD3jOUlCIvKGQiSuJnKFAngwGTGInyCPJOQKBkngaQGJoi/qdvo1IyMjLS0NvoJ4TfWxoN+m3CXkg9oKuCtBEHQ63bvvvgsrJlW+yRO0oqiEhFBTY3PK5GRVbUdAP+LV2NyqYZ/W6lIP+/psbo3Zo7XwJq+5Xe/oMQYMjhGVKdBnH+kZ8vSY3Kphc7s+ODhiUw2NqEy+PptHa7F0GFzqYXv3YGhgxNk75FZbvRqbq9csDvpMjdqQwTXSa3ZprG61NaAfsXYMutVWn87h0dhsnUZmwMMP+Yea+/ghv0djc6kstk6jT+fw6RxutdXc1s8MeGydxpFes0/n8GrtPp3DpbK4VBa32ursGfb3OV0qi7VjkBnwAE2XyhLqd1s7Bv19TrcaKz/daqu9a8irtcONzp5htxo3ZkRns3cauT6XrWPwWtaVuakLiOZT0RKdHoeA8SwoKNi+fXtmZia8GnSSw5sOohWUpO/+2rVrIR4hFAYmFSCB3i6KImyqiaJos9liBOalt0Q9X4Swp/7I24fTosTEmP8AhFOmTIk7HiHHCyEyOcOnL8lXblQzbmXAmxVnhHqE16sQWbJwHHnSEXAtEiYof09h9OjiTKvs7u6+q3iEUB0+20qcMN9WLyUOCWjGmBHqgZOmcjy8yAiJPAcRdxlJZJCEF3MJLxGY+2JCeJEkT4pBCO/9RFUn/zo6HqF8TOQlY6TvGxBCHaDzHC1D0JZVVVWlpqY6nU6lNolCCJ/DQmJDvcVoFCXkx4sdw96sMYy4zCGGExDq6Q5xePKJwiiIomSVgJATWA7TID5LkShKSKWxDhgFhnEjCQUDYvNNVSDIC5LoGOFa2/UEIMNUqb83ysHFD4QRd97YVSk1FqfDQpsdlaDwEycQym+PCKmMINz2WuLD3ZirULzGBMLRpaFtoQDKzCxobtIF/cjnxzZQlSV9LOcVEPIFUUebhRVd+GAaElkMkMHRdCDn7Nmza9askevMYR8FNocodwmPgI4/7EYghAwGw0cffRT7hRmzakESmxqbn57zVH+Lxt41ZG0f4AbdzQVVHcUNqsrW7rKm8qxrg03qtht1hoae+ktlNXnFjh6jT2u1thvYAZe5XV+adVXX2GNo6OksaWwvqtfWdOjruwEFDQ09DVeqVBXt9RfL1RXt7IDHrbZ2l7fWXK4w1KsAourzK/R1vV6tnTP67F1DlvYBZsBj7xoKGlyc0Ychqtds7xqydRo5o8/SPhDqd4/0mjmjz9Sit7QPGOpVlvaBkV4zoKCzZ5gd9Nq7hnw6h7qyI9TvdqutLpXFUK8abjUEDS6v1m7tGBRMAWfPsFdrt3cNBfQjGA71DlevmdE6vRpbwflLKclzeJ4PBBQZF8oL0sNUPT09n376Kax3MLHhL0WyyAqIn0MoFHruuecyMzNBNKEyBGV65A7noC6TyZSUlBQ7Qj28XPQ9pZBAWoWBKp43bnh4OBEgxN0Bh02iiBNjTjN5Jh2ceCLUy28EPk8uXdCVRF6M9ppm3gUQYu4W+9XCF7zpo1d1Sp8+2dFASCnIC+MR4zCPzDJBScQJJCG/N0TiywrYmZeEA8ZhsCRMBllAogjc+vpgASGdYZTj8/v91KKMbg/U1dUtWrSIsvy3enMr5RcFFAqhA3srz5/t4niMin6//+sv6nnBLyGupdW4etlBMnQs8YV96055SgkI8TwlN0s8Cvi5kRFu9+7T5841SZIX8cjr9Z89Vej1YGH0WoHu00/wiwrvFcw/eRXw+OMPw0TeUizXRj6xOCyoKH4gpAsTvRGmIGF+MS8JrSXFoAFRXbn1NR4gpFzetQJNW2vf269l93R6JeTXq0OXs1WC5OMEdOlS464PLoRYP5IQL4REDL4YDMe8Tp8+vWrVKvjJ5/MBg2+z2fbv3w9hGaJAjnqvhVvq6uo++ugj2iroe1x/kdTU2Dz98an6JpVHY/OorfbOgVMfH9LVd21f81JFzvVLJ7KaCqsL0y+++9Lrhpu9OYfSu0pvulXDWChUm6tzi/6+4oWW4nq3zrJs5qLqi8W9Va17Xv/w8Af7XFqzqrpt6+rNdQVV1Xmll49lO3uGPTp75cXSlD8n9dX2uFSWm1eq39/0pqaq06dzDDX3gaAWNLiCBpej2zTQqNHVdAMoAv45uk0ejY2CWX+D+sCbn3m1dq/Wbus0ejS2kV4zyJoB/Uio3z14U6uv6x3pNZ/46FBXSTMWT7V2kAKdPcNBg8unc1jaB/x9Trva7FZZvN1mn9Z+8UxOctJsMmEUz4EBmAGAGY3GkZERu92elZUFOTAbASMbGho+//xzj8cDnA1dH9LS0mCPEJ4gBGX0+/1Wq/XEiRNtbW0cxwFjBNScTueMGTNiACGgYNSLQCcbRkGywuLVVlHQxUiZEBBCGIAwb43I8i2R2AC04lGJhICQtlkOBtTvI9CGaU9XYBgB+hUhdBdAGN1qMmg4zoHCBdWNBkK6ZznqPhGUf+HlkKzJAgfSp0gAXgSuQu4VchQRnPFgASFMWZ/Pd+7cuebm5vT09DfeeOPKlSvUVAlWpcrKygULFsQ4PiFKjITDPaC8bO3JY3U42oSIdBpzfbnP52csttCFrIZ3d14XsFIOS81jDk0MX6OcwGPlp+yV+OZkWXmZHaEgzyBVz9C1gmaeQ1Z7KDdH/f47BZTFkySBuN7mAReh3vglwkg7AYTCflNjqGgoffranD9/ftEibMIw5iWf95SDIyXDoRyh/fJiY9JBCMUJhPD6BUPI60N5WUP5+UUSChbmD9VXDiEkDltQTk772ztz8QzH3AfosWMB4aZNm0KhEJjADA4Ovv/++3/5y1/mzZs3MDBAFV9wBou2HPIZhikvLz927JjD4aA/xZngRaG3WzXjiWmDbTqv1h4yuFy9Jmu7wd/v2LX1re6KZlvPoL3X2Fl2873Nb/j7HYMtGlOrbqRnyKuxBPUOXW3nO5vfMHdjY8vd297R1HbYegYHWzQbnlpdmnXVq7e98/I/dE1qa69poEnr0zudKrNb73j/728Xpl+0dPX3VLbUXS5zqIa6ypu6ypus3QM+g72nsqUy90bz9Zob5y59vP3dEc2wprajo7Sx8Wql4WavvdfYVlzfVFht6xnU1nVq6zpHNMNtxfXdFc03r1WZOw0DzeqyC9fUNe0O1dC7L71ecCrHZ7B3lt00tmp5s09T23HzWlVvVavPYG+8Wqlv7CnNutpWXG9Xm4P6kZDGEdSPXMnInzEtmdi+31LjK40nDP6ZM2foeYMolsVsNs+fP/8Pf/jDJ598MjAwAHRYll23bt25c+dgQrrd7r6+vi1bthw6dOjvf/97enp6YWFhf38/5ZgFQXA6nZMnT44BhPIXk7aWvr80B8tVyt1KFAgBn4jSBb/UYe1LTLGQvtHxSIQUsyN8rbwft9LABADl+wSElF+/rZZbX25PQdWjgRDyoSxY2kd0pHyIbKJg4Q9HbcdFYBh5AVSmYW6FTCfFdf6BA0JQXuXm5p48eTIvL++fDpOGh4fNZnNjYyP0EowvKisr7xiGCWsYkFhdM3DmbKlA9gWvX+moqeyWRFRZNqJSM5/svoYBEm8lKrIoyhIhBga888cxxLYFZZyryclWYZlJQiePlBj6sFqvslKnUgl7P273erDATpQSeKJLkgCyCDza+IEwovTD04vjGJ7HrsPDgj/QGutv/BIhvZveAjkQTziimIXJfds+Jb2RJsYEQvmEpiWxrlMYEQT09eFym8cgiCjvvM7pDHEcKi1X9/ag44e6gywAYZDBOymM/F55+syZM2vXrg0EAmVlZcuWLXvkkUd+/OMfP/TQQ2fPngUtGcuyfr+fYRi/3+9yuUZGRjwej8vlCgQCwWCQZVmv1xsKhdwKl0fhEiSxurImZXKyuq4Ti1Ya23CLzqux2HuNu7a+1VPZMqIZdqpNuvqu19a93Hi1Muvg6aE2nV9vd6uGvTqrsVW7+9X3Bjv6zJ2Gt1/cYbjZa+sZRA5m97Z3Drz9qUM19P72966eu3z+YHr95Upbp9HaZQwNeq6mX3r/7/9was05RzMGWrX1VyvzT144e+Dkqb1HtQ3dF46cLc+9UZ57I+doxgdb31LXddZfrXxxadpX7++tyCs68tGB7qrWbz7/Ovvrc7017TvS/j7UoT974GT+yQur5y0zdRryjmcWnsP07WrTP17ckXU43ak1b3j6b5aewaLMglN7jzbdqH13y05Tp+HIRwfefun1m9drXl65sb9F5+o1uztNIz3D5ZdLFsxbbDAYeJ5VGDY88gzDuFyuUCjE87zH4/F6vRZyeTyeQCAwMjLi9XqB5T158uQjjzzyve9972c/+9natWuLi4v9fv/GjRtPnjxJHYJUkMvtdn/22WegTaWHK/x+vyiKVqs1NTU1BhDS6QRLDTBJBBVEEk+UlfB5ENCOKIqECQMhEmEDjxeCZAXnwQSBNmZ0gq6H8QAh1R6RncJQpP2YKuhFR7+Y9wUIMdMvsRIKB6GDdAzBA5oxGghp96m2BnJYFu9tkb8I0oGgB3MSEu8LOiUU5MSghFAgyIlIgA0ySioq8WBJhMC7dXZ2FhUVgfcgQRC8Xm92drbX66Wrc01NzdKlS+WnSqN6JeG9UcSiQF5+7an0ayEBC2pnTtRKSOzpNu37tOJC9s3n13/e0NQZDGKVW9Tt9GsMICTwySMS5l6SUGFhV16uimUxqZyMTiaE2rq6P/ns7PnMmg1r8voN5mCAw7a5OFQ9SFe33qL4gRA2ukWRl09c4INom0cn6LjFs0cIWwgRhitCLMKcRuwFbjU+UiL6vxIQyltO7wkiR3mpSa32CcjjHEHHD5cLEltb0/nlwQvHj9Vuej5DrTX7A5yE/Bw2OVJ8XtnZ2b/5zW+WLl36H//xHxMmTPiv//qvRx999Ne//vUzzzzz1FNPpaamzp8/H/4uWbJk4cKFixcvXrRo0QJyzZ49e8mSJcuWLUtOToac0X8XKlzzFy6YNmX6pD/+dbBNxxl9zm6TX2cb6Rlyas0f73i//mqlq88aHHKX5Vz/5LUPeqrbai+V9jepLn6dcWbP14aGnoFm9Tub3zC0atx628srNxrb+wbbdE6t+cNX3j697xhn8W/9/+y9h3dUR5YH/Dd85zvnG8/Mznhnd+bY6z07MzuzszO7ThhksskOYJOjwYnFZAZEBpEFMkkkIQkJ5YxyFkIJlKVupVboltQ5vvzqo96Vys8tvUYNLRmP+h2OqFdddavqVr361a2699a6rY2ldXUFNe1lTbCr6Wg36uo0XyzbUJqSX5Za0N/UvXP91qyo1Py4zJayuvP7g+oKqoxqnb61Lz8uMzjwNNVnfZJX8fctO83tA3mxD45uO6Br1BQmZH+xbENTyZMDX+42tw8Y1bpzfz+ZHZ1mUGnrC6vT7ibsWPeNrlFzdt8JVXlD95O2oF1HGosfn913IisqdbCl9+TOw1lRqdGX70Z9F9Zb1/H3LTvrCx9bWvqdLVivJzki4f/9f/6/jz/+ePFiBa4tXDhv3rz58+fPmzdvwYIF8+bNW7Ro0aeffrpo0aLFixcvXbp00aJFH3zwwaJFi+bPn//JJ58sW7bs9ddff+21137729++8sorr7766tKlS19//fWUlBTw1IgQMplM8AoCpV6vv379utPpJKMOPMs8EwhhwiXjE85BJDhhEaJFRA3D4fdJ5CHvgRCU77BeGC+NbgkIFRfocEIBf8cGhJxUYVpaREoKg7CbNVzpkZKiT4AQq2nw5MhTkHQMKQ87WJ6B0H1Swu2X/uFpkZHISvMSPsTFJdtdZhE7WYRXRHGednpeLiCEfjGZTHKPQTqdzs3MOS8vb/78+R62sHgR+7PgEd5Yi4l5zCPU14di7lVQNEvxTqsVtXcIO7bFumic5rkkQjj75WFtxbIoIrz4XkQDQkJ1lSr+fiXDYsosQg/Ldft25/X1mGB3Asa3iFiKcpL9Fm+AEGufDp2ViviSYQwMwyg1PKrd//cKCOXbI7BgxE6UXLgsrH+ElXTw3YrSpOBekPx9VCCUJ4Aw1K2wpD46srOyUtfUoquqsD4sV7Ec4nk85WRldR0JzGU46CmrICC5kosbwZiYmPnz58fExKxZs+b111//+c9//qtf/eo3v/lNeHh4SUlJeXl5VVVVgfSUlpaWlJQUFxcXFhYWFxeXl5eXlJTk5eWVlpZWVFQUKzwlCk/145rQazcWzVzQVtGkb+g1NWm5HqupqdfcPrD38+3qR40DzT26Rs3j3EcndhxydJvM7QP2Tn1tdvmjlAJXl7GjomnP5u2GNp2prf/49oN1BVV2jbGlrG7b6i/bK5vbK5uP7zyiftQ80NCjr++huyw21aDucaerwxRy9NzqhZ+2lNe5tJY9m7/NT8jEXl3adUF7jsRcjxho7dE2deXEpgcfOt3f0t1Y+vjA17tt3Yay9IIvPtugbeoqSs757tj59urmE7sOaZu6Em5F792y3diue5hReObvx8sfFP39y529DR1n/n68JDVvoLXn5O7DNXnlJ3cfjg2NhFISb99PvH0/LSJhUNV7cvfh+sLHdJfF3tRvaenPScgMmDojOzu7qKhAgW0llZWVUoKiioqKsrKynJycrKys8vLy4uLioqKi3NzcvLy8ysrKsrKywsLCu3fv/u53v3vllVd+9rOfvfHGG8uXL4+Ojl6yZElsbCwMCXBBAjZ2EENRFFxrQ1EUHM8bDAYPZ4Rk8xxgAEYXRVG6XkbXZ7eYKWmm5kTEjlQClw9Fb4FQRIwoIpcDabsZbTfjcsDc7a5n7lbE2IFQkm5BkMUwazFTfT3WXo2LGNHClw70AY18AoQWI+rpsvZozC7H0DQlcVhxGe0BCGFpAglgsc4wjK4XqVr1FqtLRALW0kfI5UQNdf3NjUZRQFYbZbOJ1ZU9FhPwU1HJ7mXcGiX34Njt9r6+PpX0wP1hNE3DSM3Ly1u8eLG8F+VDBB8lidieweZCd242Xr5UbXehR+W6qke9eHmCtAyii4q7zx5vaGzRSUCouNWmLBFiVMBrN0ktiqbQ+XNJ9yKaRESVl3ZXPFLzAmIEnkPWvALdyRNFPRqDHAixNrNMCXPsQCiIDMmo0xoqK+pam7uVlV6HuOIVEBJnxJAZdgurK9Sd7YMuJ4xgvDWqdMkw6YixACHZ6Lh0oezI/pKgoMTyYiYlsV3V3i0KSEC8k0cFxb1HD+Z095kcNCMiKxZ/lYH/xo0bmzdvhgmiqanpyJEjf/vb31599dUdO3YQ1dDh7WVJn1rSqBYEgehhgREnacUYAyJCjfVN098KwJJck5busujrNZYWbXtl89aVWyIu3mJ0dn1rX/Lt2B3rvmkurR1s6R1s6qZ7LcbmXpNKW5NT/tWKzyvzyjuqWr5ZsflBZHJlZum9kDtVWWWmtv62iqbNyzbmxmTSGqu1dcBY1+NSGxytg06V/nH+o6PbD/Q1durVfWXpBWsWfXb5+IWmsieNpY/XLl5+6P/2laUXVGaXfrNqc1PZk/yEzMBv9vTUtxvbdcGHTucnZN67fKcsvaC2sHLnxq0t5XV7Nn+bGZ0Sd+Peo8zib1ZtjrkesXX1ltrCyhtnLp8PDGqvbj66/UBhUnZDSU3QniOPMovDgkON7borJ4KvBV3qqW/f/fm2/LhsZ7vR2qC1tg4kRyTM/2CR9JEqTnzkIJAc40GAzHfwvYNqzJ49e/7pn/7pv//7vw8fPgwTwlM76I0bN964cQPSQ89yHNfT03P48OHAwMA9e/YcO3YMphQoq7u724P5BME/ErBarWq1Oi3xSW5mXVN97/AnIN0wqjwOvQVCSXcd1T/uz0hqzkhqrn/cL8mFinyDET52IIRpCgazw8411vXkZdU/SKlXqVTkGmeyCABm+gQISwu6UhOqs9Ifd6hNeJoSpINVj3xDCI26NSoHQrB6MpvNCdGNleW6jPQSESGz1SKKKC+nITG2dt/OW6pmG8ugjLTK65dzQi6ks/iSNMWdpB8ZCIHjPM+/+uqrcAAOgxVmpeTk5G3btl2+fPnw4cPBwcHQizDWi4uLFy9eLJ0c4G1GHp+4sWTs4qlctArIRvYBsPktxfMcwuYlIqJprHPB0shhk2ZVvJzAh20g5QzfwYGneyUglChzWGlbupBGqhWHIwWRcnB2i6TLi2vMsSwt9bsUw0tylYjlSGmPcWia9QII8REk7RL0PEJXL1V1a63fheTWN5qGCCn85w0QsgKHjR+lLV8rPoHm0IULxV2avsiw4toqh7QN62A5p8vpyf5S+WJeWkQMy9JEGpZ4LgwLeXi73+VyDEuceIknbf3Dlg5uvCSCKy5cIiMjwY6QzLDd3d3gxzU1NRXYQzCPIKIC27yIZhCqeVw7/d3pmto2bJbXrDM395mb+7or1e1lTZoKlaGxDxQ428uauivVoJmJbQFb+g2NfX01HZoKlaZC1VfT0fWoFdLoG3oh2UBdt6aira+ma7C+z9Q8YFUZbGqjpVVvbhm0tOoNjTpzy6Cj3Wxs6u96pO56pNY3aM0t/R0Pm9UlDQN13aZmXXelGgwkOstVQET3BNPsqerQPekeqOvtetSqfdzZU9XWVtrY9ah1sL6nv1bTVtqoe9LdX9vTX9vTU9XRWa7qeqTWPek2NQ90V6o1FSrt487+Wk1vdXtPVVtvdXvXo9b+6jZrUx82eVQNpEUkLpq5gHN52t9TYvHweECks9LS0pYuXZqcnEw0ZWBUg9aofNYWRfH+/ftZWVlOp3NwcLC2thZwFGZSzxIhHvAstl3AJgzIwYg0z6OQCyXtnaZ+U/fZ4xVYvY4VBbzzNrS0VWqCVqt99913iR0hgXaF9BzHo0tnq7RGba++93xQOcPi4x2FxDgaCI7RjpDFJ+vmoU0dhC6ffTxo6uroGLx0plDkECewApJ2j6VNJihXzlKohgetUVHAy0opIyud/uB5VdtrvXihjkP2vKLqqLvtkqEwFtSw8KbwQKNGA0IWrwykHSkR2VnOjngUG1FbkjuAEHt6f9NgLxZLRB719mqRgKLvVcXFPXQx2KSwrUMfdqdA2iAcVCgWR/+YW6MjgZD0Lvgg12g0MKP19fUR+U8QMD7NmjULH7BLhoAAYCAvD2/cfd9k2Osbsl4QnAjbFNpp1sCLdmxzyZgQsktdOKQDMgyonoCQ44ZVlIYFFNgzFAW88JCsDCQjet6Ft8Wx+S2Dd+El8VP6+Qf29WMHQgaTt9Oio6Hedvt6o4u3VNcY7t55xmU33gAhN6SIjDhOsNCss6nFfP16tSiizLSm1IRmpxMxnAWzSxKFv+fyD0NKQMhyTvjMILk0N3Fuyj5gewQHn1iwxmq92NyY51msKo0EbDmr8Ny5c2flypXksgtI5XQ6jUaj1WqF6VUURbK1oEDG62gWiY+f1AW8HaCqaMTmDU06YorvEQAAIABJREFUl3rQrsY25vqGXrBSd7QbjU1afQO2jgfDPnNLv02tt6oGjU1aQ2MfGCSYmnXGJq2pWQem7ja1XrJz7zc1D1ha9YCCNrXRqjLAP4BGV6fVpjYO1vfpG7T2NpOj3Yh9ftb3gKE9WMpLoKuzt5mcHRZzy6Cxqd/SqgdMxXVWDcpra28z6Bt6zS2DUIq5ZdDQqDM06iyteke72dzSDxaEYIwP5hbGJi3Vpsf+TlWDxhZdyt34BdPnUU7FzvLMZY7jyFYny7JWq9VoNBK1ABBfRFFcv359ZGQkkCJ6HzU1NdXV1RqNpq+vD8xmiMQJnmWUzgilQyz8BXMCyyMXjziGRccOJzqciEfskf05jLQYkz5xg1NReRlXx1sgNFucl85WDJjN/SZT8Olyk9kh/1JG8opMlWM5I2RxJ5hZRhR4ZLW5Du1+wPB2hx0dP5jE0vhTFpELs1SEE0oMwF4B4fDOKsZCAEKeQ53tg+dP1Th5R2l589VLNVhpgx+Q1rKKkq4yEA6ZCUr97uIFCvEoNCTvcU2XydESHtr4+EmdiMxO2igiq4D429eaunucNI/6etGO/4v47lImLyCHx/56uYBQ3t8VFRVXrlxJSUkJDw9PTU0lQx8hVFBQ8OGHH1osFjLFS0skrIwiwYzAs9IhrXTyPGwug5W+kIgoF17ODTmUERFN4aENngBHakUqSoTDVkRYFGXxmhevdPBCh8XeDZBgtZrxxI31l7DSFGAjz2FnB1Il8fKGqF+PHQglhzlWF+1sa0Wnjxfa+c6HDzuvBA+5cZJzTx4mXBqDsoy0CMUDVRBElyCi4tKOm6GVNI0yUpqiwh+JIqJoi4RGoKYsL+f7sBIQkpMVYWgJCRIe1v2haRZUjaSuHOInXgJKfmeIZCBw2EL2+5J+GIqKilq7di3EAeCR3922fEc5eCdJvQ/wCDU0NH0wbU5XjcraOmBvGXC09psbehxtGBVwjOTM0yo5iHG0GUxNWlOT1tysgxhwq2aX1E0hJeSytODDNnl2iIFIa+uAPAFksakG8eakVCI4o7G2DjjbjQ5JTrW2DjjaDHa1HihAPLb8Uw2Scm2qQUebAWruVjrUExyQWlr6HW0GZ7uRpLG09NtbdNZWHW5Xmz4zOnXJ7EUM9TwSIXQWTIt4iHDY2768W+CV5/nVq1eDSjARkmiabmxsXL58+fnz5/dLD0iENE0LgmC3299++20PQIjpSFZVIqJ5JNgd6FDgPaMJzx37dibZ7NTw0tcqfe/ySv0g7CUQsjQjnjiczfKI5VHQ0Vx8DoDnDcXHKyCUqmrFtERkd9CH96bjNlLoxOEYpx2AkMYix9C0Bt8//ku64Jl2hFKP4DkWzm4YWuzs0J45UcEh1Ng0ePF0gbS0tWP7el5xbeQJCKXKS3IRNnhjKHQtJK384QCPuFPHChqaO3iEaEmToLZ2IC2t2ubAG1s0hxgGHT8aW1jYrmztghnzcgEhyH8IIaPR+Pjx48jIyPj4+OzsbBjrcPUEQqi4uPizzz4bGMDrC2wviPdFiUIzCA0AS/JhJGBhUSZM0IwDrywQR4xzpU+OkSbroa/OExBi2BPwKTdWp8bDAB9rCaD3jOEEXxcurR9dNP54sA8EDME4Fy/gw044NYTRNkaDehEhirWKCNXWGIPPFvLIUfFoIOyGzyRClpfO5/H3IJl5IFRToz17Jk0UUM6D1vuRD/FaWMRnzthqR/leASUghP7geewWRxr0UmcNLRRwGECO6LCJCNGMwEq7sBJS4uoRu2N570I4IiJi+fLlZNKENQpcQTBc9A+8vY+k8HwxDMdWV9bMeCtAU92KEUUCQgkVhnyHAvLJ/Yi6QRogoqlJS0DO3KwjrwQXsXHCMDoS5LO2DkA8gShTkxaADcoFnDM14aM7gE+gDNALYSgXaAI1u1ov7fHiEknNoVbW1gGghoW/RmwsAXWwYoN6LM5a1IOp95Lmvj/XbnV8P9DHzFxY9YKDGBKGeyTAoB5mTIZhVq5cGRkZ6dbjNE0Tt1MQgIlFEITe3l64honUBUgBBWkawb+wPCPgTxu5aHTzZlZDg2HQZL17o5rDQ1c6XRZsPgRCETE8h0LO5beqTOo2y9WLxXgywV7cFB+o9hi3RrHEJlrwKYOIXBRzNbhU3aaprtBF3i2gsNo8PinCbZemU/INPh8QwqGPwCOD3nr8UI7eyObl1MXdq5eA0CWd1yoCPDRq5NaopCePZRupH7FcwbMoI6UiJbmOEcTLl/L1FgMl6ScO6OmkxCcuF9IPspKIyzoc/J2buR1tNl7ZI9VLB4TybmcYprm5mWEYu90OnlngV47jiouLFyxYYLFgf2YYXTCPpSlV5DmOY1me4SzSfC3Zr0h+53BeCYdMJvpxTYcoIprBO209PXqDnhvoN4HHzmEvfFgp1INBvbRiZUXEcLyD5ew4wDG4kyThElt6IKTTupobB3npxI0TUP8gpe2zW22UBDaS4CWhondAKI1ZF+20O+iQ85lmK7p/r+nhI59JhDw+/sAPHmiSmKvVcZcuJg8MOFOTairKu6RfpRNWPEsofqgegFBy8TC0zhAEAWRx7DJGEp0FkeYFatiRI/aPZLGJnR2WwQG8mMDekiQmS3Uc5U9UVNTKlSulMfD9xwaTIPAZhGPydxQSzxWFlybS7ROd1a3W1gFDA/YXQ3ViyQykKwASEiYiF8ASgRn5bQ+AZPB31ASQGMCMQBeRAuVCHqCsXa0nwiUAHhAnKAuyIKHgbMee0uRFQ1lAhJAiRUsxAzYVdltqVA+kRCbOnzmflY7cvGUq2cOAXiPZCShCgOO4devWRUdHQzJystjY2Hj69Om2trbBwUHYGiWLXYPB8M477yhJhARQsXK0iI+oRRHV1WruR+Xl5ReXFGh4kZO2GeE8jNRrlICXEiHH0GLDE2t6RmVmVk1ro0tyvyLNEqPQxlFeAiH2DIwtFAW861teoispqcrLbmpq7MP+kPFXjwUJie1D5QEroBSI8nBGOLy/MjQJQ3qW5fMz+3KyK3OyHuv78aYrRYOzPcV2QXEjgRA7dJS6REqA18lIRN1dxrjottycjoT73RSDLl7IbGlmLpzNPLg3I3B3XFrKo+am3rBbedWPDC3NOtxMxWJxfV8uiZCMb4RQTk7OwYMHLRaL2WzOzMwkZ4Q8z+fl5S1atAj70Bpq2/ciOSxvpDkavOIOdTBuq4gsZpSWXHv1Us7tUHxKrOmkDh8IO34wqbGhzWpxSdgn7aDChIuQokQ4LLtAl0uDBg8CUOAUkaDRDKSlVIZcSjl16i7Lo6YW8/GTt/f9PbiqqkUSqhin0/k9QIviGCVCPFixhC+IyF7/xJj1oDo/U2el9FANpb9kWnnm1igcYg4ZC0obyKKIyitai4sriwoaabyglAySsFKBJ5+fSkA4vGrBTZDOFaS1yfCCQKo/8B9bayFEOygxMan40KGbl4KjBvUW+Fw9rMQjIyM3bNgAfCCtZhiGZVmaljZ/pN/kGmhKTPMqnheFykdVAf87taOm1aoaxOeCzb1mNdaFwR7XpOM3S+sAhMFRNUSamnVwwAbOPOHIEPxfk4xYp6ZVa1HpwHm3RYVfTS19uIhWLfwztfSZW7VWdb9FpTO1YA9qcNAIRIxNWjjSM7X0uRGBXMTpNqkVnF+SsoA+KQ68uIFXNnKiiU8iG3swfdWgUT2Qei9p/sz5DoeL8eBTS4HL0EHkR3yizkgLzeEosrhZt27drVu3IBpEf0EQKioq1Gp1fT3eKdm5cyfxS2W1Wg0Gw4IFC5SAcPizxt8yXuxKOzo0I5pNot4AFlDDvvvxxOrJvMFLIBRA7U6jMXZ3SwXhj2JovTjc6B/87xUQDluI4cqLiGYZpOnWGvQCI+21MCyPvY9IzrgJ8nkLhFLlsH9t0NIYosPjk0KTgcFNEZEkDgrYGEvhgVwjgRCSg6wp3SuHJ0FRRBaHs13TBYoweiPDI87qdA0aaEM/VpwRRWTQM21t/dJeN1bXUCgWR79cQAgVBTh89OhRU1NTS0tLVVXVV199JcfI/Pz8pUuXmkwmAl0s54S9aSyTYW8D+C/2QjI8yfI8lv01vWqrlXHY0M7tQQaDo76htblxUGQR7hopJc04sF6GtHXpQSLEHSYiu1US93hkNUvnzNKVEwxHc6KzTzvIcchkRIGBV3gR5ef3NDXRHI/dG2CFD2n9Reo29jNCrC6FtV4xxtutiOGdIpZCPXUwLB5hhD0TCBncDrBOxXSxmhleSQocL9L4UB1RrBlDFGym8Ng79qiPMhDCCR+e2WBZN9RfPFbixWttibIE9QzLuRgOpabWOGxYh08UkeQtgnXiayhGf65fv06uYSIphr5J6R3u25THkGQvEuCxJ8bm2dNmq2taDKp+a5ve2qk3qvEFEXDtEdxnRMLYR5p0sxLE4PRterhKye3mI1NrP07c1i//hyFWrTOptBCwtPXbOgat7QOWtn6zGic2qwaMLTpD89A9UMYWnbFFqoxKS3IBBZNKa2nDRbjVEF6NrX0mKYvbX4saq8NAtYE4XAVlbtVidznqQYOqPyMm7dMln2K7T3IG4CWLR6o1EXUnmA0QQmvWrLlx4wZxrQ4lqFSqK1euBAcHf/vtt2fOnIFPAH7q7+9/6623FIEQhh9ebApYaUv6HLAuiYQeAj7AMzlsAkKUiJfgnkQMr4AQu8cUEVbBk74A2MPE+tvKD/mix6IswzAUj79lStr+tIM2kDSH4TLw5QD4w8P2kbhAqVivgHBo6Twsp2LHIXiVIPn9kKjJHa8TwX1k46BRCkCI7fFx7cBuDWeWNDCkzV6K14ocYnnsVFoq0GUyOrHuDzIgBHczcALCVzYqPS8XEAL34SzQbDZfuHBh9+7du3btqqmpgQYwDJ5AHz58OG/ePFCWkdQ6aGkzDfdmv9b+sKQx90HLg5Ta0sKW3m4LrEfBsQIeZwLS9aCb17JFHj0sawm7WRgaUqnpNECyYYcOHD535JUlQhHZLFx2Rk1ORnN2elNWerXZiOFBGse0ncJrEIcTqVqZyHs5rIBKyszfheTevFmgbjPxePefwXZ4w9/R2IEQIQdeTw37rhVQBwaqZ+Ag3kUhn01UlCdfowy2s8SHE3ijUkJsh8spIo7hsO9WSWscq9oyFMZISf929HGlBITweWDth2F/8IP99tLi2oKc5sy0muKCRk2HGR9kDC+FeRFdu/rg9o3y2JhK6aTQxSPsM0npiYmJWbduHcF++ORg34ZlWSJGQAIymSpRG3s8h1BV9eM3/vWN62evXD91Jez8zYiQ26GnL9+9cOvWmes3T1+7fTb09tnQm6ev3TpzHSLDzt8MO38T4iEMv94+G3rn3A3yL+z8zbsXsNe022evwb87566HnQ8NOx9698KN8OCbYedDw4NvRl66HR5889aZqzdPX7lz7jpkv3029NaZ67fPhgJ9qegb0q+Ywt0LN4BO2HmcjKQhYSn71Tvnrt+9cAMSk2rcOXcDkoUH37515jqEb525Hn72esS50FtBV++cu3Fw+4Epb77HMFi7yduHuEyDjKCSNrz/huNgooCt0ZiYGEKfKJo+9XldUFBQXV0NKfH9wHa8L2ez2aZMmaIIhEMqb5LCgfSVYdkUMbB4xVe5Iaskp7nw5T++A0IQmBBycALNYOdT2MU8ABJpmluAfNFjAULMMTzbYIlQQCbQ4MMLXNEpfdb405aaIx2/SfOSV0A4fDJFPk248IFDyIb3sDgKIRd2CorBfnjWc2uP9KoEhHCJhHSQKUE2VlnneMGJbeSkmnOoX0JJuBsOll54ksEIL50s4r3x4VlltJJfMokQGEFUMR0OR2tra0NDA7APvgRRFOE+QjgjlFqF2w+XSPAcMhkYixEZBtHgoMtmpwQsg2EbBhHfx4En2cz0xpYmg4iQ3Wkzm5nY+0X7d97FCIBHNg0GK5JQ4lLaGoXV4oCWsZmQ1Yj6+2iOxQYH0qhyCMgmIJFjUHxMmUajFxFtMlutZpSe2LZ/9x1p9SW4GHyOCI83QDicx5v/xw6E3lB9RtpRDeqHFWXx/qrkFRB/7QM6h9WIBrScfsAhndTiDRZQWxCQ2K+jdD1ox9arj6sGsGIUz4jKh953795dv349mSOeUUWf/tzV1fXll1/OnDlzyZIlM2bMWLhw4axZs0Y6afN5zCeffPJv//Zvr7322meffbZw4cK5c+cuWrRo9uzZ4FVu7ty5CxYsWCg5M1u8eLHPS3cjOH/+/Llz537wwQcLFiyYNWvW6dOnyYmGT5n9/QnZ+vXr4T5CuVVoXV2dSqVqaGj49ttvS0pKyOTLMIzJZHrmNUwvXlXvDeq9LpMM8jECobcFeAmE3pIfPb0SEI6e2qexIBHC4hiq8Rzkn/M+QihPblAvv0gsOztbp9NdvXp1+/btjx49Igr0oDX6wQcfwAE49pyEdUGHjq81Xf252eXxMWVJCaW5ORVtbb2SHIOVNp0uvA/w5HF7dWWPyYgommV5imZEqxndvpYncIjlnCKisK33kIBNKwEhQkg/aHmQXhIdkRMVnp2RVjzQj63aaRpvwOPFnIgelvTU1VgpJzKaMOZxDGp44oyNLpdmc4pmnZMQCPFaY8jwdqi/+nXmzIySlITypPjC7Myy5qY2yoV3ZfHOsw0bFeN1A4fwoXelRlIDE2gO3y456vNjASEMRXJfGPmQYAkyfn/Bx+YF6QEkIJM+eNKB6UwQBACk8asJoUz6hWEYYIuHrTCS2NsAcBjsCAEIJXVivE1ht9szMjLUavXy5cvr6+vT09Phknrgj9lsnjp1qqJE6G09FNL7gVCBMc+Ihm5V2Bp9Rt4X/PnlAkJAO9jEyMrKunr16tatW00mU3x8vNz3ElzMCyMb3OhhKVhSI0EislkZmkJ2G7JaBWyBLiKDwVVR0ZSeVqxuobZ9dfn8yZy/77w7oEU5WXXZGS0pcerWRgMW23kHlgil6VayaWOVgBBUje1WnmcQz+BtUnx+wNIii6IjS8tLuyvLzFs/Dzu4O+3k4ZSeTpSSkp2WWvawtL2xQStN8jR4xoPOmzwSIRjegh3LkE2hiKwW2mbGXn5cDmnHFfvOQbWP26Mi0rs02nv3UvJyastKm+GQEnZylAb9jwWEZPkMXzJFUW7KHUoVfvH4p94D9uzZs3fvXiAFQAh/5XuJL17QWCjA9wu3Bg4vesaSz+s0owIh8aLHsmxgYGB2dnZHR4d84xQhZDAYPNgRel0PhQx+IFRgzDOi/UA45GJNzieapqOioiwWS2FhYVVVFXzbYH/28OHD+fPn22w2rJyND0exqiHLYoNZECYksIEg/suyyGCgB/pph0McHOA62mxWMza0tFjori7sKmn4uA5rKgIQYjdsiFMCQjgewOdkUkmSCiX+8F0UY7VbzFYTwyKjgTcZEVYOFVi93qnTYiiH5AL2Xi+Q3fLJA4Qch2/LhP7CB/jSmuP7fiLdJmBQ7NVgSbqtTavXD1kxY4fbPEczipv9PxYQgjjidgwJR1lgEzlOf+GjCAwMPH78OBx8juorlShhjlM1CFn4fmFZ4GYFKP+0XzzsBoTDZqlDhEVRxOcm0mUUoDIKjKIoymg0zpgxwy8RPrMLyNqOpPRgPkHSvGDAD4RDQAguQ2EvBf6CIAh7LMBllmXLyso++ugjMJWVOmzIfkWSDgW73cnwTnzELTKcgF19Dv3De5GChHBASZCOqYShDRzOJSnUYDUZmMI8+BoFARQ7u5BIS7ZxoACC/bfZnf0uyowQ53Ba8F6rKDmhkK6O5HmWom1DPiOG90YnDxCCRDisY4bnT5blXS6a5VxYgUhkOJ6SxsAQYxl6aGUj3WDlZFhpU3SYbyO/uh8LCEEZFeoDHzPZGBxZSZ/H7Nq168iRIwCEwGGQjchpAgCVz8sdSdDhcMiRGFhBcHFk+ueOcQNCUgQjPW5kGQZbK8FixWg0ejCod8v43K9+ifD5WOcHwh843cYWai6slQV8AaAiN0fTNF1UVPTxxx/DdZ2Siim+k0FSrxiSFUSsW0hLTpJgExKLZaAkDEdQQ45NsPoZ7jLJNF6yuhg6xMJQyPOKW6OSgScIo1J2fELCiyJPUwhfmIxxGcs0YMWB/9K4mOEa4jC21+WGa+uFHeHzDDA4vwF+etYafR7qCnlGVZaBOjAMNey+Z5gDiAIHCNISAatxw7XDEiuRw45vP5b0oYYcQSmUiX4sICTwIxk5PUuLV6n2zxX/1CcnACHZjCUOmIAegUP4mp6rEC8yQSngKgGyydVYvCDkMSmUIj8j5DgOjlRAsRxccNA0HjlyhZ2+vj7/GaFH1g796JcIx8IltzS+VJYhizu4QoyURLZ3eJ6HG+ptNtuwwQpOBYgoCNjrKzZeku4p5gRWOlUSWJ6S9JJdCNlFZHHSOkn732F39SEk2cZJtqZYwsMAjC+I4DhGeWsU6iVIDmWk+0WGKkqLiJU+SAH7acI+vmlJBMSbt0SvFUqBWR6wYcwG9UPFePXfywOE0lUSQ+AHKwO8oY0v1ZTcEXB4QYNVRrGKL75pU2LdsESP2yzpXr98EiF0h5tLTNivI1ok4xGAU8AjR44EBQWRDwQqA24E4LsgMeNRBzlNGMzkL2ELBHz41w0IQR2GnBHKC4JNURAHBUHQ6XT+rVE5f5TCfiBU4oyHeJ8BoXSANHT3Cox1TnogTE4CysrK4IwQ4A9qJk0KcFMux/H45FCyDYfNS3AsK8khMI1KOjUY77BJiiD5MUEMjU1o8TeDTXmwLZESEAr4mpahsy5IKZUuIahUMFglSnRg3ufArykWHVhs2oJnqGFfgpNna3RYJsarDKlPwY8Mh69QGd5nlnqT+JdxgXHxsC89zDiwmIVOd/v7Y0mE5AAb6kMmX7fq+fwVvov9+/cHBgYCcdjY7+/vDwsLCw0NJZcWjYdYNrI5pOFkOQv1GZnyBWOg4UQihHkD/sIGEkiEEEPEdFEUTSaTXyIcC/P9QDgWLrmleU4gJB/JK6+80t3d7UZ05Cts8rAsCxKhXv8M12IjKXgbU1hY+Je//AVyER088rV7S21kekIqJiYGnGT6VtcOJgLgM4TDwsIWLFgwsiY+j7l69eoXX3xBGkhmRp8XJCd448aNTZs2kUkfPKvJE/xEw9B3pPLEmSrgAVxCS34VRbG6utpgMERHR3/33XeQhlxgRJL9FAPyUQRDa9OmTcR8YmSLCN8IcOr1+oCAgLq6OpCVIQHRPx9J4flieJ7X6/VvvfVWZ2cnFERmj+cj6JaLtAshBHaEJpOJTKduiT28yqV5eRj4DGyBy63g9okZM2YMDAyQ0n3bKHK+kJSUNGfOHOhfIvx4aMWL/8TzfF9f389//nPCQ7fdnTEW4TUQyu/E4Tjut7/9rUaj8bCVBGfdUBtBECorK5csWUJRlLzzxiNcVVX13nvvEetGUm1flUWMvXJzc1evXk2OeXxFHwYTDGvo47i4uOXLl/uKvhIdQRBCQ0N37dpFGgh9p5TeV/HR0dFwDRPP80TBioDxGEfzS5sMJBuY08n241PZev/+/WfPngWbQvleaEVFxb1790hKMn+9tA0cY8XIBC2K4ocffkiuYfKcHcYYAKFca9S3S09SB71e/+abb6rVamzojHePfPzAKawoih0dHX/729/6+/t9XMD32hJDuhrNzc1Tp04lWrjyRYmvigYIyMjImDJlyjj1y6hVZVlWp9P96le/go+FLJtGTewh0msgJOAPe/e/+MUvuru7yRc+aknyX3NycgICAuToOGqWF4/Mycn5wx/+QIqGgG8nVtgkTEhIWLhwIWAVKe7F6w8UQJEPyN69e3f69Om+ouyBzpkzZzZu3Eg6ejzmgpGlR0VFffjhhxA/AcNjZAXGKWbkkMBqtJJ6M8/zT/dFDxw4AMOStJqm6atXr4JCGSAHWe2OUyUngKy8CdDetWvXpqeneyjazaZFp9PNnTtXrVbLswB/QL7xyZoMLuadM2dOS0sLGfnwpfuEvlxmUKlUM2fO7OnpIZP42IuQM0EehvFGuA2caWtrmzVrFr78TlJjHLrqXML4sZfoOSUs4zIyMubNm0ckUR/2i1LpIFj/+te/BkUz0nA5T8YSfh4gFAQBdLoQQq++OqQ16qGikmnEkJ+6/Pz8devWSU63lXL4Jj47O3vx4sWgdUZWQC6XyzfURRE+ZkEQ4uPjv/rqK+gA8JfokyJgYJF+5Xke9mB9QtwDEYTQzZs3nxp6k0UD6PJ5yOKTn+7du7dhwwb4REnRJDCWofzSppG3YviEFSvXPpW5d+3adfToUVJzURRdLlddXZ1GoyE7ovLsJOVPNCBXi122bNnChQu/U34uXbp08eLFkJCQa9euXblyJSgo6Pe//31gYODly5dDQkIuXbr03XffXbx48fLly5AsxBfP5cuXT548+Yc//OHw4cNXr169cuVKSEhIcHCwL2hjGufOnbt8+fL169e/++67wMDA//zP/zx16tSlS5e8pX9J4QkJCQGGyLkUGBj4xz/+8fjx4yEhIaGhoZcvXwaXRtA6b4seNf13330XGhq6ZcuWv/3tb8HBwVevXj1//vxztGtU4p4jDxw48Jvf/IZMlc8nj3oNhLAEg+9QFMVf//rX8+fP//DDD5cpPEuWLFm5cuWyZcuWLl26bNmyWbNm/eY3v1myZIlCcp9FBwQE/Ou//uuyZcs++uijFStWPHXatHjxYqiJT8r45JNPVq5c+cknn7z55ptvvPHGRx999Omnn/qEMhD59NNPly5dumLFilWrVn388cdLly596623XnvtNR8WMSqpjz766J133nn99deXLFny2WefLV++nPTdqOl9FfnHP/6R3FAPmw3yrUL0U35gXSxZXg6ZZwC2gUR47NgxuKsIvuScnJwjR45kZ2fHxMTA/VNwP/tPmQHf112u/HLr1q1NmzatU3hWrFixZct9WgNEAAAgAElEQVSWTZs2rVq1av369atWrfr8889Xr14NgXXr1q1Zs2b9+vUbNmzYuHEjhNf74tmwYcPnn3/+6aefbtq0acOGDStXroQSfUEb04DarlmzZt26dRs2bFixYsUXX3yxbt06b+krsA1Hb9y4ETizVno2bty4atUqiF+xYsWmTZvWrl27fv164Ke35Sql//TTT7/44ouNGzeuXbv2888/37hx4/Lly6EmSll8Er969eovv/ySiCJEiP9+zI0t5DUQgnRFFL6zsrLCw8OzsrISFJ64uLj4+Pi4uLjk5OTExMSUlJTExMSkpCSF5D6LTk9PT5aehISEmJiYxMTE6OjolJQUXxUQFxeXkpISGxsbFxeXlZUVExMTGxubnJzsK/rJycn3799PTExMTk6OjY1NSkpKTExMT0/3FX0lOrGxsQ8ePIiTnpSUFGhXamqqUnofxsOFA6BXBTs8RJQf22B+GVORL5OoydA0XVNT09raSlHUwYMH4Yywurq6u7tbEISioqLY2NjLly8/fvz4ZWzP89ZJvmAnswe+2lPhgfRPTS1hPJAzfigftpflvFUg43W0dIssPheEA0JSVa8JKWQAeYXUXL7mU8gxerSo8MjnZ7crrkjXwcYYUQIYvQAvY0lDoBRypuMlGa+Ty48ewE6B6IWQ9o4l4DUQAlEYl9Cd4EHGQ2HkghXYofaQ0rc/EXtk2CD1rYRB5mhggrw/fNUKiqJAmACC5Jv0FX0PdMh2HDnQ8pB4PH5yuVykDuNBf8JoynXYYMw4nc6Kioo//elP0dHRmzdv3r9///nz5//yl7/U1dWREwcYq8ABjuPIAJ6wao9HQXB0BF8KbCx57mI38CPMAQrj9znAfDWy43zOE2jgOHUumaCAXYR7vp0G5TwBHAJNNyid1EGezLdhMhhcLhc5ZYdIrwryGgjlZZBFrny/dGTxxL8MSTYBDCI7xWTxRXBxZA2fL4a0Ar5n8vp81NxyEUNjorQyMcsIaAv0MhlYhIdulfThK3APCiKclA82H5Y1waTI3iaRigRBWLNmzb/8y7/8+7//+yuvvPK73/3uiy++IP0r30QlJ4UTXGefFyfvU+hWiFEQbLDJMJkuHA4HGQmjfhc+rK28brA1Lf8AX7wgaJQgCOTjIjPVixMHCnIpBQQ1aBToahDcJQGflEuokY4mx+E+oa9EBIojhRJdJKX0SvFeA6ESIX+8nwNyDpChCV8ImdTkaSZzOCcn55e//OWvfvWr3/3ud7/+9a9LS0sJEE5mtjyz7TCuYElBbJaemcufwM8BzxzwA6Fn/vh/fX4OyOcpmL9gu2nUcwBvixmViIfI8abvoehRf3I4HAEBAb/85S9/9rOfrV69GnZNYDN81PTeRiq111d0fEX/+epDlllQDbl0pVQxf7yfAx444AdCD8zx//RCHIA5Ds7kQS6cgC3WF6rxxGa+cOHCa6+99rOf/ez+/ftu52ETW5GfUmk8z5PdBVEU5UdfP6Vm+Ov6knHAD4QvWYf8o1SHnIcRNTxomdKZ0D9qvJLEA4bAv//97//rv/4LDgJhleAtH5ToK9HxNr0SHaX48aYPuh6k9PFT/fhH+RD97RgTB/xAOCY2+RM9BwdAS5AoFdtsNqLy8BzU/sGyAGB8/fXXJ0+ehKbJfcv9gzXWh82Rb4oSBQ0iI/qwID+pScUBPxBOqu6e0MYSvYbBwcG1a9cGBATMmDFjqsLznpePAhnFaC/Jv6dIyMsfpik8U6dOnTVr1htvvPHmm29OnTr17bffnjFjxpw5c7wkP1WB/DSl9iqlVypXiY5SvLf0lcpViv/f//3f2bNnHz9+HOz84O+EDmt/Yf+IHPAD4T9ir74cbSK7o3Cl6tWrV3Nzc7MUnlwvHwUyitFeklesp2IBCj9kKz8ZGRm5ubllZWWpqakZGRmZmZkZGRkKZBSjlcgrtVcpvVIBSnSU4r2lr1SuUnxRUdG33367adMmGOP/MEaWL8cnO3lr4QfCydv3491yohqj1WrffPNNjUYj39dyK52c+owx4Jb9ma9jJEuSPZPgCyYA5rhcLp+bt0LFSEPcAt5W2y37M1+9pf8c6W/evLl+/Xri2dnndnjPUSV/lp86B/xA+FPvwZe6/nAoqNVq33vvvY6ODg9A6KtmgPolKYio6hAfPcRcnSAQAWySGCoDEi3YBctPN10uF8kit/uWFwqAQX4l6UHRHyhTFAUBiCT1kVsiE8MAQpzI2aS28BN5JfojUAf4lRCHV0KEcIMgHLEfhzSkXMIBcIxOSiHmj6SNvupKJTp3795dvXo11Ie0XSmxP97PgbFwwA+EY+GSP81zcmDigZBUFO5IkTvKIT/Jr0NhWZZABZnr3Ry8EeGDoigy3VMURdCFXCNMnMgQt4cIIaIuREAFwAaKA9tBqBv4xYAioGIQhoKgGuD0jtAE6xSSncAYNFwOZuCTjNRf7hwSIkn15KDolgzIkkhoAlyaQdg73gE/EI43hychfT8QTsJOn7gmTzwQwkU/BNKITAYBuBEa2m+3290YAeIXYAxYuLtcLpIM0IimaWL8DiBkNBrldARBICgFKeFXgpoulwsgx+VykQSgAElRlBzA5GSJDEciXdJDqmexWIhwJhfXGIYhEAgIJ7fpJLWCvEDNbfUAl2MghIi/N0gArSDIyjCMnBqpp88DfiD0OUv9BP1A6B8D48iBiQdCwACYqe12e1tb24ULFwoKCtzmaJ7nSYzT6SSzOcuyBMaAL0ROkmOq3W7PyMgIDQ2tqqoqLS29d+8ewzAEkwBpoO0AYIBAhNFyXUe9Xk/iRwYc0gPx4NEfmmaz2aKiohITE9va2u7evUvuXIXbz+VXHJA1ASmU7BKDYAdgLG8mQojc3IkQqqyszMvLg3IhCzSHyMFy7B/ZBJ/H+IHQ5yz1E/QDoX8MjCMHJh4I3bzuPp309+/f39bWBthA07Tdbpf7foPGC4IA6AXoCKeAdrudHNc5HA6QNcnsX1NTAyaAgiAEBwcfPnyY4AqBPbvdDiABMGOz2WDDFhIQJLZaraIokuNAchMyMY8DnI6Li2tvbycVvnbtWkZGhtVq7enpsVqtpBfBLbX8ZgOn00nONcnmLSldDtgmk4mInrA/zHGcTqczmUwOh4NlWYZh3PZRCWXgPKnG+AX8QDh+vJ20lP1AOGm7fiIaPvFASAQXIgDt27dvcHBQrVZfuXKloKBg+/bt3d3djx49OnLkiM1mg1se29vby8rKIiMjLRbLiRMnwsPDIyMju7u78/Pz4+LiRFFsbm7Oy8uLj48H+UkUxdraWrhKECFkNBo/++yznp6e9vb27OzshISEpqYmmqYHBgaysrJu3LjR0dGxd+9el8uVmZkZGxtLUVRoaGhKSsr+/ftjY2MzMzMPHDhgsVgEQaipqUlKSsrIyOB5/uzZs7m5uQcOHCgoKOjv71+5cuXDhw8JZoNESFGURqPp7u4+fvx4aGhoRkaGVqvNy8uDe31pmi4tLU1LSwsLC9NoNIcPH7bb7QkJCRERETzPNzc3Z2dnh4WFWa3Wu3fvxsfHX7x4MSYmhmVZu91eWFh48eLFhoaGtLS0oqIihNDDhw8LCwvj4uJ4nk9LS0tKSlKr1TCMiEg9AaPKD4QTwOTJVoQfCCdbj09oeyceCEH2AmVIKD0oKEiv1zscji+//LKnp6ehoeHMmTMOh2Pv3r1GozErK8tsNh85cqS+vv769euNjY3Hjh3Lz8+3WCzXrl07f/68Xq83mUxBQUHNzc0XLlxoaWkBDpaVlV25cgXEL1EUP/nkk7q6ut27d7Ms29jYuHXrVpPJdP36dYvFYrfbnU7nsWPHnE5nU1PTnj17EEIHDx6sqKjQ6XRffvklQig8PDwxMVGtVh87dkyv1x89ehRq2NnZ2d/fv3PnzqftOnDggNlsRgiB7BgeHn7lypXKysrY2FhBENauXavVaru6uk6cONHU1BQcHFxUVBQVFaXX651O5969e00m07Fjx+x2e1VV1YULF57u9O7evVulUkVERKhUqvPnz2dmZrpcrsDAQKfTee7cOZPJRFGUzWbLyMiIiIjo6+s7ffp0bW3t1atX8/Pzv/jiC4PB4HA4QGwFNSIiwo7rIPMD4biyd3IS9wPh5Oz3CWr1xAMhKH2Q/T2TyXThwgWNRvNUCfPvf/87nHhdu3aN5/mwsLCLFy82NjZqtdovv/wStDd5nj916lRXVxeckwUGBl64cKG2tnbHjh0MwwBZEDpramoACDmOa2pq2rlzp1qt3rBhA0LIarVu27ZNpVLt3r2bqHEeOnRoYGCgrq7uxo0bPM+fO3euo6PDYDAEBQXxPF9YWBgdHZ2Tk3Pu3DkiXZ04caK1tVUUxaNHj1osllOnThkMBtK0qKio7OxsuIX86Ybtrl27OI7TarXbt28n3uw+//xznufNZvPx48cFQQgMDHS5XAUFBVFRUVqtdteuXRaLBfZIr1y5Ul1d/VT9Z9euXQaD4eDBgwaDAUZJampqZmZmUVHRqVOnyLhJSkpaunQpMAqOOckRKUkzTgE/EI4TYyczWT8QTubeH/e2/yhACId50Da73b5r166mpiaHw7Fz506KoioqKvbt24cQeiodLlmyxGazPb1/de/evVFRUXV1dU6nc8+ePSqVShTFrKyswcHBQ4cO9fb2fvvtt/Hx8RUVFXCUyDBMcXHxoUOHEEJtbW0XL15sbW19ehPCnj176urq1Gp1aGioy+XaunXrvXv3ysvLHQ7H6dOnwXHM/v37BUE4efJkVVVVT0/PkSNHEEIJCQl37twxm83r168vLi5uaGh4Kvlt3769t7fXbrd/9dVXNpvt4MGDDx8+JKqhZ86ciYqKAlx8Kr2B1Pj0EHTbtm33799//Pix1Wo9fvz4vXv3mpubAwMDnyoBHThwoLS0NDY29sSJE09dm+7cuTMmJuYpQ3ieP3PmTElJCULom2++GRwcDA4ODgoKevToUV9fX3p6elhY2ODg4MaNG7Ozs1tbW6uqqlQq1b179zIzMwFHyQVb4z6kEPID4QQwebIV4QfCydbjE9reHwsIQRuFYRiDwQBI0NXVFR8f39HRUVtb++DBA9D7KC4uhnm8vr7+2rVrlZWVOp0uOzu7vr5eFMVHjx5lZ2f39PRQFNXc3BwZGVlVVcVxHE3TPM8/efLk/v37dXV1HR0der0eNFwGBweLi4uLiooAnxobGy9cuFBYWCiKYmdnZ3R0dFtbW25ubk9PT3Z2dkNDQ1dXV2JiYmdnZ1lZWXFxMexbnj9/vqenx263p6SkNDY2trS0pKen6/X6wsLCgoIC2IwdGBgoLy/PyckBNRkgDvLZ4OBgSEhIRUUFVDUiIiI+Pj4wMFAQBLVaHR4e3tPTk5OT43Q6Ozo6rly5UldXZzAYUlNTa2trW1tbk5KSXC7XwMBAWFhYcnKyy+XKycl58OABQqiqqur69etdXV1Go/HBgwfV1dWwF0qUgyZmbPmBcGL4PKlK8QPhpOruiW7sxAMh3FFH2gmvIK/IzdjJ9iNJSUz6iLUc/ARIiRAi1vTQKGJ1QNRzCCn5JXlwywT8RDYPwTiBqF8CnJAqgf0GiJ6wQwvZBUEgFKAtpM6QgLw6pQfMHAEOt2/fTswW4RgV2iUIArQXIuXF2e12onAE9FmWhSJgKUCOYwmL/GeEwCj/358cB/xA+JPrsp9ShSceCInTE7CXgMnabUIHW0NipUCs7GFCJ8AGkz4AEkEpSMOyLElGUJZgCRRNYAkACeDNYrEAT8hNvCQXGDaAKAnqMGBrQfZC4SeO4wAOgSBRIoVCidk7KYXjuCdPnpw8eVKlUsHQIRBLjC6gdQBj0C5oJhDheZ5kQQiBwg6QIuYlcFQ5MUPTLxFODJ8nVSl+IJxU3T3Rjf1RgBAKBVlQFEXYBSU4QbxrEl5AepvNBkhDoPSp3iZBO7mvFhIGwciNDskF1ABCoAiO40gRJBfgJTh/ATlPXigg4qh7j/JkBFaBLE3TxPUoKMuAqAcGhaRoooAKWEuyEAUfwjrCPcBgURSJ3EyAXE52XMN+IBxX9k5O4n4gnJz9PkGtnnggHGnWDdgDNSF7d4BPrPTA5A4TOjgkg3kfstA07XZHBBEHIQF4EwVYIpKTG+BBuQQ8iFhJioCAHIrcPLcBVoEUCD5uwNEM/CVoJM8liiJJL68PlE58nBJsI/jHcRyx7gewJBu8kJjIxyAsEj4Q9o7r8PID4biyd3IS9wPh5Oz3CWo1TJETfPsE2UsEeICzPZj9iRRFAnJGjJzH5XgA24AEcsDFDMEAQoeiKAKH4I2aZAGkgSzEFxpEQhqoAHHzRgw2gLhbnQGNCCbJqwrpyU9EgAOgJfEgjBLsh1/lpUACAD/iYY4YbMjBlWVZQpawYpwCfiAcJ8ZOZrJ+IJzMvT/ubZ94IIQSCT7B7AyTO4SJcANp4DIHMomTlHIKsL9KmOX2SuQ8eTwAGyEL7j3JriwhDjo4BGPgNBEKIkeMAKtyNCUboUT8BZgnh3kgs8pLAZrkSI9s/xKyUFXIIsdU0gQAbAA/yEV8lo48giW8Go+AHwjHg6uTnKYfCCf5ABjH5pM5VKvVTp06lShrKBVJJmVyIiWPcctF5mL5iR2kkU/3HigQgnLtD5Am5VIRSSYPjIUspAdoIXuhcvlPTnAsYSACzCFYCBlJkwnPlQiSK6iIIEgEO8gLTQMOeGgm+QmkWEJWqVxfxQuCEBER8emnnwJBOD0llfFVKX46k40DfiCcbD0+ce0lk/JYgJDMZcQjNpn3lWpM5CF5ApC6YN+SbHUS6UqeEsIgb4FpwTPxj2y6EjqM9MhFKPKTPABiKGkRaaw8zRjDRM4DmuQV6kbgzTM1whnIJeck4CIo78iJjyQIe6QkDQmMTOnbmLCwsA0bNhBn374l7qc2OTngB8LJ2e8T0WqvgJDIJVCzmpqaOXPmBAQEvKfwvP/++1OmTJk2bdrUqVOnTJny3nvvzZgxY+rUqe+///6MGTNmz54NCQICAmbOnDl16lQFMu9Nnz590aJFkH7atGkBAQFvv/32O++8o5R+2rRpM2bMmD59ekBAwPThZ86cOR7Sv/nmm3PmzPnoo4/mzp07bdq0d999Vymxh/gpU6a8//7777777tSpU0mLpk2b9vbbbxMmTJs2bZ70zJ492wOp999//80335w7d+4U6Xn//fenTp36zjvvvPvuu7NmzXr77bcDAgKmTp361ltvTZ8+XYnOzJkzp0+f/sEHH8yZM+d//ud/ZsyYMX/+/OdrmlIRo8ZPmTLlT3/609q1a2GcUNIzEaPZX8Y/NAf8QPgP3b0/auO8AkKoKYhuoijm5eXNnDkzOjo6W+HJzMzMz88HpyfZ2dnp6ek50pOVlZWenp6ZmZmdnZ2WlpaamvrgwQN4HZXS0aNH33333dTU1OTk5Czpyc3NzcnJGTVxdnZ2VlYW/CWUU1NTlRJnZ2fn5+fn5uamp6dv3bp1yZIlcXFxeXl5ubm5HrKM+lNWVlZmZmZGRkZhYWFOTk5KSkpubm5eXl5WVlZOTg7UPDMzMzk5ec+ePbNnzx6VSHZ2Nrh5y8zMhFplZmYWFhbmSg/wDdr+4MGDnJwcz/XcsmXLunXroPkZGRmZmZnp6elK5foqPisra8+ePRs2bCDiu9yj3o863v2F/4Q54AfCn3DnveRV9woIiQ4LnKKlp6cvWLAANu7gHMjtL0CmXK+S53mYHEfqbrjllb+WlJTMmTOHcBIO28AOT56MhKF6JD28kl9HBsh8fefOnS1btsi3Ikcm9hBDjgZBvwYEaGg+GIGQKsXExKxfv16JFDl/hTZCLrJnC4Gnzleh2k6n0wOdkydP7t69mzQQtkaV0vswPiYmBpyby3d0SfP9AT8HnoMDfiB8Dqb5s4yJA14BISAE0cLPz8//4IMP5EdZbkXCMRtM3OR0yg0CKYqCaZpM1m5EEEKpqanz58/neR4Iwl9CcGR64oSM53miJzJqMhIJl9lGRkauXLkSjA7JT88RkLeR1BMiARHv3r27Zs0az5TJISXBJ+gsIEi2qUkPjqTGcVxwcPDBgwfB96nchH9kYh/GiKIYHh6+ZMkSOU3CB3mkP+znwNg54AfCsfPKn9I7DpBpdCzKMgSrIFdeXt7ixYtJpFLBAEXV1dXgbxomRIqixjKVA820tLQVK1ZAerLJ5nliJXZ1z9SRIeIXQigiImL58uVQKKmeUrtGxgNiEbOH/v7+qqoqsLsgfIZcd+7cIUdoI+kASx8+fAi29uTCerLmgIL0en1lZeXI7PKYo0ePbtq0icR4ZhpJ9uKBsLCwdevWAR037dkXJ+6nMDk54AfCydnvE9FqMkGPBQhBIiQTfVZW1uLFi8mW3ajVJR7LLl26lJKSQqScysrKoqIii8UCuTwTycjI+OCDDyDlqHZ+bkVXVFSUlJQQXVOS0S2Z/BVchsbExGzatMnNw7U8mecw8cEGzUxLSztx4gRkIbvK4PX09u3bsHM4KkFBEMxm8549e8gNw4TnAM+AZw8fPjx8+DDpwZGkBEEIDg7evn07ZIdcHtKPpPDcMdeuXdu8eTNZhTxztfTcBfkzTh4O+IFw8vT1RLeUbDP29fVNmzatra1t7DXIzs5euHAhEVNGzdjQ0JCcnIwQSkxMTElJIRO6wWBoamqCLOBX2oMElpGRsWTJEvlk6lmyGRgYaG1thaNBMhcTDB61nvBrZGTkmjVr5MSJAxqgBndWAE1y+AcypUt6yImpIAh1dXVBQUFuxQHxZwIhQujixYv19fVPrySEo1an0wmX60JVWZbt7Ow8fPiwG3231+PHj2/duhUqT1EU2L3AsoNwhqIoIkD39/cDBUgM/QX3QRKXAhzHQafb7XYioNtsNoiEBvoN6t06wv/64hzwA+GL89BPYXQOjCsQsix76dKlU6dOGY3GtLS04ODgMOmhKCotLQ2u2C0oKMjMzJSLPiMr6i0QxsXFPX78mGGY3NzcuLi43t5eudbJSPrE3t8NCAGbHQ6H0+nkeT4uLi4zM/PWrVsGg6G9vT0jIyM9Pb22thYh1NDQUFxcnJCQAK8ajebhw4c3btw4ffq0W3FjAUKAn2PHjsXExBw+fLi4uJjjuPLy8qioqPj4eIRQf39/UVFRRkbG119/7VmYPnbs2L59+0AKrK2tvX37dlpamsPhOHToUEdHR2VlZXd3d3V1dVxcnM1mKysrS0lJUavVjY2N2dnZsIKpr68vLCxMTEzskZ7Q0NCoqKjAwMCqqqr79+9fvnwZrtooLi6Oj4+Hy4qR/2Jet173v/qCA34g9AUX/TRG48C4AiFCKCkpKTo6GiEUFxcXHh7ucrkCAwP7+/sLCwvv3LnT29u7efPmrq4uu90ul8PcauotEKalpcXFxbW3t3/++ecDAwNy1RU3yuR1VIkQgBB+ysrKun//vsVi2blzZ39//759+/r6+p7WfNu2bRaL5dtvv3W5XCqVatu2bQMDA2fPnmUY5vHjx8HBwW5ANUYgdLlcISEhzc3NfX19mzdvNpvNT6Tn6NGjFEUFBQWZTKbBwcFDhw6RJowMOByOy5cv79u3j6Zph8NRVVVVX1+/Y8cOjuMCAwMrKipu3bp1/fr1lpaWurq68PDwnJyc4uLiBw8eXLp0KSEhwWq19vT07Nu3TxTFgoKCQ4cOGY3Gr776imGYiIiIS5cuPb1easeOHUajMTIyMicnp6ysLD4+HuRCv0Q4sjv8MS/IAT8QviAD/dkVOTCuQMgwTHx8fHp6OkIoJiYGrlA/evRod3d3aWnp9evXeZ5PTk7euHFjQ0MD1GTUinoLhGVlZWfOnAEY/uSTT9ra2jzv3ypJhPKL/TQazalTp5qbm7Ozs5/KrwcOHEAIDQ4O/t///V9ZWRlsP1qt1p07d1ZUVHz99dcURXV2dp48edKtRWMBQkhz7tw5EJQPHjzY3Nycl5dXUFBw7Nixzs7O7du3GwyGpxc2Aaq5FSF/PXfu3DfffAMntSkpKbW1tfv27UMIlZaW7t69u7i4+Ntvv83MzHyqZ7tjx47S0lLYfXU4HBs3brx27VpNTc3+/fsRQu3t7Vu3bjUYDIcOHRIE4cGDB8nJyYIgnD17tru7++zZs6mpqeRyK79EKO8Cf9hXHPADoa846afjzoFxBUIQBK9evepyuW7evBkbG/vUqmz//v1tbW0FBQW3bt3q6up69OhRQkJCVFSUe81k794CYUZGxuXLl9VqdVtbW0REBGzxeXDh5gEIiU5pc3NzUFBQbGwsHG1u3bq1tLS0p6fn/PnzT9Ps3bu3rq6us7MzJCSEZdkNGzakp6fn5+cfOXLETTllLEAIWb755puamhqTyRQTE9PR0bF9+/YnT55s2rSJZdlt27aFh4erVKqdO3cCQRm3vg8KgnDp0iUAabVavWfPnidPnqxevdpkMun1+jVr1jgcjpCQkJs3byKE7t27d/To0YaGBo1Gk5eXp9Vq9+3b19/fv3Xr1vb29pKSkqioKKfT+fXXXzMMc/fu3fv37z89ety3b59KpYqPjz969GhNTU1/fz+cqvolwu+7wR/yEQf8QOgjRvrJjODAuAKh0+lkGOb27dutra3l5eVFRUUOhyM5ObmjoyMjIyM5OdloND548KCiosKz+01vgbCkpCQ3N7etrS03N7eiooJogoxo/fcRwIeRZ4SEP1qtNjAw8MqVK7t27SouLqYoKiUlpbq62uFw2O12s9n84MGDp6IhKP50dXWFh4fn5+eXlJR8X4YUGgsQAjCrVKqkpKSKigrQrU1ISABXMlqtVq/X3759u7y8PCUlxXPrTpw4sWfPHk56UiXXPEVFRb29vQihsrIymqa7uro6OjoQQkaj8f79+zdu3HA4HNXV1Xl5eaA5pVKpnmpF1dbWiqJYU1OTkZGh0+kyMjKKiop0Ol1CQkJjY6PL5bp//zhlyqwAACAASURBVH5ERMTg4CC01w+Ebv3uf31xDviB8MV56KcwOgfIRD9OWqNEIxFMC2CPjmxUktM7z/5HvAVC0lQiLRFTPPKTW2BUICTioCAI9+/fz8rKQgiFh4cXFxeTy5jAHAJM5eRXCRIlWDdJdCxA6HK5SM1B4VOuMQsXcchj3NpCXjmOu3Dhwr59++R1YFmWGPaR80uQQeVnotB2MGQURXEkA+VZiEgtiiIoo/qBkPSCP+ArDviB0Fec9NNx58B4AyHQh1mVYIPbK6TxMLN7C4RACoqDuwzdmz3iXQkIiXlAU1PT6dOnExMT1Wo1oUnTtBwPSBOgaLnpBSlwLEDolpjADFkuQEGwniAcJrnkgaCgoB07drgZgJIbFkE9FerJsixBX2gU0CEOfUB1luR1S0wgEHL5gVDeC/6wTzjgB0KfsNFPZBQOkOmsr69vypQpGo2GxIySGiEiNDAM8+jRo5kzZxJztFHT+yQyMzNz4cKFgAcwR3ue/Z+jUCAYGxu7bNkyEMKeg4hSFgKQsAIQBAFwQim9D+NPnz4NQEjqIAc5HxbkRio6OnrFihXQZT7vLLey/K+ThAN+IJwkHf0jNJPAXl9f3/Tp0+FiXuLc0i0ALldIluzs7Hnz5j1Hpd3Iklcg5faKECoqKgoICIBfYTcPZnOS0i2gVCW3ZOSVCEwREREbN26EBsLd7iTNiwSgPqTOCKHIyEjigYzY4BPGvkhZ8rwIoXPnzu3Zs4cwlgTkyXweZhgmLCwMnKmCFEuaptQ1/ng/B57JAT8QPpNF/gQvxAFRFJ+aNLz//vs5OTm9vb1dCk93d/fAwEBzc7NGo9HpdHfu3Jk3b15TU5PGy0eB/A+igWS39Ny+fXv27Nnt7e09PT1tbW1arba9vb2zs/MHGWQvStWRJflBUKPRdHV16XS6EydOrFy5UqVS6XQ6D/R/kFn2olSuVqvt6upSqVRQUG9v74ULFz755BNoHeQCMvKwjPBzBrVa7aFDh77++uuurq7e3l6VStUuPc9JbszZtFptSEjIli1bxOHHLxQi//PCHPAD4Quz0E9AgQPEF6hOp3vjjTfmz58Pt+bOUHjeeuutBdLz7rvvBgQE/PM///NM7x8F2j+IBqqzZs2aPXv2n//857/+9a9vvvlmQEDAkiVL/vrXvwYEBMybN+8HGWQvSjWSJflBcNasWW+99dayZcvefvvtX/ziFwsWLJgyZcrs2bN/kGgML0rlTpkyZebMmXPnzp0zZ86UKVOWLFny5z//+fXXX58lPTNnziS0gQJ5fcHAokWL/uM//uO111776KOP3n777alTpy5evBiuR35Byp6zz5s3789//vPHH38Mg47jOKKVozAM/dF+DjybA34gfDaP/CmegwNOp5Ms1Xt7e2fNmpWamqrVajsUnp6enq6urtbW1paWloGBgbt3786cOVOj0Sgk9zoa5BX429HRQWSysLCw2bNnd3Z2arXahoYG8HDW2trqdQEKGVpbW/v7+8EwfNWqVRqNRqvVqtVqheReR/f09KjV6qampu7u7t7eXq1WCxJhp/R4TW7MGXp7e/fu3btp0yaVSmUwGNra2jo7O7u7u5UIyPkvDyulV4rv6ek5c+bMV199Rc4jBUEgqsLPMVD9WfwcQAj5gdA/DMaRA7Bg7+rqmjdvXl1dHVFwEEY8ZF0P/qZzcnIWLVpksViGN8Be9H+3AsnBUm5u7rx58yiKggpQFEWO8dyywKtSPUZNTJYCdrs9IiLi888/d7lcEOktHaX00HlA0+VyORyO27dvw+1IkIVUzO2VxD9fuyiK+u67744ePQoKnxRFgb6rG1mfv3Icd/v27S1btoAjcgKH4ziI/aQnAQf8QDgJOvnHaCJRx0cIgbLMWG6fIMiRn58/d+5cuVHEODUiNzdXfkM96F76cHolpO7du7d+/XpoBVGzfPFGgQ0lKQUuPoQbgF+cuGcKQUFB27ZtI0sKz4l9+Ou9e/fkNw/DzcA+pO8nNQk54AfCSdjpE9RkQRBgloT7CDs7O+GihlGFG6gTIJ/T6czMzPz444/lxtq+qrS8dIRQbGzsqlWrKIoSBAGsNQBU5MnkYaVqyNPIw+SCobCwsFWrVgEEegAPeV55WKlciIeUYK4XEREhv5jXjYj8VR5Woi9PIw8jhM6cObNr1y5itgHivjyNPOwtfXleeZhl2YiIiM8++4woxEJAib4/3s+BsXDAD4Rj4ZI/zfNwgIh3Wq02ICCASISwPSiKIqACAA9AIMg3giAUFhYuWLCAZVletCMRiTxCyIGQmcY7cCKe+3gkCngSluwPaagfw1AIsbxAiyLiOZJAYBmERCQgPS4Lk2I5jpFocinJDxYv+gQhAaFeq1nA2TkKJxaRiDMN/WNYXKogIqittI/KIuTiBacg4NwuyowQBwUhRHOCjXJxSEA8b8E/iyjs7s216z5DiEVIYBmKZXE9XC4HQhzHUzzPYjoirjMvWkVkg4J5wemkdQi5aMElNRuJPKaGOYAEDjkFwYoEZDZzPHJwyCIidDM0eu3qNVIaqyBKnOHAzZkZ5xEElnNJAdKnLpaz45ojRLNmhFjaiSQucZxgxvXheYRoJCBB4rmIGIQ4hkEh353dsWsLx2BOiYiVKiCIIk/TLgBFhuFwQfxQXTG7ROtwb7KcgMvikFMUEc1YBQbxghmXgihacLGcEQnIahV45GCRGTeaRwKHmeY3qCc95w/4igN+IPQVJ/103DmgBIQkXW9vb3d3t8ViSUpKGhwcJBfEI4SysrJmz54tUWAdNjw78qKd5oa8TSLE4ekVIYq28QKFkGC3UUCW4/HrcBGchE9DyCFgKEV2GysIHKRhOVduTuG8DxY7nRRCg4hHgsgIIgPKFxRF2WwSjCHB6Ry6ywmcoYgiz3IuhnVISCNQFIOQy+lgkIgoyonlS4xAHIthiMZ4L6KIiLvLPv3Q4bTgxKSCOMQhxIkSQGIZGv/kQMjB0IhyIppxIES7XDSPWIpxSTKrQFNOfIsvz/A4l4t2Yfh0clYe2TkehYfFrVu7WuIPTbl43FIeUeyAJLph0KZouwTkOCyZb35fG6gMEpHdRgkigxB4hMHrA1wxCaddlI3jXYKAzp47vmPXFgBsJ2VzsnZaQCJeX2DK5NB3KCDiHkRIwmAOSV1AO50Ui1wsj1czEnLTNquLZp085omLoZAoIhdv45GdZvAYEHHH+YFweHT7//cdB/xA6Dte+in9kAOjAiFMi7DnmZ6ertFojhw5curUqdLSUpKepumsrKyFCxeC+CWwIKAIEkJwlItjWJuIEMO5RESLiOMFxEoTqYtisOiGJQyR5RkRuZy01WKzDiXGSbGIIiJksdppziEiLikpYeGCj6RZ2O6yQgM4XqAlBOLgL8dTWIpCHEXbRYSsNgdIiiCbSQXRInJxUh1E5BIl5HXQgxyLCdI0/i8q6v7mzZswSIiIwSITFs4oyimRtWGkkWRZlhME5OSRSxQREOR4kWWQxWkVJcgEnkgSIaIxLrAuB3LYEcWxPCaCbt8K37hhjYgQrh6GYNpux0CLmcA7peYLIqKtDiMn0CJCdrtAUcjutHC8KAg4l5M2isjFcgKuA4dFRY5FLEvjmjO4SI6nRBGdPnN067ZNQ5KiJPjhYljcWBY/tNREDqReibMOjncgAQHC4RhJPmcFh7Q3AFiI64nLQCztQpQL0f9/e98VHNdxpvvqR5ddLpclkVeudXiwX/3mfXDZW95y2ZIo0UG2rgIpSrItW5ZsK1GixCwmMGciEARAgABIACSRBjkNciDCIMwAmJwx8eQ+/d/9u8FZLAFyDXLu1prVp1jDmTN9+pz+Dqa/86eviWGAxq1h/o2wCBmY4iWbCAgizCaaoq+VCGSIbaVrdGV4bHJycseOHbt3745GoxUVFSvXOujo6HjhhRcSiYTXE9yzo8DvUWQJeQhNBzRgZFlVKBpSOHtTCpIE7e0DqbSmqjA86JqxRXCKl6MUU3Vimg6LLmd/jz8RB0K1JstAwC/hpG2YtXXVv9z8ommAyz1/9OBNu92XkpAgAQxZSqD9hN5L09BVdJmCEY3Qzs4hCuB0RjvbbQsOpEZJC1OAsSHkkum5UWtHKBkHCummxpFI2GCOTMjPK3rppZfT6eT8fOjA3muJuHRXXNtEvyiaX9w0hLSCHs5gQLc0DOOboDTYFwiGVVnXNEOlJtgmF2XFSCvgcunoKjWgq3PcG0hoiATk5V3a9vqrsipNTjoO7L4Zjfspc0HKCqGgpyR8hqCQomCwkZrhIHS0TVIw4wm5s80RDvJvE9SEqfE4AETCKUQCjGRCa2nuiATxaUJRzQMHd3264328HRRUXZl1eHbtLgyHYopscO5n2qHI9BR90Sb6V8EM+dW25lFdo6kEsXYsOl1pwthT1dID1kUCciIFoTDzAJtg7ZnyBZN8XMzWRJYVRLjyVybeZwUBQYRZgVF0sgYCaxIhIzE5kzMyPDwci8Wmp6ddLhf/ih9lsVh+8YtfoPC0CedOtIyNupbNLDmhSDjxUgBZMXQDvWeaCu1td2prOyhAT/dk7rm2g/vKdR1JMuDXiq80hMNSZ+fA+RM9Z0/eogCuRbWspDuZ1CmF2robm1/4DbPT4NjBxtkZJC6MarHgViqJZhD3ChIDdJ1UVYx0dkxQCm2tYw237J99fCWNQUzV45bKi8dkhTS1WM7kWPPPd1OAqYlgcVFnKoWe2Iqymrfe+CP3Me7deXNhwU+RitECUzUkMCRUGaObFEBRoKykfWTIRQG6Osdyz7Xt3l1MAJIpZdYWqbneTSk0WkZ2fl4BJjUJDA85KirbkeiIcaUob+uWV7nhe3Bnm2NhHuOdJlrDPPCpqaCZ+HDAz3U5t21uJhZPSK2t1quXR77Ydd2gEgV1ejJdUTqk6aSmunPvZ5VL8TA1oatruOH2rIpRVDiSs++DD99TJaLj9RuEwrGjDTMzbj4uHlLl44rFk/xcyaReWd45OeEjJrS1DRZf7tm3ryKWkokBfl/k9o1JWZU6Ouw7Pi02NGISGBmer6jsIIxoAVRqonkqiHCNH5vY9WgICCJ8NPzE0fdH4H5EyPcbhtHf3//pp5+apun3+4eGhnj6HzcZb9++/eyzz3IH4IFdt+1z0XQSXM5UW3tn0AOqZmg69A3MDo84Z+fidrt8/HiZqoPGXG1SEk4f74zFQVJhaDDc3rZAAAiFO8NwOW/AQOKB3TtLAwEkvNrbVb/65W9TCdAM/dSRtvFxJEL7wlJn50gkrFHmx+uz2nu6bRPjznQaTh5rVVRQDKJoIKfgwpk+SQLZUNpaF6zdEYKhLdrXRetu+jQDJAWOHmlyeqKUkvLSm69veVNWo4TC7s8bQiE54JcCfsXaM+VyJhQZEnE6Nubo6JidX0h4veaxozeICbKuqQbEopCfO5JAxoV+q6urfV5RYM6eOHygg+ePKDIcPIAjQosw//wbr7+pmTSaXDp1ZCwYVmIJGJ8IDAyPRyI45HgMBseGrNYFt9ucmnWcOt5EMIyIBmnAAydzegmAZkJl+Z35eXRUBnx0/2cWfPgg4PEs5exvlPFZBInw4+3vUwz4oa9VJ3D0SIvLmYpGaCioNTcNBgOqlIZQUJkYd/b3zjsX47EoHNxfwh4dIBqVqA5nTw1gSo0JzZaxzlYkfq/P2LG9SpUNaqJr9MAXVwNBfCzB+CLzBggivP9vTnzzkAgIInxI4MRh/y0CaxKhqrLkEXZwX1/fyMiIy+Xyer07duwIh8OZPpuaml544YVUKqUT48zRbvtceHwknn+pQVFg18c3l5b0WzfHrT3eyoqBUydvLzhg/75iQkHSSFxaKikaeOePeYqK5FeQ1+nxAAHd609/vqM490IfoaAY9NKF9t7uuEb1muqK3/32FWYRGhfP9k3ZUt09rtIyaygEO3de9PsgP69tckIuv9Z39mz11NTSof2NBD2nqaVk4syphk8+LE8kMMmmpGjA5yca1Z2e8J6dVSdy2hm76OfOjo2NL2q6VFpctW3rW7qJZLnz86ZohHZ12MrL2v0eOPRFsSpBRVnX2HDwyuWe/Lzm8Tvp0yfrcUQGOjwPH7q253OL25smAPmX6lJx5C1fQDmwt80kOvoeKZw60TA4gB7aCxdP/v6NPyH3Q+LgbqvfDx3tiw0NY7MO1/5d9Utxknuhb3zKUXJluCC3t8s6WnLljqpjh6G4b/+eGwf3dBCAlASV5eO+YFJSE9Ew7PzQotMoN8qP7Gucd0RNoIeP7N++/SOkRDBMSGkGHM/pdC4o1m5H3a2RWVvyyMFiTYaiyy0zU6mTR2+Vl1oX7XD+VBPjUT0WT+YcLN+3s31+Acd1/drAvD2hEYjE1KOHu1VZwyxdE04erx/oD6J3l2DGqbAIM78R8SaLCAgizCKYoqv/gsCaRMhbUEp1XZ+dnd2zZ8/p06e3bdtWU1PDv+JH1dXVPf/886qqaoZ6+kjP5ITn1LHb/T3BVBJyT9lu1Vgvnm8fHZZ7e6LFhUOhABw6eE1WcTbXIZxMwOXckStF9SkJaqom02mQzXBaAZ8Ptn9YPD0bTOvxqyW9rZaoDunGhtu/+PkmTKEB7cjBhukZ5fjxm93WJVWDM2fqq6ttFy902aagrs5RWzs9OZW+dK5fQdoIpfWILMPpE+3XrnURMK4WD8lYkaHGkppzEfbsrJqeiWoQOn92urvXBqCXFle9vmUbQFQ1Yc+u9qDfPHTg8mCfj+pwaH9FR4v76KEqrxMa61yWhsUZG5w83sAZVyGyosC+Xa0DI7O+sP9GZSdFw9eYnffnHOpiEThF0+ByvnWgb8nEOo3cbVv+SAAU8B79YsBhp/v2lE9ORgnAru3tre2j504OuTypksszAz1kcHj2cu4INweTujcRh5wvejq6RuNJKC8bZtk3aftcNGdvL4WQqoJh6mePdc7MeCnAseOHPvjg74qko9MSEoQiEc5MpXZsv7DoIFSH3Z8Vdrd7Th69FfbDtaKJ8WFloDuRd66LmqCbSVmVDBUO7Onq6JrzReYrSjHySgDcQe++3Y1EN4mpaioU5Pb29YY0zDuSWcWLcI3+l1+Z+JAVBAQRZgVG0cnaCGQK6n/0ox/Nz89zklupDOn1eoeGhux2O0+GzCxA2NDQ8Oyzz0qSZJjw+Y5Kp1s/f7ansGBEJ3DhnLWrx9HdGzx7tq+vP5iSIRSCM2cr4mmFmLCUQPOkrn6is8tlm5araqyaCYoBahrL7oqKqgI+g+pw+nitfS5qmPrtm7VYR8hcoGfP1DrskHPYUlXlMohy7ri1b3CytWO84OL82J04AfAH1WOHqymBeFyVFU3XoaFucHw0NjKw1Fg/RAkkEyCl0dFXUnzT58PA2OmcDq8nLamJsvJrL738fw2qUBP27qhJJmD/Z40WyzgBOLDvpt1Bqm61ll7xDo9EFQPCUThyuIJZdRCNYNCtusY6PZ3s7Zuvb2o1IKlDOhA09u66oegxjMMROHLociiUNoHm5ue9tuUNAyAtw4ED5QE/HPiiqrnJoyqwd3eNw6HUNfQWXR6cGkHWGZ7ovXC2C4lQh6UompdVlb2ztmRP12x/3xyrwfD5PXB4b71pggFSSoajR6u9Ac0wjJMnT7/77rusUgKLIqgBJ49ULy6qO3dUdnY4DQr795fZHUZphbWkeGFsLKoRiC7B8eOVqoHGejqNF1BfOzzYF7gzEqm3dBFQk0o8loS9e66rRpwQ7PPE0eset4TBYJbyIyzCtX9pYu+jISCI8NHwE0c/EIE1iTAjnDY6OmqxWDo7O69du1ZVVZWpryeEtLa2bt68Wdf1QEg+e6a2wWJNJuDUyZvWvsmy0l7DhFu33e+8c3r//spbt6YME86eq5hfSCXTUFBYXXOz+864n5iYTjIzF5I1sM06z5y83tE+5vFEqAk+N5w5WaPg7G3U193+6U9/ChRCIfnznaetfS6vD06evH1ndO5ybguhcPPmzN/eK9q5K6+ivN+gcPFso20ySilcuFjQ2NhzZ9RLDfRqOheXqAkT487iopqe7vGpKRel4PenLp5pTaVMCnppWfmWrds0IoXD0sG91wf65p3zWlFxY1PzSF39oKpCaWn/O3/K++LA1ZqaCUmCy4V1bo8WT8DFi1c72kemxpeUFNTfmoyGgaf51N2c3rej0eX2mwTsM+m8S7dYvSJczL3w+z/+QdaNWXvg4MHCqanknTuRq1fbm5tn2tsWNAPOnGp6/28X9++utVrdBOD8uUavF+Jx/fSpQmvP9Ox0lOhQUnw7EEhjhgul1tb4x3+p8LpVXQfnAhQXDikqxgVzco699957LG5nEEK9rtShfUVtbdMzszE8XetUbUNvSoKCfOtf/1Z46GBZk2VOUSA3r2phMS0rcPlKTXWNdXwkBBrUXB93zmPKDaHQ0e7+9MMazPEh4JiVLp67yXNzFI1n8wqL8IE/OfHlQyEgiPChYBMH/WMIrCbCTI1EIpGoqak5ceLEtWvXcnNz29ra+Ort3DSsr6//yU9+omOBA1la0mOJONaMpwGLAlleZd2t4OCwP7YEf3zrdCCkeLxKyRXMGtU0cDrDGpa2w5zdyfMkVc1MxCGZJAbBsrm2lvGBvnksNzTSzU11v/3dr3Qd01NlxQhGMMUzIUHQS0xWd3jt6vzkVNI+L+36tE5SZPeiWX2jS9MgHJY0FXCONiEYTC0tYeUfpeDzLUkSvlFVqK623Bn1UVRskfLyL7/1+z+iU5BCOIiVfxRkjzvFDCPUrakqdy4s0vkF87PtlbEYkndFeT8lkJa0WATLDokB01NuFifDChJdgVgQM2ZjUWhtso2NeNGEAsi/fOm1rS9TdqJIRE4ksKgiHEmk00RVIa0a1eXh2BLYbKk/bLtITBgaXrxds2BSSKWMSERG7R0CoVBS1bDwwyR6egmoDmw5EaPsauvwoJNi3gocOXL0vff+hk1MBWsbKAS8KhuX6XQnJQkNPkWH4it3wmEYGowc3FdPTJixO4uL2xUVJNWMx1B0gGgwbw8lYlgagamzaVgKgyQbqgIdbVOYOot33NBIgjJJBJEs84/9+ESrdSAgiHAdYImm60VgNRHyHtJpFHnhlddclTs3N5dX2XPplpaWlk2bNmmaxkXC7haiYV4GrmihpXZ+VtLSMmWbkhobpjkD2efCcZ5YicUPvCzbkOQEV/zi1pJholKazxfHNEScXtXq6hvPPPNzRVmuNDeBpNQ0YWosWDUYlXIONbZ3jfcPzvW0a6ouSWkk2rSE6ZRIPBQUTSWsnIOTLvfgYRqlyukE6/cNU798pfDN37+lGapmsJpx9PWh01NKAYGUP5T46P3itvap4WFfR/uiYYJmEq83YZqQSPLY2BKKyLACfF2PG2SJl+Vh9YgGszNYjIEcZsLVspLXtr6MjVFyBrmFKc9hkaKu68mUtOeTekvjoG3KM9ovq1geAq4F3SCUqQ3gx3gCiyPZY4CKsmeYq6mruhdADfjSKKdGvQDm4cM5H374MSfCZS03DLXiMwDyGRKh6fRE3/3LscGBUG+3y9rp0zCDyQyHJYMwXQIk9JgsR7hZqeoxw4wxASDkYEJgdtbHn3sYaIZBUT9IECH/7YjXLCIgiDCLYIqu7kVgTSLkhGeaZl5e3vbt23fu3PnOO+9YLJZM7FDTtObm5l//+teML01dk1iWhJliZeqGjmn0sQRtaZlaWMA8SVnGaRuzCgESMSxlZ1XwhklQ54zZUhpXKEWdTx2LuxVFYwSptzR3PPvsJn7dsiotF+mDKqWTzEBRozHa0jZiX/BgnQAaOWicIbWZmKuJJe5aCiCl6goFk71y9kGi1Q0wyHLSf2FhwUsv/ZZZvbokx9mhWDjPBV8IYPyss2vG6Y4TptJiAlWMiGqg6KhpGqkEarKAiYYgHgOmpqapqYajAZR/QY0Y00BRHcjNK9jy+lZqMopDmw6fHjIaqpoO4QAMDo0tLoaY3YyV9RpJmUCTaXxll4TGMJOh0bk4qqyg9o0mA1OOW0YgJyfng/e3L4vCgJpKxzQ0IpOsmp49CbD6SH8o1tfn9XpQKxXFWlErLcnEa1BWFJNeTVBQtIAhi8ICqqolorElHDf6SrkeEA6asDaCCPmfq3jNIgKCCLMIpujqXgTWJEJeLwgADocjGAwqbEskkMa4ABultL6+/rnnnkskEjqqa+GcrigSyn0hB6gGysug+iWTHGWqXSi3HeUMYRiMolSTHYvWoarKuq4ahnZXAJNRCqCkS11t07PPvKCpyymuTA+M63+mWE1FNJbGyj8mHI0EoOsqYz5ZVhKZ3oipEGpgCT41DBMNPv6PqWjKSAwUiorzf/u7X7IrROUAlIvDhJEkt59SUtoEohuomqaaQVSQwU5iXJxTUlApFFW52SbLKtPq5OmarIaPxhU9we3di5cKXnntVS6NRk1UDUVlHCbBiqrZzLGMEjMYuVSTipPtiaBAD6B1qxOD90OomUynUK7OkO8+ATApcwOvjIJ2/Pjx9//+sapwcVGs4mBXF8fMI13igt3YoZk0DUilNQrsCvHYGAGUqVOID/mPuZQ1TSOEsIHrqDCHu00TFC4AZDKKZvJtwiJc/jMQ/2URAUGEWQRTdHUvAquJkBCSTCbz8/MvXrxYUlJSVlZ24cKFc+fO3bhxI7MAha7rbW1tL774oqIoqO0CMjMX0DoxNIgn/WwiRu+ZpuFEiUsd4YoHhpRKU9CReEysdkf6MkFTl4WtM7KfobDPpBqudEGgtrb++ec38+tGfUwVZcDi8SUgKZRUgxgFVUH+NVJpPAVT+k4xtyTSm6ZAMk6JjpSMCyRQkxGhySZ0k5WBq7KE+qI3qku2vfmSpoKugW6gVhxqtyGvc+I0KKCSNfejcmdvbElWFS7DbRhUSslhzYxxYqAUQ56ahjFCTQedIA6cfa+WXnv9zVdZMqfOpckRGa6jig5bHKBO8o8cnwAAE4xJREFUltAUw82MBvAVNVRTXH0NryGZYkxMmdQny2FB8xcFVxNpOQhgSvLS8eNHP/7oM07tKDCgS9wjraP2NvbJLVF+YWjCaoqqgKFCMs5yQNHCkzRNoyglKvNmaBnHUKSGYFTSlNQEBeyOi+/oRCjL8LsmXrOMgCDCLAMquluJwGoipJSGw+GLFy82NTV1dXW1tLR0dXVZLJbm5mZuKfJkmaampp/97Ge4wB4qeYZYYksS7QO0J1LoIsN5OYrnQsXtONZe4ySJ/khZMaw90w21Yzcq+rhuNdPF1rFnnKDRVUhMZgNSqG+49ctfbdJ0yTQNwvx0OhqXbConQGjcBKqjhw7dfBQ0XCkBN12SMN2ls22yuX7KUju1LJDGqI2ZMjqhmm7KGDxj9ueV4nOvbvnl8toMsLzoEl/8iFBNIynOBJgbScA2Fagot9RV29JxtgoSs8gIQCSWPn22iBhQfX1u945bxw51HtxbGQnhsHRi8Oye3PxLr7/1W+bYxP3oOtaSmDsDGAUEUFmNChanGyqMDTtbar1VFVZm/IGsoAEuKyQQSF66VEpNqKwc3/HJ9eNH+g/srYstcXE7bh/KJ04c+/Of/sqFxfmCHni70WxV0Y2Ma2zETEiyBjLKbROYGPPU3+6vr54L+ZicNy4ogUbqxIS9oPAGMeDS+d6cQ127P2s8mVPLtPQwoYkicxvsDYaWhWuU/wmK1ywiIIgwi2CKru5FYDUR8hbJZJITntPpDAQCU1NTFosFeeyu+6+2tpaXT9zb493PfCEFvv4DDyPxXA8TNLcLThyeMsBXcrWnt5tqsLRMf3ePXfl/XV3d5s2beeUG38+vma3uhDbosqViAqbb8BQbVJZRCPimp8yL54ZUSvLz+od6UbGNWWDIexhqww1pgQ+qpKRky5YtvHP2BXI82ozIrxhNVFSMh1EwZBI/c7J3KWm2d4+WlSxolLtJwaBKSd7MJ+8XotBa/4TbE1iYj18vb0PiRjtxef2joqKibdveZBLVBls7kDktmY0F7EmA1eQZBALRJTiTM6NDuOF2oKJonFvejMVp5bW+D9+9TSA9PDw9P+9zzMVvV9/BE0EUxcxTOLYjR468//77fJwZdzdf0QIDgWxcBgFVQ3OTOULVs6eG+Liulc5qKPyt67hIIVw63/Xp31uwrnHUPu8MzNjdt6q7cJEKhB3TfJgoOfBAryDCDObiTbYQEESYLSRFP2sgsJoIOf/x/devX9+3b99HH320ffv2q1evShI6yngvTU1Nzz//PA8crtEvTqymqpnDw9P1ddYmy1B727DdjlLOBpUG+oP5ZxdVCNXVOQpzbQQwGna/7X5EyDgMaYxSSCSViYnFttaRtpbxXuukbTKkoiJ0tKvDf/2aXQOjvHysrmbUUNl8jyzIc2oeRIRo5RgwO+vpaB9rax1rbxsdG5tLJnXNkN3eRM7+AYXAtGPx2EFU/tRp3CBgm3Z0NSdO57SnUgYuO2VCd+f06LAd2RbpixMwKSwsen3rW3fHa1JKpbQ2N+Pp7phsaxof6LcP9M/KikEh4XIrF07aDAj2WWPnj/ejiBob7/CI09rr2L+z2WA1FdSElqaJqXG0BwHB5J7qtYmQ35fpaVdry3BL80hb68idO3as3DDS3kDi+MEh1cRxnTg8iIqmJKGbMDDg7uoIXjg1mlLTiRRmxDQ23pme8vAFnpiZbrBlsJbHJIjw7s0V/2cNAUGEWYNSdLQagdVEiGG3WIxbYP+hrD0yMtLf3z86OlpaWsoPJ4QoitLc3Pziiy9mqixW94z59BR8XsU5bwR9MG9P+rwplGAx0x2ts/nn7AborS2hvAtDLN2DLdS+uheA+xMh2ljo1mNlCS5nasYW9XvANhkN+ZEdFTNxs2aiMB8n9Nra6cqyDoz54WawpfjwHZvE17YIeU5NIg7Oec29CPbZpHORFXUAWbBr+3b0GQALXveH79XgGvEQjcTkquruWRvs3lEryRj9jC1BaZklncJ4G3u8WM5lvXz5yutb36JsQXm0UFni6FKYOB2yd5E6puWZSX4ifdoW3LfTQiBqm1IvnBg2IKIYNBSCivIh+0J8/54GmWWexpeg8lqfhKNDz/PdFKG1iZAlDeG1zc/Jiw5in026XaiwY0LKuZA+sKvHAFj0+T7+awMl+NTictEb14dnpvXdn1UTQKM4HIbysjFNRYuSm4MABq+B4fgKIuQ4iNcsIiCIMItgiq7uRWA1EWa4TVXVcDjc3t7ucrn+/Oc/WywWlu1JTba1trb+6le/yjS+t19mAmk6DA0sNtZNtbc4WpvHJycXmOGnT074jh+ySrpZdnWqqz1imDrLmVzdB+55ABEuH4BWkTk85GisH+pom25tvuNypnD5eC09MZ48f6bdoFB1faqj9Q5bwna50pEfy1M313SNaiSl6WTa5m9utLU1OTpaZ0dHHLKMw4+E4IvdlpQCw3fmSq/MULZe37ht8UpRW0XlwF/+VNQ/6FYpbaj3tLSP8hNlKgUpJVeuFG/d8ubyxaNJi1X/MzZve8t4q2Wip2NubCigKaDpNB6DQ3vqVVPu740WXBrWKK5Y2NvnqKwcKa/semPrudGxqG7Atas91k4Pc+TiaogmLufEC+rXco1SSTfMaZu/qWGqrcnR2TY3fmdR18GkWjRCDu5rYONylBXNU4J5TH09zqrK/uLLXX/705VZ+5yuQkVZ71AfKgjcTXZF1+5yEiy7wYII//PmindZQkAQYZaAFN2shcBqIuStlpaWeGrozMxMPB5nFQ5otGV0Z/h6hBkxttV986qDUEj2uJRQwFxciIbCUZZBasRi2pWCIduss6iwPxgEBReIX06RXN3P/YgQF2HHo7AM0SA0FEouLkZ83tTCvE9DoU10RqYSUJDXMzjsuHiu2+9liyShm9LgzIdZqSam1qxJhBTrB4xkUnc75aDf9LhTHk9EZckzFMyya60dnbbr13tHhuPDQ47r1zpRd9SEsTv+t39/LpUGp9d34mhjHNM80RNLTKyY5KcrLr762mtbDSIbRGH7cdDxmOJajHrdCbcrFA5irI+FFeHq5SGrdaT0yqBzQRkZsRUU1BPAZaqmbKm//KlQUiEUjuXn3l6KMLcorgjInkGYwsuaMUI+rlTKYPeF+rySz7eEZSQsZFhW1t7eYauo6BoZjg4Pz1aUtWAKkgl9Pd4P3ilXFCztP3XiqqYicWJmL7sF7BXd1Gx1X5Ess/qvWOx5VAQEET4qguL4ByCwmggzjjUAGB8fr66utlqts7OzsVgs04+u6xaLZdOmTTygmNm/8k1KjhKqyYrBK8w0nTJn43I9oGtBt83NT02hU45N4esmQsadOgVNNyTDVHlp3d1Qo8w0WzBL0+Okc7MBt5OnxWD9HFsUCWf9u+7KtYnQoJgqomqGJJmELZnLKvlQ/AUg5Qt4p2eiCwu4IKLfG7fbFJaVajgXl0YGwwsLflUzbRMJpEGs619Ok+GMW1hY+Nprr/ECD7x4VkHI9Ho4FIaumujZNbD4JB6FqUm3ewFUxfS64x6XjgsqaTA9E7V2R3yhaCSanJvzs7oO5HgszUQUkODXJEKsGgRNQQ0evBysoMcKRYMl2ug+f3hyKmy3o4qp3x+cm45SrMRQHfalwW4tGEykEhg3ZbIGy08hlBJmDv5n2pGwCFf+EMT7rCAgiDArMIpO1kZgNRFyQVHeOpFIxOPx/Pz8TZs2WSyWeDzO92ua1t7evnnz5ge7RjnH8VdevYdeUMz/x/AhKqXhpM1lxtZNhDyKyfjNYPOyaZiEl20QmmJeUAOtUgpcB5VbTJqeXrYI/zO+tTYR8hXkVw6BAlYfcn8gHn23il9KYyECACQlzB8hrHyRW2YrHYaZG5Cbm7tt2zYWp+S6AcvfGIbG2uvYA02yPrGIIpVmNSFMmQbzUyDBaB4TX7FoAcOEhm5iDQMhlBCdy4rejwi5Fswa48InA50J1iyrE0gSrnOPC3JheaKZXEKPgL6ccLRcpML/WjjBZ9KXBBFm7rV4ky0EBBFmC0nRzxoIrCZCbuTxqa2goOCVV16pqKjwer2cePi3hBCLxfLMM888wCLEZW9x0mW1c+hDw8xQHR2ZqNsSTyYw8wJAowGcW5dFT9a4wvu5RpHYWE0CYTn7XN8LbSHsXzdZ0Es2vCYWgycwnQXndMIkN5lrFI/lNs19iJAJsLGTmFy6hRWBsIJApDrQqKqaMlZqILUG2PjcKBSQVgBQn1Rlsmdoehosbnc3U/X8+fN/+AMmy+AlmaAqKBVzd+SMGk0ghBNhKJ4IAhhIwAaYNM7sYJlVZEZUHZV6WJ5LUgdcGldVTGZoqjwauqZFSJlEKasPJIqW5rkzzJJOoa4NqslIMpYG4uUZRow9QOgUUBjPhAV0894lQa4qcLcQBRi143eCCO/eTfF/1hAQRJg1KEVHqxHgjtD/SIr50Y9+ZLPZeAMUE0HZM9XtdgcCgbvP+xCNsgJ51qilpeWZZ57h6TM0GxsrhLi3IwBobm5+5pln+IVxvW8uBX5v04f9zCJbOH0XFxe//PLLmY8P29+9x2WuNhOMzM/P37Zt273tsv2ZEHLkyJEPPviA377MTcz2ee7tzzCMS5cuvf766/i8gyKzaFM+4IFp9d+k2CMQWI2AIMLVmIg9WUDgrmsRu3K73f/+7/8+NzfH+81MmpIkZUKGmZ18dmttbf35z3/+gGSZLFwi6+LWrVubN2/m9YuZa8hW57wfJvNtVFZWbt26lWXQYG1fdk/Be1NVlVKal5e3bdu2/x/9r+yTEHLu3LlPPvmE3yPCtpU3fWXj7L4vLS196y0slERjndL/mZNmdwiit/9tCAgi/N92Rx6f6zFNkz+qezyeH//4x9PT03xsmap5PpFlooZ8MuXP+LW1tc8//7wsy3zn6ldeZbHe15X98GNramp+97vfZUDnE6uiKOvt+X7tec+6rhcXF7/44ov84/0aP8R+XdcVRVlpEpWUlLz66qsrR7ry/UOcYs1DACAnJ+ftt9/O8BB/s2bjLO7Udb2goOCll17iD0wZOszcQfFGIPAQCAgifAjQxCH/EAKUUs55fr//X//1XxcWFvhhGcNrpWHEuYc3kCSpo6Pj1VdfzVRT/EPne6hGtbW1zz77LK/iz3gXH6qn+x6ks626uvqNN94wDCND//c94KG+oJQqiiJJUmFh4RtvvPFQfazjIF3XT5069fnnn5umycRL8diVN3Qdfa2nqWma5eXlb7/9Nj8I1WjZtp4+RFuBwL0ICCK8FxHxOSsIZOZE0zSDweAPf/jDxcVFPm3xUJxp8qUBjZUTmWma3LCwWCz/9m//lpnm7o0Urf/z/WKETU1Nzz33XCZ0h8v+3uWq9Z9kjSMytlp+fv4rr7zCsTVN9I5ma8tcMB9jWVkZFzXNVv9r9gMAu3fv/vvf/575a+F3fM3GWdwJAJcuXXrppZd4cDRzdvFGIPAoCAgifBT0xLH3RYD7GDmrRSKRn/zkJ62trYFAwOVyeb1eH9s8Ho+LbW63OxQK2e32ubk5l8sVDAZLSko2bdo0Nzfnuc/mXueW6YYfl/lYUFDw3HPPORwOu90eDAbdbrfL5Vpn3w9qbrfbfT5fOBw+fPjwli1bPB6P0+l0OBwPOmY93wWDQZfLtbCwsLi4GAwGHQ7HmTNnfvOb32QGeM+b9fT9oLbRaPSjjz5699133W631+t1Op1zc3NOp/NBx2Tju0gkcvjwYW7yZqg342O475+j+EIg8EAEBBE+EB7x5SMgkDGG7Hb7D37wg29+85sbN2588sknN97dnn76ab5nw4YNX//61zds2PD973//6aeffuKJJ775zW9+5Stfefrpp5/K9vYk2zK9fv/73//Sl770ve9976mnnnryySe/8Y1vPPHEE1k873e+852vf/3r3/72tzdu3PjlL3/5W9/61le+8pXvfve7mQt4xDdf+9rXNm7c+J3vfGfDhg1PPPHE/2Hbxo0bH7Hb//bwDRs2fOMb33jqqae+/e1vf/WrX/0Xtm3YsOG/PfARGzzxxBPf/e5333777UyM8H8go+oRfgTi0H8OBAQR/nPcp3/SqySEZAJIuq5nntwzeTT3jCszqWUyL+5p8OgfuZsu0w+v2V8Zoczwd6bNo7zhp1vZZ6ZI41G6XX3sytBjxi+9ulm29vARZcLAuF6xwpTbsnWC+/TD/4RW/iHdp6HYLRBYBwKCCNcBlmgqEBAICAQEAo8fAoIIH797KkYkEBAICAQEAutAQBDhOsASTQUCAgGBgEDg8UNAEOHjd0/FiAQCAgGBgEBgHQgIIlwHWKKpQEAgIBAQCDx+CAgifPzuqRiRQEAgIBAQCKwDAUGE6wBLNBUICAQEAgKBxw8BQYSP3z0VIxIICAQEAgKBdSAgiHAdYImmAgGBgEBAIPD4ISCI8PG7p2JEAgGBgEBAILAOBAQRrgMs0VQgIBAQCAgEHj8EBBE+fvdUjEggIBAQCAgE1oGAIMJ1gCWaCgQEAgIBgcDjh4AgwsfvnooRCQQEAgIBgcA6EBBEuA6wRFOBgEBAICAQePwQEET4+N1TMSKBgEBAICAQWAcCggjXAZZoKhAQCAgEBAKPHwKCCB+/eypGJBAQCAgEBALrQEAQ4TrAEk0FAgIBgYBA4PFDQBDh43dPxYgEAgIBgYBAYB0I/D+ED6TZ6SHC8QAAAABJRU5ErkJggg==)"
      ],
      "metadata": {
        "id": "c0uX6o9X-ztN"
      }
    },
    {
      "cell_type": "markdown",
      "source": [
        "### Бонус с использованием tf-idf к сравнению текстов"
      ],
      "metadata": {
        "id": "LkAUrZ5-_sxx"
      }
    },
    {
      "cell_type": "code",
      "source": [
        "with open('По причине души.txt', encoding='utf-8') as f:\n",
        "  text2 = f.read()\n",
        "\n",
        "with open('Краснов.txt', encoding='utf-8') as f:\n",
        "  text3 = f.read()\n",
        "\n",
        "corpus = [text, text2, text3]\n",
        "clean_corpus = [' '.join(lemm_pymorphy(i)) for i in corpus] # будем использовать чистые тексты"
      ],
      "metadata": {
        "id": "alL1D7XR-ymE"
      },
      "execution_count": null,
      "outputs": []
    },
    {
      "cell_type": "code",
      "source": [
        "from sklearn.feature_extraction.text import TfidfVectorizer\n",
        "tfidf_vectorizer = TfidfVectorizer(stop_words=stop_words)\n",
        "tfidf = tfidf_vectorizer.fit_transform(clean_corpus)\n",
        "words = tfidf_vectorizer.get_feature_names_out()\n",
        "data = tfidf.todense().tolist()\n",
        "keywords = pd.DataFrame(data, columns = words)"
      ],
      "metadata": {
        "id": "N8pXwxqNACQe"
      },
      "execution_count": null,
      "outputs": []
    },
    {
      "cell_type": "code",
      "source": [
        "res = keywords.T\n",
        "res.columns = ['Чехов', 'Краснов_По причине души', 'Краснов_Новомир']\n",
        "res"
      ],
      "metadata": {
        "id": "u-xrCzs9AKtF"
      },
      "execution_count": null,
      "outputs": []
    },
    {
      "cell_type": "code",
      "source": [
        "plt.figure(figsize=(10, 5))\n",
        "plt.scatter(res['Краснов_По причине души'], res['Краснов_Новомир'])\n",
        "plt.xlabel('Краснов_По причине души', fontsize=12)\n",
        "plt.ylabel('Краснов_Новомир', fontsize=12);"
      ],
      "metadata": {
        "id": "5aTZv7ihAegm"
      },
      "execution_count": null,
      "outputs": []
    },
    {
      "cell_type": "code",
      "source": [
        "plt.figure(figsize=(10, 5))\n",
        "plt.scatter(res['Краснов_По причине души'], res['Чехов'])\n",
        "plt.xlabel('Краснов_По причине души', fontsize=12)\n",
        "plt.ylabel('Чехов', fontsize=12);"
      ],
      "metadata": {
        "id": "B-1Lx6yWAhan"
      },
      "execution_count": null,
      "outputs": []
    },
    {
      "cell_type": "code",
      "source": [
        "plt.figure(figsize=(10, 5))\n",
        "plt.scatter(res['Краснов_Новомир'], res['Чехов'])\n",
        "plt.xlabel('Краснов_Новомир', fontsize=12)\n",
        "plt.ylabel('Чехов', fontsize=12);"
      ],
      "metadata": {
        "id": "d93Zva59AlJJ"
      },
      "execution_count": null,
      "outputs": []
    },
    {
      "cell_type": "markdown",
      "source": [
        "Забавно, но ничего непонятно: какие слова все-таки отличают тексты в большей степени?\n",
        "\n",
        "Добавим наложение подписей к точкам, но! уникальных слов - более 30 тыс., подписывать каждое не будем (иначе график будет строиться долго...)"
      ],
      "metadata": {
        "id": "EhLvTfxWAnOs"
      }
    },
    {
      "cell_type": "code",
      "source": [
        "mini = res.sort_values(by=['Чехов', 'Краснов_Новомир'], ascending=False)[:100] # срез\n",
        "\n",
        "plt.figure(figsize=(10, 5))\n",
        "plt.scatter(mini['Краснов_Новомир'], mini['Чехов'])\n",
        "\n",
        "for x_coord, y_coord, label in zip(mini['Краснов_Новомир'], mini['Чехов'], mini.index):\n",
        "    plt.text(x_coord, y_coord, label)\n",
        "\n",
        "plt.xlabel('Краснов_Новомир', fontsize=12)\n",
        "plt.ylabel('Чехов', fontsize=12);"
      ],
      "metadata": {
        "id": "I-wNsDeECtmi"
      },
      "execution_count": null,
      "outputs": []
    },
    {
      "cell_type": "code",
      "source": [
        "mini = res.sort_values(by=['Краснов_По причине души', 'Краснов_Новомир'], ascending=False)[:100]\n",
        "\n",
        "plt.figure(figsize=(10, 5))\n",
        "plt.scatter(mini['Краснов_Новомир'], mini['Краснов_По причине души'])\n",
        "\n",
        "for x_coord, y_coord, label in zip(mini['Краснов_Новомир'], mini['Краснов_По причине души'], mini.index):\n",
        "    plt.text(x_coord, y_coord, label)\n",
        "\n",
        "plt.xlabel('Краснов_Новомир', fontsize=12)\n",
        "plt.ylabel('Краснов_По причине души', fontsize=12);"
      ],
      "metadata": {
        "id": "Qo7TFC7tDcgH"
      },
      "execution_count": null,
      "outputs": []
    },
    {
      "cell_type": "markdown",
      "source": [
        "Графики немножко искажаются из-а сортировки\n",
        "\n",
        "можно так поступить вообще со всеми словами, но строиться будет значительно дольше (2-3 минуты), запускайте на свой страх и риск))"
      ],
      "metadata": {
        "id": "_N4CDGiCD8iJ"
      }
    },
    {
      "cell_type": "code",
      "source": [
        "plt.figure(figsize=(10, 5))\n",
        "plt.scatter(res['Краснов_По причине души'], res['Чехов'])\n",
        "\n",
        "for x_coord, y_coord, label in zip(res['Краснов_По причине души'], res['Чехов'], res.index):\n",
        "    plt.text(x_coord, y_coord, label)\n",
        "\n",
        "plt.xlabel('Краснов_По причине души', fontsize=12)\n",
        "plt.ylabel('Чехов', fontsize=12);"
      ],
      "metadata": {
        "id": "ZuKh9VQvEDXd"
      },
      "execution_count": null,
      "outputs": []
    },
    {
      "cell_type": "markdown",
      "source": [
        "## А если наши данные - категориальные?"
      ],
      "metadata": {
        "id": "DyXAKz4Bo8nH"
      }
    },
    {
      "cell_type": "markdown",
      "source": [
        "Иногда мы имеем дело с данными, которые выражены не числами.\n",
        "\n",
        "Предположим, имя и возраст человека:"
      ],
      "metadata": {
        "id": "JJS49RXnpE0y"
      }
    },
    {
      "cell_type": "code",
      "source": [
        "data = {'Paul' : 68, 'Jane' : 25, \"Diana\" : 102}\n",
        "names = list(data.keys())\n",
        "values = list(data.values())\n",
        "\n",
        "fig, axs = plt.subplots(1,3, figsize=(10, 3)) # subplots - позволяет строить несколько графиков рядом, в т.ч. графики разных типов\n",
        "\n",
        "axs[0].plot(names, values, \"b--\")\n",
        "axs[1].scatter(names, values, s = [i * 10 for i in values], alpha=0.5, color = \"green\")\n",
        "axs[2].bar(names, values, color = \"pink\")\n",
        "\n",
        "fig.suptitle('Categorical Plotting')\n",
        "plt.show()"
      ],
      "metadata": {
        "id": "D0hYN1MIpAtH"
      },
      "execution_count": null,
      "outputs": []
    },
    {
      "cell_type": "markdown",
      "source": [
        "См.разные типы графиков [здесь](https://matplotlib.org/stable/plot_types/index.html)\n",
        "\n",
        "Также от моих коллег - подборка разных ресурсов для вдохновения:\n",
        "\n",
        "- https://www.data-to-viz.com/ (+ Python / R)\n",
        "\n",
        "- https://datavizcatalogue.com/RU/\n",
        "\n",
        "- https://datavizproject.com/\n"
      ],
      "metadata": {
        "id": "fG16UlEZrn3g"
      }
    },
    {
      "cell_type": "markdown",
      "source": [
        "# Seaborn"
      ],
      "metadata": {
        "id": "DZ8R-J0_q_MX"
      }
    },
    {
      "cell_type": "markdown",
      "source": [
        "Простые графики можно строить в matplotlib (а еще он отлично интергрирован с pandas), но работать категориальными данными удобнее в seaborn\n",
        "\n",
        "Seaborn — это более новая надстройка над matplotlib, которая заметно проще и \"сразу делает красиво\". Документация [здесь](https://seaborn.pydata.org)\n"
      ],
      "metadata": {
        "id": "4-7-Crl8rLMF"
      }
    },
    {
      "cell_type": "code",
      "source": [
        "# !pip install seaborn"
      ],
      "metadata": {
        "id": "nWqFf0f4rDuu"
      },
      "execution_count": null,
      "outputs": []
    },
    {
      "cell_type": "code",
      "source": [
        "# import seaborn as sns"
      ],
      "metadata": {
        "id": "yDkpivN1shtT"
      },
      "execution_count": null,
      "outputs": []
    },
    {
      "cell_type": "markdown",
      "source": [
        "### Важно!\n",
        "Seaborn очень любит датафреймы - просто список ``x = [f'{i} янв' for i in range(1, 32)]`` он больше не ест\n"
      ],
      "metadata": {
        "id": "9jOwNVN9Uhv7"
      }
    },
    {
      "cell_type": "code",
      "source": [
        "# сделаем мини-датафрейм\n",
        "x = [f'{i} янв' for i in range(1, 32)]\n",
        "y = covid['Москва'][660:691]\n",
        "\n",
        "df = pd.DataFrame([x, y]).T\n",
        "df.columns=['Date', 'Number of cases']\n",
        "df"
      ],
      "metadata": {
        "id": "gjAw7CGAirTP"
      },
      "execution_count": null,
      "outputs": []
    },
    {
      "cell_type": "code",
      "source": [
        "sns.lineplot(x = 'Date', y = 'Number of cases', data=df);"
      ],
      "metadata": {
        "id": "cHpMsmaDUD9l"
      },
      "execution_count": null,
      "outputs": []
    },
    {
      "cell_type": "code",
      "source": [
        "sns.lineplot(x = 'Date', y = 'Number of cases', data=df)\n",
        "plt.xticks(rotation=90)\n",
        "plt.show() # матплотлибовские настройки тоже обычно работают"
      ],
      "metadata": {
        "id": "ur-Xu425s11q"
      },
      "execution_count": null,
      "outputs": []
    },
    {
      "cell_type": "code",
      "source": [
        "city = covid[['Москва','Санкт-Петербург']] # возьмем все данные по ковиду в М и СПб\n",
        "city"
      ],
      "metadata": {
        "id": "vMg52NOct523"
      },
      "execution_count": null,
      "outputs": []
    },
    {
      "cell_type": "code",
      "source": [
        "sns.lineplot(data = city)\n",
        "plt.show()\n",
        "# выглядит просто и красиво! Но мы теряем подписи оси x - у нашем датасете нет готовых"
      ],
      "metadata": {
        "id": "4ghg6pBftH71"
      },
      "execution_count": null,
      "outputs": []
    },
    {
      "cell_type": "markdown",
      "source": [
        "В seaborn есть несколько известных датасетов. Можно скачать [отсюда](https://github.com/mwaskom/seaborn-data), если не откроются через load_dataset(), встроенный в библиотеку"
      ],
      "metadata": {
        "id": "mX_h283iv7d0"
      }
    },
    {
      "cell_type": "code",
      "source": [
        "tips = sns.load_dataset(\"tips\")"
      ],
      "metadata": {
        "id": "Mt4Dchlfu64I"
      },
      "execution_count": null,
      "outputs": []
    },
    {
      "cell_type": "code",
      "source": [
        "tips.head()"
      ],
      "metadata": {
        "id": "BEJz88fowMwQ"
      },
      "execution_count": null,
      "outputs": []
    },
    {
      "cell_type": "code",
      "source": [
        "# если команды выше не сработали\n",
        "# датасеты можно передать в pandas прямо с гитхаба по raw-ссылке:\n",
        "tips = pd.read_csv('https://raw.githubusercontent.com/mwaskom/seaborn-data/master/tips.csv')\n",
        "tips"
      ],
      "metadata": {
        "id": "OiYAySZUwb8r"
      },
      "execution_count": null,
      "outputs": []
    },
    {
      "cell_type": "markdown",
      "source": [
        "Давайте визуализируем распределения общего счета по дням недели. Для визуализации потребуется метод .catplot() Заголовки соответвующих ячеек присвоим аргументам x и y.\n",
        "\n",
        "Тип отображения (параметр kind) тоже можно менять (попробуйте \"point\", \"bar\", \"strip\", \"swarm\", \"box\", \"violin\" или \"boxen\")"
      ],
      "metadata": {
        "id": "Y2bX3IJTxek1"
      }
    },
    {
      "cell_type": "code",
      "source": [
        "sns.catplot(x = \"day\", y = \"total_bill\", kind= \"point\", data = tips)\n",
        "plt.show()"
      ],
      "metadata": {
        "id": "eBpGsE0IlzlC"
      },
      "execution_count": null,
      "outputs": []
    },
    {
      "cell_type": "markdown",
      "source": [
        "Можно достаточно легко и быстро отобразить на графике несколько показателей:\n",
        "\n",
        "Ниже - распределение значений итогового счета(ось y) в зависимости от пола (ось x). Дополнительно цветом (параметр hue) можно закодировать еще одно значение с помощью цвета"
      ],
      "metadata": {
        "id": "O1GUmMbTx0Vn"
      }
    },
    {
      "cell_type": "code",
      "source": [
        "sns.catplot(x = \"sex\", y = \"total_bill\", hue = \"smoker\", kind = \"bar\", data = tips)\n",
        "plt.show()"
      ],
      "metadata": {
        "id": "fLjqdFo9xUXV"
      },
      "execution_count": null,
      "outputs": []
    },
    {
      "cell_type": "code",
      "source": [
        "# так выглядит распределение размера счета и чаевых\n",
        "sns.catplot(x = \"total_bill\", y = \"tip\", kind = \"strip\", hue='sex', data=tips)\n",
        "plt.show()\n",
        "# не самая удачная визуализация, еще и долго строится (ожидались категориальные данные, а у нас количественные) - есть решение лучше"
      ],
      "metadata": {
        "id": "Cm3zurjxygXw"
      },
      "execution_count": null,
      "outputs": []
    },
    {
      "cell_type": "code",
      "source": [
        "# jointplot - показывает распределение по 2 количественным переменным + в hue можно добавить категориальные данные\n",
        "sns.jointplot(x ='total_bill', y = 'tip', hue = 'sex', data = tips)\n",
        "plt.show()"
      ],
      "metadata": {
        "id": "JrWcG5AV7Jkb"
      },
      "execution_count": null,
      "outputs": []
    },
    {
      "cell_type": "code",
      "source": [
        "# можно строить линейную регрессию (для определения зависимости двух показателей, рассчитывается функция линейной зависимости)\n",
        "sns.lmplot(x ='total_bill', y = 'tip', data = tips)\n",
        "plt.show()"
      ],
      "metadata": {
        "id": "CN9b1PmI7-uy"
      },
      "execution_count": null,
      "outputs": []
    },
    {
      "cell_type": "code",
      "source": [
        "# заодно проверим, меняются ли счет / чаевые в связи со временем посещения - в обед или ужин\n",
        "sns.lmplot(x ='total_bill', y = 'tip', hue = 'time', data = tips)\n",
        "plt.show()"
      ],
      "metadata": {
        "id": "xuUK9Zvr817e"
      },
      "execution_count": null,
      "outputs": []
    },
    {
      "cell_type": "markdown",
      "source": [
        "### Несколько примеров работы с текстами:\n",
        "1. Визуализация данных [с помощью matplotlib и NLTK](https://python-bloggers.com/2023/04/visualizing-text-data/) (вы можете улучшить! как минимум, на этапе очистки текста)\n",
        "\n",
        "2. Topic Modeling от Д. Скоринкина: [тетрадка](https://colab.research.google.com/drive/1a_3_lQtI0HmaLNlouMsNjIImCP8LVFHg?usp=sharing) (важно! gensim больше не поддерживает этот модуль, так что инструкция несколько устаревшая - насколько я помню, для рисования такого графика нужно поставить старую версию pandas прямо перед тем, как отрисовать график - лучше экспериментировать в Colab)\n",
        "3. Прекрасная библиотека scattertext: [гитхаб](https://github.com/JasonKessler/scattertext) авторов проекта"
      ],
      "metadata": {
        "id": "jhulEtBdtC3O"
      }
    },
    {
      "cell_type": "markdown",
      "source": [
        "### Дополнительно:\n",
        "\n",
        "Список телеграм-каналов по анализу данных и датавизу, которые читаю я, здесь:\n",
        "\n",
        "https://t.me/naukaidannye\n",
        "\n",
        "https://t.me/chartomojka\n",
        "\n",
        "https://t.me/nastengraph\n",
        "\n",
        "https://t.me/data_publication\n",
        "\n",
        "https://t.me/dashboardets\n",
        "\n",
        "https://t.me/callmedata\n",
        "\n",
        "https://t.me/designing_numbers\n",
        "\n",
        "https://t.me/weekly_charts\n"
      ],
      "metadata": {
        "id": "JdhQ6rxAD8BN"
      }
    }
  ]
}